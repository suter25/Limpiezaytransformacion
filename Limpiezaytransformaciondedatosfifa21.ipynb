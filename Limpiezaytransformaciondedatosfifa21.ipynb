{
  "nbformat": 4,
  "nbformat_minor": 0,
  "metadata": {
    "colab": {
      "provenance": []
    },
    "kernelspec": {
      "name": "python3",
      "display_name": "Python 3"
    },
    "language_info": {
      "name": "python"
    }
  },
  "cells": [
    {
      "cell_type": "code",
      "execution_count": 1,
      "metadata": {
        "id": "nIPXd3iMW7UP"
      },
      "outputs": [],
      "source": [
        "import pandas as pd\n",
        "import numpy as np\n",
        "import matplotlib.pyplot as plt\n",
        "import seaborn as sns"
      ]
    },
    {
      "cell_type": "code",
      "source": [
        "datos=pd.read_csv('fifa21_raw_data.csv')"
      ],
      "metadata": {
        "id": "VXcjvMwaXNFL"
      },
      "execution_count": 2,
      "outputs": []
    },
    {
      "cell_type": "code",
      "source": [
        "datos.head(6)"
      ],
      "metadata": {
        "colab": {
          "base_uri": "https://localhost:8080/",
          "height": 522
        },
        "id": "33_mOYtyXVkk",
        "outputId": "24196612-0a2c-41d7-f957-ed05747a52ce"
      },
      "execution_count": 3,
      "outputs": [
        {
          "output_type": "execute_result",
          "data": {
            "text/plain": [
              "                                           photoUrl  \\\n",
              "0  https://cdn.sofifa.com/players/158/023/21_60.png   \n",
              "1  https://cdn.sofifa.com/players/020/801/21_60.png   \n",
              "2  https://cdn.sofifa.com/players/200/389/21_60.png   \n",
              "3  https://cdn.sofifa.com/players/192/985/21_60.png   \n",
              "4  https://cdn.sofifa.com/players/190/871/21_60.png   \n",
              "5  https://cdn.sofifa.com/players/188/545/21_60.png   \n",
              "\n",
              "                       LongName  \\\n",
              "0                  Lionel Messi   \n",
              "1  C. Ronaldo dos Santos Aveiro   \n",
              "2                     Jan Oblak   \n",
              "3               Kevin De Bruyne   \n",
              "4    Neymar da Silva Santos Jr.   \n",
              "5            Robert Lewandowski   \n",
              "\n",
              "                                           playerUrl Nationality Positions  \\\n",
              "0  http://sofifa.com/player/158023/lionel-messi/2...   Argentina  RW ST CF   \n",
              "1  http://sofifa.com/player/20801/c-ronaldo-dos-s...    Portugal     ST LW   \n",
              "2  http://sofifa.com/player/200389/jan-oblak/210005/    Slovenia        GK   \n",
              "3  http://sofifa.com/player/192985/kevin-de-bruyn...     Belgium    CAM CM   \n",
              "4  http://sofifa.com/player/190871/neymar-da-silv...      Brazil    LW CAM   \n",
              "5  http://sofifa.com/player/188545/robert-lewando...      Poland        ST   \n",
              "\n",
              "                Name   Age  ↓OVA   POT  \\\n",
              "0           L. Messi  33.0  93.0  93.0   \n",
              "1  Cristiano Ronaldo  35.0  92.0  92.0   \n",
              "2           J. Oblak  27.0  91.0  93.0   \n",
              "3       K. De Bruyne  29.0  91.0  91.0   \n",
              "4          Neymar Jr  28.0  91.0  91.0   \n",
              "5     R. Lewandowski  31.0  91.0  91.0   \n",
              "\n",
              "                                Team & Contract  ...     A/W     D/W   IR  \\\n",
              "0         \\n\\n\\n\\nFC Barcelona\\n2004 ~ 2021\\n\\n  ...  Medium     Low  5 ★   \n",
              "1             \\n\\n\\n\\nJuventus\\n2018 ~ 2022\\n\\n  ...    High     Low  5 ★   \n",
              "2      \\n\\n\\n\\nAtlético Madrid\\n2014 ~ 2023\\n\\n  ...  Medium  Medium  3 ★   \n",
              "3      \\n\\n\\n\\nManchester City\\n2015 ~ 2023\\n\\n  ...    High    High  4 ★   \n",
              "4  \\n\\n\\n\\nParis Saint-Germain\\n2017 ~ 2022\\n\\n  ...    High  Medium  5 ★   \n",
              "5    \\n\\n\\n\\nFC Bayern München\\n2014 ~ 2023\\n\\n  ...    High  Medium  4 ★   \n",
              "\n",
              "    PAC   SHO   PAS   DRI   DEF   PHY   Hits  \n",
              "0  85.0  92.0  91.0  95.0  38.0  65.0  \\n372  \n",
              "1  89.0  93.0  81.0  89.0  35.0  77.0  \\n344  \n",
              "2  87.0  92.0  78.0  90.0  52.0  90.0   \\n86  \n",
              "3  76.0  86.0  93.0  88.0  64.0  78.0  \\n163  \n",
              "4  91.0  85.0  86.0  94.0  36.0  59.0  \\n273  \n",
              "5  78.0  91.0  78.0  85.0  43.0  82.0  \\n182  \n",
              "\n",
              "[6 rows x 77 columns]"
            ],
            "text/html": [
              "\n",
              "\n",
              "  <div id=\"df-1384e243-d042-4d94-8e94-93ce1a2ea8e6\">\n",
              "    <div class=\"colab-df-container\">\n",
              "      <div>\n",
              "<style scoped>\n",
              "    .dataframe tbody tr th:only-of-type {\n",
              "        vertical-align: middle;\n",
              "    }\n",
              "\n",
              "    .dataframe tbody tr th {\n",
              "        vertical-align: top;\n",
              "    }\n",
              "\n",
              "    .dataframe thead th {\n",
              "        text-align: right;\n",
              "    }\n",
              "</style>\n",
              "<table border=\"1\" class=\"dataframe\">\n",
              "  <thead>\n",
              "    <tr style=\"text-align: right;\">\n",
              "      <th></th>\n",
              "      <th>photoUrl</th>\n",
              "      <th>LongName</th>\n",
              "      <th>playerUrl</th>\n",
              "      <th>Nationality</th>\n",
              "      <th>Positions</th>\n",
              "      <th>Name</th>\n",
              "      <th>Age</th>\n",
              "      <th>↓OVA</th>\n",
              "      <th>POT</th>\n",
              "      <th>Team &amp; Contract</th>\n",
              "      <th>...</th>\n",
              "      <th>A/W</th>\n",
              "      <th>D/W</th>\n",
              "      <th>IR</th>\n",
              "      <th>PAC</th>\n",
              "      <th>SHO</th>\n",
              "      <th>PAS</th>\n",
              "      <th>DRI</th>\n",
              "      <th>DEF</th>\n",
              "      <th>PHY</th>\n",
              "      <th>Hits</th>\n",
              "    </tr>\n",
              "  </thead>\n",
              "  <tbody>\n",
              "    <tr>\n",
              "      <th>0</th>\n",
              "      <td>https://cdn.sofifa.com/players/158/023/21_60.png</td>\n",
              "      <td>Lionel Messi</td>\n",
              "      <td>http://sofifa.com/player/158023/lionel-messi/2...</td>\n",
              "      <td>Argentina</td>\n",
              "      <td>RW ST CF</td>\n",
              "      <td>L. Messi</td>\n",
              "      <td>33.0</td>\n",
              "      <td>93.0</td>\n",
              "      <td>93.0</td>\n",
              "      <td>\\n\\n\\n\\nFC Barcelona\\n2004 ~ 2021\\n\\n</td>\n",
              "      <td>...</td>\n",
              "      <td>Medium</td>\n",
              "      <td>Low</td>\n",
              "      <td>5 ★</td>\n",
              "      <td>85.0</td>\n",
              "      <td>92.0</td>\n",
              "      <td>91.0</td>\n",
              "      <td>95.0</td>\n",
              "      <td>38.0</td>\n",
              "      <td>65.0</td>\n",
              "      <td>\\n372</td>\n",
              "    </tr>\n",
              "    <tr>\n",
              "      <th>1</th>\n",
              "      <td>https://cdn.sofifa.com/players/020/801/21_60.png</td>\n",
              "      <td>C. Ronaldo dos Santos Aveiro</td>\n",
              "      <td>http://sofifa.com/player/20801/c-ronaldo-dos-s...</td>\n",
              "      <td>Portugal</td>\n",
              "      <td>ST LW</td>\n",
              "      <td>Cristiano Ronaldo</td>\n",
              "      <td>35.0</td>\n",
              "      <td>92.0</td>\n",
              "      <td>92.0</td>\n",
              "      <td>\\n\\n\\n\\nJuventus\\n2018 ~ 2022\\n\\n</td>\n",
              "      <td>...</td>\n",
              "      <td>High</td>\n",
              "      <td>Low</td>\n",
              "      <td>5 ★</td>\n",
              "      <td>89.0</td>\n",
              "      <td>93.0</td>\n",
              "      <td>81.0</td>\n",
              "      <td>89.0</td>\n",
              "      <td>35.0</td>\n",
              "      <td>77.0</td>\n",
              "      <td>\\n344</td>\n",
              "    </tr>\n",
              "    <tr>\n",
              "      <th>2</th>\n",
              "      <td>https://cdn.sofifa.com/players/200/389/21_60.png</td>\n",
              "      <td>Jan Oblak</td>\n",
              "      <td>http://sofifa.com/player/200389/jan-oblak/210005/</td>\n",
              "      <td>Slovenia</td>\n",
              "      <td>GK</td>\n",
              "      <td>J. Oblak</td>\n",
              "      <td>27.0</td>\n",
              "      <td>91.0</td>\n",
              "      <td>93.0</td>\n",
              "      <td>\\n\\n\\n\\nAtlético Madrid\\n2014 ~ 2023\\n\\n</td>\n",
              "      <td>...</td>\n",
              "      <td>Medium</td>\n",
              "      <td>Medium</td>\n",
              "      <td>3 ★</td>\n",
              "      <td>87.0</td>\n",
              "      <td>92.0</td>\n",
              "      <td>78.0</td>\n",
              "      <td>90.0</td>\n",
              "      <td>52.0</td>\n",
              "      <td>90.0</td>\n",
              "      <td>\\n86</td>\n",
              "    </tr>\n",
              "    <tr>\n",
              "      <th>3</th>\n",
              "      <td>https://cdn.sofifa.com/players/192/985/21_60.png</td>\n",
              "      <td>Kevin De Bruyne</td>\n",
              "      <td>http://sofifa.com/player/192985/kevin-de-bruyn...</td>\n",
              "      <td>Belgium</td>\n",
              "      <td>CAM CM</td>\n",
              "      <td>K. De Bruyne</td>\n",
              "      <td>29.0</td>\n",
              "      <td>91.0</td>\n",
              "      <td>91.0</td>\n",
              "      <td>\\n\\n\\n\\nManchester City\\n2015 ~ 2023\\n\\n</td>\n",
              "      <td>...</td>\n",
              "      <td>High</td>\n",
              "      <td>High</td>\n",
              "      <td>4 ★</td>\n",
              "      <td>76.0</td>\n",
              "      <td>86.0</td>\n",
              "      <td>93.0</td>\n",
              "      <td>88.0</td>\n",
              "      <td>64.0</td>\n",
              "      <td>78.0</td>\n",
              "      <td>\\n163</td>\n",
              "    </tr>\n",
              "    <tr>\n",
              "      <th>4</th>\n",
              "      <td>https://cdn.sofifa.com/players/190/871/21_60.png</td>\n",
              "      <td>Neymar da Silva Santos Jr.</td>\n",
              "      <td>http://sofifa.com/player/190871/neymar-da-silv...</td>\n",
              "      <td>Brazil</td>\n",
              "      <td>LW CAM</td>\n",
              "      <td>Neymar Jr</td>\n",
              "      <td>28.0</td>\n",
              "      <td>91.0</td>\n",
              "      <td>91.0</td>\n",
              "      <td>\\n\\n\\n\\nParis Saint-Germain\\n2017 ~ 2022\\n\\n</td>\n",
              "      <td>...</td>\n",
              "      <td>High</td>\n",
              "      <td>Medium</td>\n",
              "      <td>5 ★</td>\n",
              "      <td>91.0</td>\n",
              "      <td>85.0</td>\n",
              "      <td>86.0</td>\n",
              "      <td>94.0</td>\n",
              "      <td>36.0</td>\n",
              "      <td>59.0</td>\n",
              "      <td>\\n273</td>\n",
              "    </tr>\n",
              "    <tr>\n",
              "      <th>5</th>\n",
              "      <td>https://cdn.sofifa.com/players/188/545/21_60.png</td>\n",
              "      <td>Robert Lewandowski</td>\n",
              "      <td>http://sofifa.com/player/188545/robert-lewando...</td>\n",
              "      <td>Poland</td>\n",
              "      <td>ST</td>\n",
              "      <td>R. Lewandowski</td>\n",
              "      <td>31.0</td>\n",
              "      <td>91.0</td>\n",
              "      <td>91.0</td>\n",
              "      <td>\\n\\n\\n\\nFC Bayern München\\n2014 ~ 2023\\n\\n</td>\n",
              "      <td>...</td>\n",
              "      <td>High</td>\n",
              "      <td>Medium</td>\n",
              "      <td>4 ★</td>\n",
              "      <td>78.0</td>\n",
              "      <td>91.0</td>\n",
              "      <td>78.0</td>\n",
              "      <td>85.0</td>\n",
              "      <td>43.0</td>\n",
              "      <td>82.0</td>\n",
              "      <td>\\n182</td>\n",
              "    </tr>\n",
              "  </tbody>\n",
              "</table>\n",
              "<p>6 rows × 77 columns</p>\n",
              "</div>\n",
              "      <button class=\"colab-df-convert\" onclick=\"convertToInteractive('df-1384e243-d042-4d94-8e94-93ce1a2ea8e6')\"\n",
              "              title=\"Convert this dataframe to an interactive table.\"\n",
              "              style=\"display:none;\">\n",
              "\n",
              "  <svg xmlns=\"http://www.w3.org/2000/svg\" height=\"24px\"viewBox=\"0 0 24 24\"\n",
              "       width=\"24px\">\n",
              "    <path d=\"M0 0h24v24H0V0z\" fill=\"none\"/>\n",
              "    <path d=\"M18.56 5.44l.94 2.06.94-2.06 2.06-.94-2.06-.94-.94-2.06-.94 2.06-2.06.94zm-11 1L8.5 8.5l.94-2.06 2.06-.94-2.06-.94L8.5 2.5l-.94 2.06-2.06.94zm10 10l.94 2.06.94-2.06 2.06-.94-2.06-.94-.94-2.06-.94 2.06-2.06.94z\"/><path d=\"M17.41 7.96l-1.37-1.37c-.4-.4-.92-.59-1.43-.59-.52 0-1.04.2-1.43.59L10.3 9.45l-7.72 7.72c-.78.78-.78 2.05 0 2.83L4 21.41c.39.39.9.59 1.41.59.51 0 1.02-.2 1.41-.59l7.78-7.78 2.81-2.81c.8-.78.8-2.07 0-2.86zM5.41 20L4 18.59l7.72-7.72 1.47 1.35L5.41 20z\"/>\n",
              "  </svg>\n",
              "      </button>\n",
              "\n",
              "\n",
              "\n",
              "    <div id=\"df-64c76b30-9d27-4191-b1c3-cea14921115a\">\n",
              "      <button class=\"colab-df-quickchart\" onclick=\"quickchart('df-64c76b30-9d27-4191-b1c3-cea14921115a')\"\n",
              "              title=\"Suggest charts.\"\n",
              "              style=\"display:none;\">\n",
              "\n",
              "<svg xmlns=\"http://www.w3.org/2000/svg\" height=\"24px\"viewBox=\"0 0 24 24\"\n",
              "     width=\"24px\">\n",
              "    <g>\n",
              "        <path d=\"M19 3H5c-1.1 0-2 .9-2 2v14c0 1.1.9 2 2 2h14c1.1 0 2-.9 2-2V5c0-1.1-.9-2-2-2zM9 17H7v-7h2v7zm4 0h-2V7h2v10zm4 0h-2v-4h2v4z\"/>\n",
              "    </g>\n",
              "</svg>\n",
              "      </button>\n",
              "    </div>\n",
              "\n",
              "<style>\n",
              "  .colab-df-quickchart {\n",
              "    background-color: #E8F0FE;\n",
              "    border: none;\n",
              "    border-radius: 50%;\n",
              "    cursor: pointer;\n",
              "    display: none;\n",
              "    fill: #1967D2;\n",
              "    height: 32px;\n",
              "    padding: 0 0 0 0;\n",
              "    width: 32px;\n",
              "  }\n",
              "\n",
              "  .colab-df-quickchart:hover {\n",
              "    background-color: #E2EBFA;\n",
              "    box-shadow: 0px 1px 2px rgba(60, 64, 67, 0.3), 0px 1px 3px 1px rgba(60, 64, 67, 0.15);\n",
              "    fill: #174EA6;\n",
              "  }\n",
              "\n",
              "  [theme=dark] .colab-df-quickchart {\n",
              "    background-color: #3B4455;\n",
              "    fill: #D2E3FC;\n",
              "  }\n",
              "\n",
              "  [theme=dark] .colab-df-quickchart:hover {\n",
              "    background-color: #434B5C;\n",
              "    box-shadow: 0px 1px 3px 1px rgba(0, 0, 0, 0.15);\n",
              "    filter: drop-shadow(0px 1px 2px rgba(0, 0, 0, 0.3));\n",
              "    fill: #FFFFFF;\n",
              "  }\n",
              "</style>\n",
              "\n",
              "    <script>\n",
              "      async function quickchart(key) {\n",
              "        const containerElement = document.querySelector('#' + key);\n",
              "        const charts = await google.colab.kernel.invokeFunction(\n",
              "            'suggestCharts', [key], {});\n",
              "      }\n",
              "    </script>\n",
              "\n",
              "      <script>\n",
              "\n",
              "function displayQuickchartButton(domScope) {\n",
              "  let quickchartButtonEl =\n",
              "    domScope.querySelector('#df-64c76b30-9d27-4191-b1c3-cea14921115a button.colab-df-quickchart');\n",
              "  quickchartButtonEl.style.display =\n",
              "    google.colab.kernel.accessAllowed ? 'block' : 'none';\n",
              "}\n",
              "\n",
              "        displayQuickchartButton(document);\n",
              "      </script>\n",
              "      <style>\n",
              "    .colab-df-container {\n",
              "      display:flex;\n",
              "      flex-wrap:wrap;\n",
              "      gap: 12px;\n",
              "    }\n",
              "\n",
              "    .colab-df-convert {\n",
              "      background-color: #E8F0FE;\n",
              "      border: none;\n",
              "      border-radius: 50%;\n",
              "      cursor: pointer;\n",
              "      display: none;\n",
              "      fill: #1967D2;\n",
              "      height: 32px;\n",
              "      padding: 0 0 0 0;\n",
              "      width: 32px;\n",
              "    }\n",
              "\n",
              "    .colab-df-convert:hover {\n",
              "      background-color: #E2EBFA;\n",
              "      box-shadow: 0px 1px 2px rgba(60, 64, 67, 0.3), 0px 1px 3px 1px rgba(60, 64, 67, 0.15);\n",
              "      fill: #174EA6;\n",
              "    }\n",
              "\n",
              "    [theme=dark] .colab-df-convert {\n",
              "      background-color: #3B4455;\n",
              "      fill: #D2E3FC;\n",
              "    }\n",
              "\n",
              "    [theme=dark] .colab-df-convert:hover {\n",
              "      background-color: #434B5C;\n",
              "      box-shadow: 0px 1px 3px 1px rgba(0, 0, 0, 0.15);\n",
              "      filter: drop-shadow(0px 1px 2px rgba(0, 0, 0, 0.3));\n",
              "      fill: #FFFFFF;\n",
              "    }\n",
              "  </style>\n",
              "\n",
              "      <script>\n",
              "        const buttonEl =\n",
              "          document.querySelector('#df-1384e243-d042-4d94-8e94-93ce1a2ea8e6 button.colab-df-convert');\n",
              "        buttonEl.style.display =\n",
              "          google.colab.kernel.accessAllowed ? 'block' : 'none';\n",
              "\n",
              "        async function convertToInteractive(key) {\n",
              "          const element = document.querySelector('#df-1384e243-d042-4d94-8e94-93ce1a2ea8e6');\n",
              "          const dataTable =\n",
              "            await google.colab.kernel.invokeFunction('convertToInteractive',\n",
              "                                                     [key], {});\n",
              "          if (!dataTable) return;\n",
              "\n",
              "          const docLinkHtml = 'Like what you see? Visit the ' +\n",
              "            '<a target=\"_blank\" href=https://colab.research.google.com/notebooks/data_table.ipynb>data table notebook</a>'\n",
              "            + ' to learn more about interactive tables.';\n",
              "          element.innerHTML = '';\n",
              "          dataTable['output_type'] = 'display_data';\n",
              "          await google.colab.output.renderOutput(dataTable, element);\n",
              "          const docLink = document.createElement('div');\n",
              "          docLink.innerHTML = docLinkHtml;\n",
              "          element.appendChild(docLink);\n",
              "        }\n",
              "      </script>\n",
              "    </div>\n",
              "  </div>\n"
            ]
          },
          "metadata": {},
          "execution_count": 3
        }
      ]
    },
    {
      "cell_type": "code",
      "source": [
        "datos.info()"
      ],
      "metadata": {
        "colab": {
          "base_uri": "https://localhost:8080/"
        },
        "id": "Wnzh5dvYX3uE",
        "outputId": "6596dfff-ca89-4b2a-c581-d3b82a34f2e7"
      },
      "execution_count": 4,
      "outputs": [
        {
          "output_type": "stream",
          "name": "stdout",
          "text": [
            "<class 'pandas.core.frame.DataFrame'>\n",
            "RangeIndex: 4561 entries, 0 to 4560\n",
            "Data columns (total 77 columns):\n",
            " #   Column            Non-Null Count  Dtype  \n",
            "---  ------            --------------  -----  \n",
            " 0   photoUrl          4561 non-null   object \n",
            " 1   LongName          4561 non-null   object \n",
            " 2   playerUrl         4560 non-null   object \n",
            " 3   Nationality       4560 non-null   object \n",
            " 4   Positions         4560 non-null   object \n",
            " 5   Name              4560 non-null   object \n",
            " 6   Age               4560 non-null   float64\n",
            " 7   ↓OVA              4560 non-null   float64\n",
            " 8   POT               4560 non-null   float64\n",
            " 9   Team & Contract   4560 non-null   object \n",
            " 10  ID                4560 non-null   float64\n",
            " 11  Height            4560 non-null   object \n",
            " 12  Weight            4560 non-null   object \n",
            " 13  foot              4560 non-null   object \n",
            " 14  BOV               4560 non-null   float64\n",
            " 15  BP                4560 non-null   object \n",
            " 16  Growth            4560 non-null   float64\n",
            " 17  Joined            4560 non-null   object \n",
            " 18  Loan Date End     263 non-null    object \n",
            " 19  Value             4560 non-null   object \n",
            " 20  Wage              4560 non-null   object \n",
            " 21  Release Clause    4560 non-null   object \n",
            " 22  Attacking         4560 non-null   float64\n",
            " 23  Crossing          4560 non-null   float64\n",
            " 24  Finishing         4560 non-null   float64\n",
            " 25  Heading Accuracy  4560 non-null   float64\n",
            " 26  Short Passing     4560 non-null   float64\n",
            " 27  Volleys           4560 non-null   float64\n",
            " 28  Skill             4560 non-null   float64\n",
            " 29  Dribbling         4560 non-null   float64\n",
            " 30  Curve             4560 non-null   float64\n",
            " 31  FK Accuracy       4560 non-null   float64\n",
            " 32  Long Passing      4560 non-null   float64\n",
            " 33  Ball Control      4560 non-null   float64\n",
            " 34  Movement          4560 non-null   float64\n",
            " 35  Acceleration      4560 non-null   float64\n",
            " 36  Sprint Speed      4560 non-null   float64\n",
            " 37  Agility           4560 non-null   float64\n",
            " 38  Reactions         4560 non-null   float64\n",
            " 39  Balance           4560 non-null   float64\n",
            " 40  Power             4560 non-null   float64\n",
            " 41  Shot Power        4560 non-null   float64\n",
            " 42  Jumping           4560 non-null   float64\n",
            " 43  Stamina           4560 non-null   float64\n",
            " 44  Strength          4560 non-null   float64\n",
            " 45  Long Shots        4560 non-null   float64\n",
            " 46  Mentality         4560 non-null   float64\n",
            " 47  Aggression        4560 non-null   float64\n",
            " 48  Interceptions     4560 non-null   float64\n",
            " 49  Positioning       4560 non-null   float64\n",
            " 50  Vision            4560 non-null   float64\n",
            " 51  Penalties         4560 non-null   float64\n",
            " 52  Composure         4560 non-null   float64\n",
            " 53  Defending         4560 non-null   float64\n",
            " 54  Marking           4560 non-null   float64\n",
            " 55  Standing Tackle   4560 non-null   float64\n",
            " 56  Sliding Tackle    4560 non-null   float64\n",
            " 57  Goalkeeping       4560 non-null   float64\n",
            " 58  GK Diving         4560 non-null   float64\n",
            " 59  GK Handling       4560 non-null   float64\n",
            " 60  GK Kicking        4560 non-null   float64\n",
            " 61  GK Positioning    4560 non-null   float64\n",
            " 62  GK Reflexes       4560 non-null   float64\n",
            " 63  Total Stats       4560 non-null   float64\n",
            " 64  Base Stats        4560 non-null   float64\n",
            " 65  W/F               4560 non-null   object \n",
            " 66  SM                4560 non-null   object \n",
            " 67  A/W               4560 non-null   object \n",
            " 68  D/W               4560 non-null   object \n",
            " 69  IR                4560 non-null   object \n",
            " 70  PAC               4560 non-null   float64\n",
            " 71  SHO               4560 non-null   float64\n",
            " 72  PAS               4560 non-null   float64\n",
            " 73  DRI               4560 non-null   float64\n",
            " 74  DEF               4560 non-null   float64\n",
            " 75  PHY               4560 non-null   float64\n",
            " 76  Hits              4560 non-null   object \n",
            "dtypes: float64(55), object(22)\n",
            "memory usage: 2.7+ MB\n"
          ]
        }
      ]
    },
    {
      "cell_type": "markdown",
      "source": [
        "**Convertir y cambiar el tipo de datos de Weight y Height**"
      ],
      "metadata": {
        "id": "ZvNXO1EzHmUS"
      }
    },
    {
      "cell_type": "code",
      "source": [
        "datos['Weight']\n"
      ],
      "metadata": {
        "colab": {
          "base_uri": "https://localhost:8080/"
        },
        "id": "m8kRuWMLYZ45",
        "outputId": "ea0fdb21-e1be-437c-dadb-964c3faad49f"
      },
      "execution_count": 5,
      "outputs": [
        {
          "output_type": "execute_result",
          "data": {
            "text/plain": [
              "0       159lbs\n",
              "1       183lbs\n",
              "2       192lbs\n",
              "3       154lbs\n",
              "4       150lbs\n",
              "         ...  \n",
              "4556    179lbs\n",
              "4557    179lbs\n",
              "4558    161lbs\n",
              "4559    198lbs\n",
              "4560       NaN\n",
              "Name: Weight, Length: 4561, dtype: object"
            ]
          },
          "metadata": {},
          "execution_count": 5
        }
      ]
    },
    {
      "cell_type": "code",
      "source": [
        "datos['Weight']=datos.Weight.str.extract('(\\d+)')\n",
        "datos['Height']\n"
      ],
      "metadata": {
        "colab": {
          "base_uri": "https://localhost:8080/"
        },
        "id": "WVLf9oUceHGQ",
        "outputId": "9325953b-34eb-47a8-dda6-8e05a3256068"
      },
      "execution_count": 6,
      "outputs": [
        {
          "output_type": "execute_result",
          "data": {
            "text/plain": [
              "0        5'7\"\n",
              "1        6'2\"\n",
              "2        6'2\"\n",
              "3       5'11\"\n",
              "4        5'9\"\n",
              "        ...  \n",
              "4556    5'10\"\n",
              "4557     6'2\"\n",
              "4558     6'0\"\n",
              "4559     6'4\"\n",
              "4560      NaN\n",
              "Name: Height, Length: 4561, dtype: object"
            ]
          },
          "metadata": {},
          "execution_count": 6
        }
      ]
    },
    {
      "cell_type": "code",
      "source": [
        "datos['Height']"
      ],
      "metadata": {
        "colab": {
          "base_uri": "https://localhost:8080/"
        },
        "id": "mC4rDt5mga6o",
        "outputId": "6ab68bf8-a033-4023-cb10-17b06086a73d"
      },
      "execution_count": 7,
      "outputs": [
        {
          "output_type": "execute_result",
          "data": {
            "text/plain": [
              "0        5'7\"\n",
              "1        6'2\"\n",
              "2        6'2\"\n",
              "3       5'11\"\n",
              "4        5'9\"\n",
              "        ...  \n",
              "4556    5'10\"\n",
              "4557     6'2\"\n",
              "4558     6'0\"\n",
              "4559     6'4\"\n",
              "4560      NaN\n",
              "Name: Height, Length: 4561, dtype: object"
            ]
          },
          "metadata": {},
          "execution_count": 7
        }
      ]
    },
    {
      "cell_type": "code",
      "source": [
        "datos['Height cm']= (datos['Height'].str.extract(r'(\\d+)\\'\\s*(\\d+)\"')\n",
        " .astype(float)\n",
        " .mul([12*2.54, 2.54])\n",
        " .sum(axis=1)\n",
        " )"
      ],
      "metadata": {
        "id": "FkkUs_ha6UI-"
      },
      "execution_count": 8,
      "outputs": []
    },
    {
      "cell_type": "code",
      "source": [
        "datos['Height cm']"
      ],
      "metadata": {
        "colab": {
          "base_uri": "https://localhost:8080/"
        },
        "id": "hhsFCF8XFxFC",
        "outputId": "fca2d8df-dba0-4978-e6bd-29951307058d"
      },
      "execution_count": 9,
      "outputs": [
        {
          "output_type": "execute_result",
          "data": {
            "text/plain": [
              "0       170.18\n",
              "1       187.96\n",
              "2       187.96\n",
              "3       180.34\n",
              "4       175.26\n",
              "         ...  \n",
              "4556    177.80\n",
              "4557    187.96\n",
              "4558    182.88\n",
              "4559    193.04\n",
              "4560      0.00\n",
              "Name: Height cm, Length: 4561, dtype: float64"
            ]
          },
          "metadata": {},
          "execution_count": 9
        }
      ]
    },
    {
      "cell_type": "markdown",
      "source": [
        "Eliminar la columna Height que esta en pulgadas"
      ],
      "metadata": {
        "id": "7LXMLZVOGjSD"
      }
    },
    {
      "cell_type": "code",
      "source": [
        "datos=datos.drop(columns=['Height'])\n"
      ],
      "metadata": {
        "id": "KxMAE-WkGmpu"
      },
      "execution_count": 10,
      "outputs": []
    },
    {
      "cell_type": "code",
      "source": [
        "datos.info()"
      ],
      "metadata": {
        "colab": {
          "base_uri": "https://localhost:8080/"
        },
        "id": "HKj-b7ExGs82",
        "outputId": "a393f2b5-7158-4177-a8b0-44613a2bbe8f"
      },
      "execution_count": 11,
      "outputs": [
        {
          "output_type": "stream",
          "name": "stdout",
          "text": [
            "<class 'pandas.core.frame.DataFrame'>\n",
            "RangeIndex: 4561 entries, 0 to 4560\n",
            "Data columns (total 77 columns):\n",
            " #   Column            Non-Null Count  Dtype  \n",
            "---  ------            --------------  -----  \n",
            " 0   photoUrl          4561 non-null   object \n",
            " 1   LongName          4561 non-null   object \n",
            " 2   playerUrl         4560 non-null   object \n",
            " 3   Nationality       4560 non-null   object \n",
            " 4   Positions         4560 non-null   object \n",
            " 5   Name              4560 non-null   object \n",
            " 6   Age               4560 non-null   float64\n",
            " 7   ↓OVA              4560 non-null   float64\n",
            " 8   POT               4560 non-null   float64\n",
            " 9   Team & Contract   4560 non-null   object \n",
            " 10  ID                4560 non-null   float64\n",
            " 11  Weight            4560 non-null   object \n",
            " 12  foot              4560 non-null   object \n",
            " 13  BOV               4560 non-null   float64\n",
            " 14  BP                4560 non-null   object \n",
            " 15  Growth            4560 non-null   float64\n",
            " 16  Joined            4560 non-null   object \n",
            " 17  Loan Date End     263 non-null    object \n",
            " 18  Value             4560 non-null   object \n",
            " 19  Wage              4560 non-null   object \n",
            " 20  Release Clause    4560 non-null   object \n",
            " 21  Attacking         4560 non-null   float64\n",
            " 22  Crossing          4560 non-null   float64\n",
            " 23  Finishing         4560 non-null   float64\n",
            " 24  Heading Accuracy  4560 non-null   float64\n",
            " 25  Short Passing     4560 non-null   float64\n",
            " 26  Volleys           4560 non-null   float64\n",
            " 27  Skill             4560 non-null   float64\n",
            " 28  Dribbling         4560 non-null   float64\n",
            " 29  Curve             4560 non-null   float64\n",
            " 30  FK Accuracy       4560 non-null   float64\n",
            " 31  Long Passing      4560 non-null   float64\n",
            " 32  Ball Control      4560 non-null   float64\n",
            " 33  Movement          4560 non-null   float64\n",
            " 34  Acceleration      4560 non-null   float64\n",
            " 35  Sprint Speed      4560 non-null   float64\n",
            " 36  Agility           4560 non-null   float64\n",
            " 37  Reactions         4560 non-null   float64\n",
            " 38  Balance           4560 non-null   float64\n",
            " 39  Power             4560 non-null   float64\n",
            " 40  Shot Power        4560 non-null   float64\n",
            " 41  Jumping           4560 non-null   float64\n",
            " 42  Stamina           4560 non-null   float64\n",
            " 43  Strength          4560 non-null   float64\n",
            " 44  Long Shots        4560 non-null   float64\n",
            " 45  Mentality         4560 non-null   float64\n",
            " 46  Aggression        4560 non-null   float64\n",
            " 47  Interceptions     4560 non-null   float64\n",
            " 48  Positioning       4560 non-null   float64\n",
            " 49  Vision            4560 non-null   float64\n",
            " 50  Penalties         4560 non-null   float64\n",
            " 51  Composure         4560 non-null   float64\n",
            " 52  Defending         4560 non-null   float64\n",
            " 53  Marking           4560 non-null   float64\n",
            " 54  Standing Tackle   4560 non-null   float64\n",
            " 55  Sliding Tackle    4560 non-null   float64\n",
            " 56  Goalkeeping       4560 non-null   float64\n",
            " 57  GK Diving         4560 non-null   float64\n",
            " 58  GK Handling       4560 non-null   float64\n",
            " 59  GK Kicking        4560 non-null   float64\n",
            " 60  GK Positioning    4560 non-null   float64\n",
            " 61  GK Reflexes       4560 non-null   float64\n",
            " 62  Total Stats       4560 non-null   float64\n",
            " 63  Base Stats        4560 non-null   float64\n",
            " 64  W/F               4560 non-null   object \n",
            " 65  SM                4560 non-null   object \n",
            " 66  A/W               4560 non-null   object \n",
            " 67  D/W               4560 non-null   object \n",
            " 68  IR                4560 non-null   object \n",
            " 69  PAC               4560 non-null   float64\n",
            " 70  SHO               4560 non-null   float64\n",
            " 71  PAS               4560 non-null   float64\n",
            " 72  DRI               4560 non-null   float64\n",
            " 73  DEF               4560 non-null   float64\n",
            " 74  PHY               4560 non-null   float64\n",
            " 75  Hits              4560 non-null   object \n",
            " 76  Height cm         4561 non-null   float64\n",
            "dtypes: float64(56), object(21)\n",
            "memory usage: 2.7+ MB\n"
          ]
        }
      ]
    },
    {
      "cell_type": "code",
      "source": [
        "datos['Weight'].astype(int)"
      ],
      "metadata": {
        "colab": {
          "base_uri": "https://localhost:8080/",
          "height": 311
        },
        "id": "Fdnof3Vkf-hK",
        "outputId": "7afa836f-2ea5-49b4-e770-c91084e6a3bd"
      },
      "execution_count": 12,
      "outputs": [
        {
          "output_type": "error",
          "ename": "ValueError",
          "evalue": "ignored",
          "traceback": [
            "\u001b[0;31m---------------------------------------------------------------------------\u001b[0m",
            "\u001b[0;31mValueError\u001b[0m                                Traceback (most recent call last)",
            "\u001b[0;32m<ipython-input-12-bd9854ce2bbc>\u001b[0m in \u001b[0;36m<cell line: 1>\u001b[0;34m()\u001b[0m\n\u001b[0;32m----> 1\u001b[0;31m \u001b[0mdatos\u001b[0m\u001b[0;34m[\u001b[0m\u001b[0;34m'Weight'\u001b[0m\u001b[0;34m]\u001b[0m\u001b[0;34m.\u001b[0m\u001b[0mastype\u001b[0m\u001b[0;34m(\u001b[0m\u001b[0mint\u001b[0m\u001b[0;34m)\u001b[0m\u001b[0;34m\u001b[0m\u001b[0;34m\u001b[0m\u001b[0m\n\u001b[0m",
            "\u001b[0;32m/usr/local/lib/python3.10/dist-packages/pandas/core/generic.py\u001b[0m in \u001b[0;36mastype\u001b[0;34m(self, dtype, copy, errors)\u001b[0m\n\u001b[1;32m   6238\u001b[0m         \u001b[0;32melse\u001b[0m\u001b[0;34m:\u001b[0m\u001b[0;34m\u001b[0m\u001b[0;34m\u001b[0m\u001b[0m\n\u001b[1;32m   6239\u001b[0m             \u001b[0;31m# else, only a single dtype is given\u001b[0m\u001b[0;34m\u001b[0m\u001b[0;34m\u001b[0m\u001b[0m\n\u001b[0;32m-> 6240\u001b[0;31m             \u001b[0mnew_data\u001b[0m \u001b[0;34m=\u001b[0m \u001b[0mself\u001b[0m\u001b[0;34m.\u001b[0m\u001b[0m_mgr\u001b[0m\u001b[0;34m.\u001b[0m\u001b[0mastype\u001b[0m\u001b[0;34m(\u001b[0m\u001b[0mdtype\u001b[0m\u001b[0;34m=\u001b[0m\u001b[0mdtype\u001b[0m\u001b[0;34m,\u001b[0m \u001b[0mcopy\u001b[0m\u001b[0;34m=\u001b[0m\u001b[0mcopy\u001b[0m\u001b[0;34m,\u001b[0m \u001b[0merrors\u001b[0m\u001b[0;34m=\u001b[0m\u001b[0merrors\u001b[0m\u001b[0;34m)\u001b[0m\u001b[0;34m\u001b[0m\u001b[0;34m\u001b[0m\u001b[0m\n\u001b[0m\u001b[1;32m   6241\u001b[0m             \u001b[0;32mreturn\u001b[0m \u001b[0mself\u001b[0m\u001b[0;34m.\u001b[0m\u001b[0m_constructor\u001b[0m\u001b[0;34m(\u001b[0m\u001b[0mnew_data\u001b[0m\u001b[0;34m)\u001b[0m\u001b[0;34m.\u001b[0m\u001b[0m__finalize__\u001b[0m\u001b[0;34m(\u001b[0m\u001b[0mself\u001b[0m\u001b[0;34m,\u001b[0m \u001b[0mmethod\u001b[0m\u001b[0;34m=\u001b[0m\u001b[0;34m\"astype\"\u001b[0m\u001b[0;34m)\u001b[0m\u001b[0;34m\u001b[0m\u001b[0;34m\u001b[0m\u001b[0m\n\u001b[1;32m   6242\u001b[0m \u001b[0;34m\u001b[0m\u001b[0m\n",
            "\u001b[0;32m/usr/local/lib/python3.10/dist-packages/pandas/core/internals/managers.py\u001b[0m in \u001b[0;36mastype\u001b[0;34m(self, dtype, copy, errors)\u001b[0m\n\u001b[1;32m    446\u001b[0m \u001b[0;34m\u001b[0m\u001b[0m\n\u001b[1;32m    447\u001b[0m     \u001b[0;32mdef\u001b[0m \u001b[0mastype\u001b[0m\u001b[0;34m(\u001b[0m\u001b[0mself\u001b[0m\u001b[0;34m:\u001b[0m \u001b[0mT\u001b[0m\u001b[0;34m,\u001b[0m \u001b[0mdtype\u001b[0m\u001b[0;34m,\u001b[0m \u001b[0mcopy\u001b[0m\u001b[0;34m:\u001b[0m \u001b[0mbool\u001b[0m \u001b[0;34m=\u001b[0m \u001b[0;32mFalse\u001b[0m\u001b[0;34m,\u001b[0m \u001b[0merrors\u001b[0m\u001b[0;34m:\u001b[0m \u001b[0mstr\u001b[0m \u001b[0;34m=\u001b[0m \u001b[0;34m\"raise\"\u001b[0m\u001b[0;34m)\u001b[0m \u001b[0;34m->\u001b[0m \u001b[0mT\u001b[0m\u001b[0;34m:\u001b[0m\u001b[0;34m\u001b[0m\u001b[0;34m\u001b[0m\u001b[0m\n\u001b[0;32m--> 448\u001b[0;31m         \u001b[0;32mreturn\u001b[0m \u001b[0mself\u001b[0m\u001b[0;34m.\u001b[0m\u001b[0mapply\u001b[0m\u001b[0;34m(\u001b[0m\u001b[0;34m\"astype\"\u001b[0m\u001b[0;34m,\u001b[0m \u001b[0mdtype\u001b[0m\u001b[0;34m=\u001b[0m\u001b[0mdtype\u001b[0m\u001b[0;34m,\u001b[0m \u001b[0mcopy\u001b[0m\u001b[0;34m=\u001b[0m\u001b[0mcopy\u001b[0m\u001b[0;34m,\u001b[0m \u001b[0merrors\u001b[0m\u001b[0;34m=\u001b[0m\u001b[0merrors\u001b[0m\u001b[0;34m)\u001b[0m\u001b[0;34m\u001b[0m\u001b[0;34m\u001b[0m\u001b[0m\n\u001b[0m\u001b[1;32m    449\u001b[0m \u001b[0;34m\u001b[0m\u001b[0m\n\u001b[1;32m    450\u001b[0m     def convert(\n",
            "\u001b[0;32m/usr/local/lib/python3.10/dist-packages/pandas/core/internals/managers.py\u001b[0m in \u001b[0;36mapply\u001b[0;34m(self, f, align_keys, ignore_failures, **kwargs)\u001b[0m\n\u001b[1;32m    350\u001b[0m                     \u001b[0mapplied\u001b[0m \u001b[0;34m=\u001b[0m \u001b[0mb\u001b[0m\u001b[0;34m.\u001b[0m\u001b[0mapply\u001b[0m\u001b[0;34m(\u001b[0m\u001b[0mf\u001b[0m\u001b[0;34m,\u001b[0m \u001b[0;34m**\u001b[0m\u001b[0mkwargs\u001b[0m\u001b[0;34m)\u001b[0m\u001b[0;34m\u001b[0m\u001b[0;34m\u001b[0m\u001b[0m\n\u001b[1;32m    351\u001b[0m                 \u001b[0;32melse\u001b[0m\u001b[0;34m:\u001b[0m\u001b[0;34m\u001b[0m\u001b[0;34m\u001b[0m\u001b[0m\n\u001b[0;32m--> 352\u001b[0;31m                     \u001b[0mapplied\u001b[0m \u001b[0;34m=\u001b[0m \u001b[0mgetattr\u001b[0m\u001b[0;34m(\u001b[0m\u001b[0mb\u001b[0m\u001b[0;34m,\u001b[0m \u001b[0mf\u001b[0m\u001b[0;34m)\u001b[0m\u001b[0;34m(\u001b[0m\u001b[0;34m**\u001b[0m\u001b[0mkwargs\u001b[0m\u001b[0;34m)\u001b[0m\u001b[0;34m\u001b[0m\u001b[0;34m\u001b[0m\u001b[0m\n\u001b[0m\u001b[1;32m    353\u001b[0m             \u001b[0;32mexcept\u001b[0m \u001b[0;34m(\u001b[0m\u001b[0mTypeError\u001b[0m\u001b[0;34m,\u001b[0m \u001b[0mNotImplementedError\u001b[0m\u001b[0;34m)\u001b[0m\u001b[0;34m:\u001b[0m\u001b[0;34m\u001b[0m\u001b[0;34m\u001b[0m\u001b[0m\n\u001b[1;32m    354\u001b[0m                 \u001b[0;32mif\u001b[0m \u001b[0;32mnot\u001b[0m \u001b[0mignore_failures\u001b[0m\u001b[0;34m:\u001b[0m\u001b[0;34m\u001b[0m\u001b[0;34m\u001b[0m\u001b[0m\n",
            "\u001b[0;32m/usr/local/lib/python3.10/dist-packages/pandas/core/internals/blocks.py\u001b[0m in \u001b[0;36mastype\u001b[0;34m(self, dtype, copy, errors)\u001b[0m\n\u001b[1;32m    524\u001b[0m         \u001b[0mvalues\u001b[0m \u001b[0;34m=\u001b[0m \u001b[0mself\u001b[0m\u001b[0;34m.\u001b[0m\u001b[0mvalues\u001b[0m\u001b[0;34m\u001b[0m\u001b[0;34m\u001b[0m\u001b[0m\n\u001b[1;32m    525\u001b[0m \u001b[0;34m\u001b[0m\u001b[0m\n\u001b[0;32m--> 526\u001b[0;31m         \u001b[0mnew_values\u001b[0m \u001b[0;34m=\u001b[0m \u001b[0mastype_array_safe\u001b[0m\u001b[0;34m(\u001b[0m\u001b[0mvalues\u001b[0m\u001b[0;34m,\u001b[0m \u001b[0mdtype\u001b[0m\u001b[0;34m,\u001b[0m \u001b[0mcopy\u001b[0m\u001b[0;34m=\u001b[0m\u001b[0mcopy\u001b[0m\u001b[0;34m,\u001b[0m \u001b[0merrors\u001b[0m\u001b[0;34m=\u001b[0m\u001b[0merrors\u001b[0m\u001b[0;34m)\u001b[0m\u001b[0;34m\u001b[0m\u001b[0;34m\u001b[0m\u001b[0m\n\u001b[0m\u001b[1;32m    527\u001b[0m \u001b[0;34m\u001b[0m\u001b[0m\n\u001b[1;32m    528\u001b[0m         \u001b[0mnew_values\u001b[0m \u001b[0;34m=\u001b[0m \u001b[0mmaybe_coerce_values\u001b[0m\u001b[0;34m(\u001b[0m\u001b[0mnew_values\u001b[0m\u001b[0;34m)\u001b[0m\u001b[0;34m\u001b[0m\u001b[0;34m\u001b[0m\u001b[0m\n",
            "\u001b[0;32m/usr/local/lib/python3.10/dist-packages/pandas/core/dtypes/astype.py\u001b[0m in \u001b[0;36mastype_array_safe\u001b[0;34m(values, dtype, copy, errors)\u001b[0m\n\u001b[1;32m    297\u001b[0m \u001b[0;34m\u001b[0m\u001b[0m\n\u001b[1;32m    298\u001b[0m     \u001b[0;32mtry\u001b[0m\u001b[0;34m:\u001b[0m\u001b[0;34m\u001b[0m\u001b[0;34m\u001b[0m\u001b[0m\n\u001b[0;32m--> 299\u001b[0;31m         \u001b[0mnew_values\u001b[0m \u001b[0;34m=\u001b[0m \u001b[0mastype_array\u001b[0m\u001b[0;34m(\u001b[0m\u001b[0mvalues\u001b[0m\u001b[0;34m,\u001b[0m \u001b[0mdtype\u001b[0m\u001b[0;34m,\u001b[0m \u001b[0mcopy\u001b[0m\u001b[0;34m=\u001b[0m\u001b[0mcopy\u001b[0m\u001b[0;34m)\u001b[0m\u001b[0;34m\u001b[0m\u001b[0;34m\u001b[0m\u001b[0m\n\u001b[0m\u001b[1;32m    300\u001b[0m     \u001b[0;32mexcept\u001b[0m \u001b[0;34m(\u001b[0m\u001b[0mValueError\u001b[0m\u001b[0;34m,\u001b[0m \u001b[0mTypeError\u001b[0m\u001b[0;34m)\u001b[0m\u001b[0;34m:\u001b[0m\u001b[0;34m\u001b[0m\u001b[0;34m\u001b[0m\u001b[0m\n\u001b[1;32m    301\u001b[0m         \u001b[0;31m# e.g. astype_nansafe can fail on object-dtype of strings\u001b[0m\u001b[0;34m\u001b[0m\u001b[0;34m\u001b[0m\u001b[0m\n",
            "\u001b[0;32m/usr/local/lib/python3.10/dist-packages/pandas/core/dtypes/astype.py\u001b[0m in \u001b[0;36mastype_array\u001b[0;34m(values, dtype, copy)\u001b[0m\n\u001b[1;32m    228\u001b[0m \u001b[0;34m\u001b[0m\u001b[0m\n\u001b[1;32m    229\u001b[0m     \u001b[0;32melse\u001b[0m\u001b[0;34m:\u001b[0m\u001b[0;34m\u001b[0m\u001b[0;34m\u001b[0m\u001b[0m\n\u001b[0;32m--> 230\u001b[0;31m         \u001b[0mvalues\u001b[0m \u001b[0;34m=\u001b[0m \u001b[0mastype_nansafe\u001b[0m\u001b[0;34m(\u001b[0m\u001b[0mvalues\u001b[0m\u001b[0;34m,\u001b[0m \u001b[0mdtype\u001b[0m\u001b[0;34m,\u001b[0m \u001b[0mcopy\u001b[0m\u001b[0;34m=\u001b[0m\u001b[0mcopy\u001b[0m\u001b[0;34m)\u001b[0m\u001b[0;34m\u001b[0m\u001b[0;34m\u001b[0m\u001b[0m\n\u001b[0m\u001b[1;32m    231\u001b[0m \u001b[0;34m\u001b[0m\u001b[0m\n\u001b[1;32m    232\u001b[0m     \u001b[0;31m# in pandas we don't store numpy str dtypes, so convert to object\u001b[0m\u001b[0;34m\u001b[0m\u001b[0;34m\u001b[0m\u001b[0m\n",
            "\u001b[0;32m/usr/local/lib/python3.10/dist-packages/pandas/core/dtypes/astype.py\u001b[0m in \u001b[0;36mastype_nansafe\u001b[0;34m(arr, dtype, copy, skipna)\u001b[0m\n\u001b[1;32m    168\u001b[0m     \u001b[0;32mif\u001b[0m \u001b[0mcopy\u001b[0m \u001b[0;32mor\u001b[0m \u001b[0mis_object_dtype\u001b[0m\u001b[0;34m(\u001b[0m\u001b[0marr\u001b[0m\u001b[0;34m.\u001b[0m\u001b[0mdtype\u001b[0m\u001b[0;34m)\u001b[0m \u001b[0;32mor\u001b[0m \u001b[0mis_object_dtype\u001b[0m\u001b[0;34m(\u001b[0m\u001b[0mdtype\u001b[0m\u001b[0;34m)\u001b[0m\u001b[0;34m:\u001b[0m\u001b[0;34m\u001b[0m\u001b[0;34m\u001b[0m\u001b[0m\n\u001b[1;32m    169\u001b[0m         \u001b[0;31m# Explicit copy, or required since NumPy can't view from / to object.\u001b[0m\u001b[0;34m\u001b[0m\u001b[0;34m\u001b[0m\u001b[0m\n\u001b[0;32m--> 170\u001b[0;31m         \u001b[0;32mreturn\u001b[0m \u001b[0marr\u001b[0m\u001b[0;34m.\u001b[0m\u001b[0mastype\u001b[0m\u001b[0;34m(\u001b[0m\u001b[0mdtype\u001b[0m\u001b[0;34m,\u001b[0m \u001b[0mcopy\u001b[0m\u001b[0;34m=\u001b[0m\u001b[0;32mTrue\u001b[0m\u001b[0;34m)\u001b[0m\u001b[0;34m\u001b[0m\u001b[0;34m\u001b[0m\u001b[0m\n\u001b[0m\u001b[1;32m    171\u001b[0m \u001b[0;34m\u001b[0m\u001b[0m\n\u001b[1;32m    172\u001b[0m     \u001b[0;32mreturn\u001b[0m \u001b[0marr\u001b[0m\u001b[0;34m.\u001b[0m\u001b[0mastype\u001b[0m\u001b[0;34m(\u001b[0m\u001b[0mdtype\u001b[0m\u001b[0;34m,\u001b[0m \u001b[0mcopy\u001b[0m\u001b[0;34m=\u001b[0m\u001b[0mcopy\u001b[0m\u001b[0;34m)\u001b[0m\u001b[0;34m\u001b[0m\u001b[0;34m\u001b[0m\u001b[0m\n",
            "\u001b[0;31mValueError\u001b[0m: cannot convert float NaN to integer"
          ]
        }
      ]
    },
    {
      "cell_type": "code",
      "source": [
        "datos.info()"
      ],
      "metadata": {
        "colab": {
          "base_uri": "https://localhost:8080/"
        },
        "id": "GoPxNquifIez",
        "outputId": "79e9f07c-6523-46c5-8443-7b825fbe3a09"
      },
      "execution_count": 13,
      "outputs": [
        {
          "output_type": "stream",
          "name": "stdout",
          "text": [
            "<class 'pandas.core.frame.DataFrame'>\n",
            "RangeIndex: 4561 entries, 0 to 4560\n",
            "Data columns (total 77 columns):\n",
            " #   Column            Non-Null Count  Dtype  \n",
            "---  ------            --------------  -----  \n",
            " 0   photoUrl          4561 non-null   object \n",
            " 1   LongName          4561 non-null   object \n",
            " 2   playerUrl         4560 non-null   object \n",
            " 3   Nationality       4560 non-null   object \n",
            " 4   Positions         4560 non-null   object \n",
            " 5   Name              4560 non-null   object \n",
            " 6   Age               4560 non-null   float64\n",
            " 7   ↓OVA              4560 non-null   float64\n",
            " 8   POT               4560 non-null   float64\n",
            " 9   Team & Contract   4560 non-null   object \n",
            " 10  ID                4560 non-null   float64\n",
            " 11  Weight            4560 non-null   object \n",
            " 12  foot              4560 non-null   object \n",
            " 13  BOV               4560 non-null   float64\n",
            " 14  BP                4560 non-null   object \n",
            " 15  Growth            4560 non-null   float64\n",
            " 16  Joined            4560 non-null   object \n",
            " 17  Loan Date End     263 non-null    object \n",
            " 18  Value             4560 non-null   object \n",
            " 19  Wage              4560 non-null   object \n",
            " 20  Release Clause    4560 non-null   object \n",
            " 21  Attacking         4560 non-null   float64\n",
            " 22  Crossing          4560 non-null   float64\n",
            " 23  Finishing         4560 non-null   float64\n",
            " 24  Heading Accuracy  4560 non-null   float64\n",
            " 25  Short Passing     4560 non-null   float64\n",
            " 26  Volleys           4560 non-null   float64\n",
            " 27  Skill             4560 non-null   float64\n",
            " 28  Dribbling         4560 non-null   float64\n",
            " 29  Curve             4560 non-null   float64\n",
            " 30  FK Accuracy       4560 non-null   float64\n",
            " 31  Long Passing      4560 non-null   float64\n",
            " 32  Ball Control      4560 non-null   float64\n",
            " 33  Movement          4560 non-null   float64\n",
            " 34  Acceleration      4560 non-null   float64\n",
            " 35  Sprint Speed      4560 non-null   float64\n",
            " 36  Agility           4560 non-null   float64\n",
            " 37  Reactions         4560 non-null   float64\n",
            " 38  Balance           4560 non-null   float64\n",
            " 39  Power             4560 non-null   float64\n",
            " 40  Shot Power        4560 non-null   float64\n",
            " 41  Jumping           4560 non-null   float64\n",
            " 42  Stamina           4560 non-null   float64\n",
            " 43  Strength          4560 non-null   float64\n",
            " 44  Long Shots        4560 non-null   float64\n",
            " 45  Mentality         4560 non-null   float64\n",
            " 46  Aggression        4560 non-null   float64\n",
            " 47  Interceptions     4560 non-null   float64\n",
            " 48  Positioning       4560 non-null   float64\n",
            " 49  Vision            4560 non-null   float64\n",
            " 50  Penalties         4560 non-null   float64\n",
            " 51  Composure         4560 non-null   float64\n",
            " 52  Defending         4560 non-null   float64\n",
            " 53  Marking           4560 non-null   float64\n",
            " 54  Standing Tackle   4560 non-null   float64\n",
            " 55  Sliding Tackle    4560 non-null   float64\n",
            " 56  Goalkeeping       4560 non-null   float64\n",
            " 57  GK Diving         4560 non-null   float64\n",
            " 58  GK Handling       4560 non-null   float64\n",
            " 59  GK Kicking        4560 non-null   float64\n",
            " 60  GK Positioning    4560 non-null   float64\n",
            " 61  GK Reflexes       4560 non-null   float64\n",
            " 62  Total Stats       4560 non-null   float64\n",
            " 63  Base Stats        4560 non-null   float64\n",
            " 64  W/F               4560 non-null   object \n",
            " 65  SM                4560 non-null   object \n",
            " 66  A/W               4560 non-null   object \n",
            " 67  D/W               4560 non-null   object \n",
            " 68  IR                4560 non-null   object \n",
            " 69  PAC               4560 non-null   float64\n",
            " 70  SHO               4560 non-null   float64\n",
            " 71  PAS               4560 non-null   float64\n",
            " 72  DRI               4560 non-null   float64\n",
            " 73  DEF               4560 non-null   float64\n",
            " 74  PHY               4560 non-null   float64\n",
            " 75  Hits              4560 non-null   object \n",
            " 76  Height cm         4561 non-null   float64\n",
            "dtypes: float64(56), object(21)\n",
            "memory usage: 2.7+ MB\n"
          ]
        }
      ]
    },
    {
      "cell_type": "markdown",
      "source": [],
      "metadata": {
        "id": "24Mxz0CvGgAd"
      }
    },
    {
      "cell_type": "code",
      "source": [
        "datos['Weight']"
      ],
      "metadata": {
        "id": "KL_CLDLSfmnL",
        "colab": {
          "base_uri": "https://localhost:8080/"
        },
        "outputId": "79463c4c-c9f0-4a12-9ba8-b06370783b9b"
      },
      "execution_count": 18,
      "outputs": [
        {
          "output_type": "execute_result",
          "data": {
            "text/plain": [
              "0       159\n",
              "1       183\n",
              "2       192\n",
              "3       154\n",
              "4       150\n",
              "       ... \n",
              "4556    179\n",
              "4557    179\n",
              "4558    161\n",
              "4559    198\n",
              "4560    NaN\n",
              "Name: Weight, Length: 4561, dtype: object"
            ]
          },
          "metadata": {},
          "execution_count": 18
        }
      ]
    },
    {
      "cell_type": "code",
      "source": [
        "datos['Weight']=datos['Weight'].astype(str)"
      ],
      "metadata": {
        "id": "336OLOHcJK1A"
      },
      "execution_count": 20,
      "outputs": []
    },
    {
      "cell_type": "code",
      "source": [
        "datos['Weight']"
      ],
      "metadata": {
        "colab": {
          "base_uri": "https://localhost:8080/"
        },
        "id": "OkL7lxEIJTXw",
        "outputId": "819f7258-3d08-4485-f8c8-c4f912721cf6"
      },
      "execution_count": 23,
      "outputs": [
        {
          "output_type": "execute_result",
          "data": {
            "text/plain": [
              "0       159\n",
              "1       183\n",
              "2       192\n",
              "3       154\n",
              "4       150\n",
              "       ... \n",
              "4556    179\n",
              "4557    179\n",
              "4558    161\n",
              "4559    198\n",
              "4560    nan\n",
              "Name: Weight, Length: 4561, dtype: object"
            ]
          },
          "metadata": {},
          "execution_count": 23
        }
      ]
    },
    {
      "cell_type": "code",
      "source": [
        "datos['Weight']=datos.Weight.replace({\"nan\":0})"
      ],
      "metadata": {
        "id": "ghvmw5NvJTKe"
      },
      "execution_count": 24,
      "outputs": []
    },
    {
      "cell_type": "code",
      "source": [
        "datos['Weight']"
      ],
      "metadata": {
        "colab": {
          "base_uri": "https://localhost:8080/"
        },
        "id": "RsQiLtShJKhK",
        "outputId": "ce42f636-4d35-4333-a737-8129b0153f89"
      },
      "execution_count": 25,
      "outputs": [
        {
          "output_type": "execute_result",
          "data": {
            "text/plain": [
              "0       159\n",
              "1       183\n",
              "2       192\n",
              "3       154\n",
              "4       150\n",
              "       ... \n",
              "4556    179\n",
              "4557    179\n",
              "4558    161\n",
              "4559    198\n",
              "4560      0\n",
              "Name: Weight, Length: 4561, dtype: object"
            ]
          },
          "metadata": {},
          "execution_count": 25
        }
      ]
    },
    {
      "cell_type": "code",
      "source": [
        "datos['Weight']=pd.to_numeric(datos['Weight'])"
      ],
      "metadata": {
        "id": "nsYKJrf7J1vj"
      },
      "execution_count": 26,
      "outputs": []
    },
    {
      "cell_type": "code",
      "source": [
        "datos['Weight']"
      ],
      "metadata": {
        "colab": {
          "base_uri": "https://localhost:8080/"
        },
        "id": "g9Dp7-A9J5Ye",
        "outputId": "f0b36211-0d9f-415f-f6d5-e514f2e73398"
      },
      "execution_count": 27,
      "outputs": [
        {
          "output_type": "execute_result",
          "data": {
            "text/plain": [
              "0       159\n",
              "1       183\n",
              "2       192\n",
              "3       154\n",
              "4       150\n",
              "       ... \n",
              "4556    179\n",
              "4557    179\n",
              "4558    161\n",
              "4559    198\n",
              "4560      0\n",
              "Name: Weight, Length: 4561, dtype: int64"
            ]
          },
          "metadata": {},
          "execution_count": 27
        }
      ]
    },
    {
      "cell_type": "code",
      "source": [
        "datos['Height cm']"
      ],
      "metadata": {
        "colab": {
          "base_uri": "https://localhost:8080/"
        },
        "id": "CyCGm-2qg1fq",
        "outputId": "143c2fcc-2b9f-4a41-cc0c-946d249f9ad7"
      },
      "execution_count": 28,
      "outputs": [
        {
          "output_type": "execute_result",
          "data": {
            "text/plain": [
              "0       170.18\n",
              "1       187.96\n",
              "2       187.96\n",
              "3       180.34\n",
              "4       175.26\n",
              "         ...  \n",
              "4556    177.80\n",
              "4557    187.96\n",
              "4558    182.88\n",
              "4559    193.04\n",
              "4560      0.00\n",
              "Name: Height cm, Length: 4561, dtype: float64"
            ]
          },
          "metadata": {},
          "execution_count": 28
        }
      ]
    },
    {
      "cell_type": "markdown",
      "source": [
        "**Separar la columna Joined en año, mes y día**"
      ],
      "metadata": {
        "id": "SixfHEEvHxVF"
      }
    },
    {
      "cell_type": "code",
      "source": [
        "datos['Joined']"
      ],
      "metadata": {
        "colab": {
          "base_uri": "https://localhost:8080/"
        },
        "id": "DdO5CYkBHqUn",
        "outputId": "b79f290d-7d66-4b6f-d1e0-068521aeaa9b"
      },
      "execution_count": 30,
      "outputs": [
        {
          "output_type": "execute_result",
          "data": {
            "text/plain": [
              "0        Jul 1, 2004\n",
              "1       Jul 10, 2018\n",
              "2       Jul 16, 2014\n",
              "3       Aug 30, 2015\n",
              "4        Aug 3, 2017\n",
              "            ...     \n",
              "4556    Jul 31, 2017\n",
              "4557     Aug 7, 2019\n",
              "4558     Jul 1, 2016\n",
              "4559    Jan 17, 2019\n",
              "4560             NaN\n",
              "Name: Joined, Length: 4561, dtype: object"
            ]
          },
          "metadata": {},
          "execution_count": 30
        }
      ]
    },
    {
      "cell_type": "code",
      "source": [
        "datos.info()"
      ],
      "metadata": {
        "colab": {
          "base_uri": "https://localhost:8080/"
        },
        "id": "JowVrFlLI9I4",
        "outputId": "f32d0f1c-9bca-432e-a70f-4973b1e62cfa"
      },
      "execution_count": 31,
      "outputs": [
        {
          "output_type": "stream",
          "name": "stdout",
          "text": [
            "<class 'pandas.core.frame.DataFrame'>\n",
            "RangeIndex: 4561 entries, 0 to 4560\n",
            "Data columns (total 77 columns):\n",
            " #   Column            Non-Null Count  Dtype  \n",
            "---  ------            --------------  -----  \n",
            " 0   photoUrl          4561 non-null   object \n",
            " 1   LongName          4561 non-null   object \n",
            " 2   playerUrl         4560 non-null   object \n",
            " 3   Nationality       4560 non-null   object \n",
            " 4   Positions         4560 non-null   object \n",
            " 5   Name              4560 non-null   object \n",
            " 6   Age               4560 non-null   float64\n",
            " 7   ↓OVA              4560 non-null   float64\n",
            " 8   POT               4560 non-null   float64\n",
            " 9   Team & Contract   4560 non-null   object \n",
            " 10  ID                4560 non-null   float64\n",
            " 11  Weight            4561 non-null   int64  \n",
            " 12  foot              4560 non-null   object \n",
            " 13  BOV               4560 non-null   float64\n",
            " 14  BP                4560 non-null   object \n",
            " 15  Growth            4560 non-null   float64\n",
            " 16  Joined            4560 non-null   object \n",
            " 17  Loan Date End     263 non-null    object \n",
            " 18  Value             4560 non-null   object \n",
            " 19  Wage              4560 non-null   object \n",
            " 20  Release Clause    4560 non-null   object \n",
            " 21  Attacking         4560 non-null   float64\n",
            " 22  Crossing          4560 non-null   float64\n",
            " 23  Finishing         4560 non-null   float64\n",
            " 24  Heading Accuracy  4560 non-null   float64\n",
            " 25  Short Passing     4560 non-null   float64\n",
            " 26  Volleys           4560 non-null   float64\n",
            " 27  Skill             4560 non-null   float64\n",
            " 28  Dribbling         4560 non-null   float64\n",
            " 29  Curve             4560 non-null   float64\n",
            " 30  FK Accuracy       4560 non-null   float64\n",
            " 31  Long Passing      4560 non-null   float64\n",
            " 32  Ball Control      4560 non-null   float64\n",
            " 33  Movement          4560 non-null   float64\n",
            " 34  Acceleration      4560 non-null   float64\n",
            " 35  Sprint Speed      4560 non-null   float64\n",
            " 36  Agility           4560 non-null   float64\n",
            " 37  Reactions         4560 non-null   float64\n",
            " 38  Balance           4560 non-null   float64\n",
            " 39  Power             4560 non-null   float64\n",
            " 40  Shot Power        4560 non-null   float64\n",
            " 41  Jumping           4560 non-null   float64\n",
            " 42  Stamina           4560 non-null   float64\n",
            " 43  Strength          4560 non-null   float64\n",
            " 44  Long Shots        4560 non-null   float64\n",
            " 45  Mentality         4560 non-null   float64\n",
            " 46  Aggression        4560 non-null   float64\n",
            " 47  Interceptions     4560 non-null   float64\n",
            " 48  Positioning       4560 non-null   float64\n",
            " 49  Vision            4560 non-null   float64\n",
            " 50  Penalties         4560 non-null   float64\n",
            " 51  Composure         4560 non-null   float64\n",
            " 52  Defending         4560 non-null   float64\n",
            " 53  Marking           4560 non-null   float64\n",
            " 54  Standing Tackle   4560 non-null   float64\n",
            " 55  Sliding Tackle    4560 non-null   float64\n",
            " 56  Goalkeeping       4560 non-null   float64\n",
            " 57  GK Diving         4560 non-null   float64\n",
            " 58  GK Handling       4560 non-null   float64\n",
            " 59  GK Kicking        4560 non-null   float64\n",
            " 60  GK Positioning    4560 non-null   float64\n",
            " 61  GK Reflexes       4560 non-null   float64\n",
            " 62  Total Stats       4560 non-null   float64\n",
            " 63  Base Stats        4560 non-null   float64\n",
            " 64  W/F               4560 non-null   object \n",
            " 65  SM                4560 non-null   object \n",
            " 66  A/W               4560 non-null   object \n",
            " 67  D/W               4560 non-null   object \n",
            " 68  IR                4560 non-null   object \n",
            " 69  PAC               4560 non-null   float64\n",
            " 70  SHO               4560 non-null   float64\n",
            " 71  PAS               4560 non-null   float64\n",
            " 72  DRI               4560 non-null   float64\n",
            " 73  DEF               4560 non-null   float64\n",
            " 74  PHY               4560 non-null   float64\n",
            " 75  Hits              4560 non-null   object \n",
            " 76  Height cm         4561 non-null   float64\n",
            "dtypes: float64(56), int64(1), object(20)\n",
            "memory usage: 2.7+ MB\n"
          ]
        }
      ]
    },
    {
      "cell_type": "markdown",
      "source": [
        "Extraemos el año, mes y día en columnas"
      ],
      "metadata": {
        "id": "_CWJ_aexILZx"
      }
    },
    {
      "cell_type": "code",
      "source": [
        "datos['Joined']=pd.to_datetime(datos['Joined'])"
      ],
      "metadata": {
        "id": "us6WASy6IKwJ"
      },
      "execution_count": 32,
      "outputs": []
    },
    {
      "cell_type": "code",
      "source": [
        "datos['anio']=datos['Joined'].dt.year"
      ],
      "metadata": {
        "id": "uACxUEA4JQsi"
      },
      "execution_count": 33,
      "outputs": []
    },
    {
      "cell_type": "code",
      "source": [
        "datos['month']=datos['Joined'].dt.month"
      ],
      "metadata": {
        "id": "WKsNBJA4Jcxe"
      },
      "execution_count": 34,
      "outputs": []
    },
    {
      "cell_type": "code",
      "source": [
        "datos['day']=datos['Joined'].dt.day"
      ],
      "metadata": {
        "id": "WW_jU1BBJpuZ"
      },
      "execution_count": 35,
      "outputs": []
    },
    {
      "cell_type": "code",
      "source": [
        "datos['month']"
      ],
      "metadata": {
        "colab": {
          "base_uri": "https://localhost:8080/"
        },
        "id": "RpYryxa5KCyu",
        "outputId": "a9fc0e26-2560-4392-f1b2-d3bbeeda8f23"
      },
      "execution_count": 38,
      "outputs": [
        {
          "output_type": "execute_result",
          "data": {
            "text/plain": [
              "0       7.0\n",
              "1       7.0\n",
              "2       7.0\n",
              "3       8.0\n",
              "4       8.0\n",
              "       ... \n",
              "4556    7.0\n",
              "4557    8.0\n",
              "4558    7.0\n",
              "4559    1.0\n",
              "4560    NaN\n",
              "Name: month, Length: 4561, dtype: float64"
            ]
          },
          "metadata": {},
          "execution_count": 38
        }
      ]
    },
    {
      "cell_type": "code",
      "source": [
        "datos['anio']"
      ],
      "metadata": {
        "colab": {
          "base_uri": "https://localhost:8080/"
        },
        "id": "2tvzvJlgKG-1",
        "outputId": "56283335-8a29-4808-f587-32fe1a4b756f"
      },
      "execution_count": 39,
      "outputs": [
        {
          "output_type": "execute_result",
          "data": {
            "text/plain": [
              "0       2004.0\n",
              "1       2018.0\n",
              "2       2014.0\n",
              "3       2015.0\n",
              "4       2017.0\n",
              "         ...  \n",
              "4556    2017.0\n",
              "4557    2019.0\n",
              "4558    2016.0\n",
              "4559    2019.0\n",
              "4560       NaN\n",
              "Name: anio, Length: 4561, dtype: float64"
            ]
          },
          "metadata": {},
          "execution_count": 39
        }
      ]
    },
    {
      "cell_type": "code",
      "source": [
        "datos['day']"
      ],
      "metadata": {
        "colab": {
          "base_uri": "https://localhost:8080/"
        },
        "id": "ziKsFgrsJvy1",
        "outputId": "7f860096-74bc-4586-c3ce-4ba9c478304b"
      },
      "execution_count": 36,
      "outputs": [
        {
          "output_type": "execute_result",
          "data": {
            "text/plain": [
              "0        1.0\n",
              "1       10.0\n",
              "2       16.0\n",
              "3       30.0\n",
              "4        3.0\n",
              "        ... \n",
              "4556    31.0\n",
              "4557     7.0\n",
              "4558     1.0\n",
              "4559    17.0\n",
              "4560     NaN\n",
              "Name: day, Length: 4561, dtype: float64"
            ]
          },
          "metadata": {},
          "execution_count": 36
        }
      ]
    },
    {
      "cell_type": "markdown",
      "source": [
        "\n",
        "¿Puedes limpiar y transformar las columnas de la cláusula de valor, salario y liberación en columnas de números enteros?"
      ],
      "metadata": {
        "id": "7wl-yg4TKTpE"
      }
    },
    {
      "cell_type": "code",
      "source": [
        "datos.info()"
      ],
      "metadata": {
        "colab": {
          "base_uri": "https://localhost:8080/"
        },
        "id": "PUcbSqJkJpfQ",
        "outputId": "b50a1e65-1ff5-4f31-cb62-6cdb1fc98411"
      },
      "execution_count": null,
      "outputs": [
        {
          "output_type": "stream",
          "name": "stdout",
          "text": [
            "<class 'pandas.core.frame.DataFrame'>\n",
            "RangeIndex: 18979 entries, 0 to 18978\n",
            "Data columns (total 80 columns):\n",
            " #   Column            Non-Null Count  Dtype         \n",
            "---  ------            --------------  -----         \n",
            " 0   photoUrl          18979 non-null  object        \n",
            " 1   LongName          18979 non-null  object        \n",
            " 2   playerUrl         18979 non-null  object        \n",
            " 3   Nationality       18979 non-null  object        \n",
            " 4   Positions         18979 non-null  object        \n",
            " 5   Name              18979 non-null  object        \n",
            " 6   Age               18979 non-null  int64         \n",
            " 7   ↓OVA              18979 non-null  int64         \n",
            " 8   POT               18979 non-null  int64         \n",
            " 9   Team & Contract   18979 non-null  object        \n",
            " 10  ID                18979 non-null  int64         \n",
            " 11  Weight            18979 non-null  int64         \n",
            " 12  foot              18979 non-null  object        \n",
            " 13  BOV               18979 non-null  int64         \n",
            " 14  BP                18979 non-null  object        \n",
            " 15  Growth            18979 non-null  int64         \n",
            " 16  Joined            18979 non-null  datetime64[ns]\n",
            " 17  Loan Date End     1013 non-null   object        \n",
            " 18  Value             18979 non-null  object        \n",
            " 19  Wage              18979 non-null  object        \n",
            " 20  Release Clause    18979 non-null  object        \n",
            " 21  Attacking         18979 non-null  int64         \n",
            " 22  Crossing          18979 non-null  int64         \n",
            " 23  Finishing         18979 non-null  int64         \n",
            " 24  Heading Accuracy  18979 non-null  int64         \n",
            " 25  Short Passing     18979 non-null  int64         \n",
            " 26  Volleys           18979 non-null  int64         \n",
            " 27  Skill             18979 non-null  int64         \n",
            " 28  Dribbling         18979 non-null  int64         \n",
            " 29  Curve             18979 non-null  int64         \n",
            " 30  FK Accuracy       18979 non-null  int64         \n",
            " 31  Long Passing      18979 non-null  int64         \n",
            " 32  Ball Control      18979 non-null  int64         \n",
            " 33  Movement          18979 non-null  int64         \n",
            " 34  Acceleration      18979 non-null  int64         \n",
            " 35  Sprint Speed      18979 non-null  int64         \n",
            " 36  Agility           18979 non-null  int64         \n",
            " 37  Reactions         18979 non-null  int64         \n",
            " 38  Balance           18979 non-null  int64         \n",
            " 39  Power             18979 non-null  int64         \n",
            " 40  Shot Power        18979 non-null  int64         \n",
            " 41  Jumping           18979 non-null  int64         \n",
            " 42  Stamina           18979 non-null  int64         \n",
            " 43  Strength          18979 non-null  int64         \n",
            " 44  Long Shots        18979 non-null  int64         \n",
            " 45  Mentality         18979 non-null  int64         \n",
            " 46  Aggression        18979 non-null  int64         \n",
            " 47  Interceptions     18979 non-null  int64         \n",
            " 48  Positioning       18979 non-null  int64         \n",
            " 49  Vision            18979 non-null  int64         \n",
            " 50  Penalties         18979 non-null  int64         \n",
            " 51  Composure         18979 non-null  int64         \n",
            " 52  Defending         18979 non-null  int64         \n",
            " 53  Marking           18979 non-null  int64         \n",
            " 54  Standing Tackle   18979 non-null  int64         \n",
            " 55  Sliding Tackle    18979 non-null  int64         \n",
            " 56  Goalkeeping       18979 non-null  int64         \n",
            " 57  GK Diving         18979 non-null  int64         \n",
            " 58  GK Handling       18979 non-null  int64         \n",
            " 59  GK Kicking        18979 non-null  int64         \n",
            " 60  GK Positioning    18979 non-null  int64         \n",
            " 61  GK Reflexes       18979 non-null  int64         \n",
            " 62  Total Stats       18979 non-null  int64         \n",
            " 63  Base Stats        18979 non-null  int64         \n",
            " 64  W/F               18979 non-null  object        \n",
            " 65  SM                18979 non-null  object        \n",
            " 66  A/W               18979 non-null  object        \n",
            " 67  D/W               18979 non-null  object        \n",
            " 68  IR                18979 non-null  object        \n",
            " 69  PAC               18979 non-null  int64         \n",
            " 70  SHO               18979 non-null  int64         \n",
            " 71  PAS               18979 non-null  int64         \n",
            " 72  DRI               18979 non-null  int64         \n",
            " 73  DEF               18979 non-null  int64         \n",
            " 74  PHY               18979 non-null  int64         \n",
            " 75  Hits              18979 non-null  object        \n",
            " 76  Height cm         18979 non-null  float64       \n",
            " 77  anio              18979 non-null  int64         \n",
            " 78  month             18979 non-null  int64         \n",
            " 79  day               18979 non-null  int64         \n",
            "dtypes: datetime64[ns](1), float64(1), int64(59), object(19)\n",
            "memory usage: 11.6+ MB\n"
          ]
        }
      ]
    },
    {
      "cell_type": "code",
      "source": [
        "datos['Value'].unique()"
      ],
      "metadata": {
        "colab": {
          "base_uri": "https://localhost:8080/"
        },
        "id": "gDV2ynr0KcNn",
        "outputId": "1357ec61-c4ee-43f2-ccf2-adaacabdf61c"
      },
      "execution_count": 40,
      "outputs": [
        {
          "output_type": "execute_result",
          "data": {
            "text/plain": [
              "array(['€67.5M', '€46M', '€75M', '€87M', '€90M', '€80M', '€105.5M',\n",
              "       '€62.5M', '€78M', '€75.5M', '€69.5M', '€59.5M', '€56M', '€29M',\n",
              "       '€53M', '€24.5M', '€51M', '€65M', '€71M', '€53.5M', '€72.5M',\n",
              "       '€50M', '€58M', '€55M', '€16M', '€60M', '€63M', '€54.5M', '€52M',\n",
              "       '€52.5M', '€50.5M', '€27M', '€48.5M', '€38M', '€45M', '€34M',\n",
              "       '€39M', '€31.5M', '€15.5M', '€28M', '€46.5M', '€42M', '€32M',\n",
              "       '€36.5M', '€33M', '€28.5M', '€22.5M', '€21M', '€34.5M', '€57M',\n",
              "       '€49.5M', '€44.5M', '€44M', '€41.5M', '€49M', '€51.5M', '€39.5M',\n",
              "       '€47.5M', '€37.5M', '€40.5M', '€33.5M', '€37M', '€30.5M', '€26M',\n",
              "       '€18M', '€14.5M', '€35.5M', '€24M', '€11.5M', '€41M', '€42.5M',\n",
              "       '€30M', '€36M', '€31M', '€27.5M', '€35M', '€38.5M', '€23M', '€25M',\n",
              "       '€29.5M', '€25.5M', '€32.5M', '€19M', '€19.5M', '€23.5M', '€15M',\n",
              "       '€17M', '€11M', '€9.5M', '€22M', '€16.5M', '€18.5M', '€17.5M',\n",
              "       '€21.5M', '€20.5M', '€13.5M', '€20M', '€12M', '€12.5M', '€7M',\n",
              "       '€26.5M', '€14M', '€8M', '€2.2M', '€0', '€10.5M', '€13M', '€8.5M',\n",
              "       '€4.8M', '€6.5M', '€3.6M', '€5.5M', '€9M', '€3M', '€5M', '€4.5M',\n",
              "       '€10M', '€4M', '€7.5M', '€4.7M', '€6M', '€4.4M', '€1.3M', '€2.7M',\n",
              "       '€4.2M', '€2.1M', '€3.1M', '€4.9M', '€3.7M', '€4.3M', '€1.7M',\n",
              "       '€1.5M', '€3.3M', '€3.9M', '€1.9M', '€2.4M', '€900K', '€3.4M',\n",
              "       '€4.1M', '€1.6M', '€775K', '€2.6M', '€3.5M', '€2.9M', '€3.2M',\n",
              "       '€1.2M', '€1.8M', '€2.3M', '€1.1M', '€675K', '€2.5M', '€1.4M',\n",
              "       '€4.6M', '€2M', '€575K', '€950K', '€1M', '€3.8M', '€2.8M', '€400K',\n",
              "       '€875K', '€800K', '€325K', '€525K', '€850K', '€625K', '€975K',\n",
              "       '€240K', '€650K', '€825K', '€725K', '€475K', '€500K', '€750K',\n",
              "       '€425K', '€700K', nan], dtype=object)"
            ]
          },
          "metadata": {},
          "execution_count": 40
        }
      ]
    },
    {
      "cell_type": "code",
      "source": [
        "datos['numero']=datos['Value'].str.extract('(\\d+(?:\\.\\d+)?)')"
      ],
      "metadata": {
        "id": "yA9dfcz8Ji7x"
      },
      "execution_count": 41,
      "outputs": []
    },
    {
      "cell_type": "code",
      "source": [
        "datos['numero']"
      ],
      "metadata": {
        "colab": {
          "base_uri": "https://localhost:8080/"
        },
        "id": "36i-vvUZNm37",
        "outputId": "43a28bfa-85d6-4c7e-e912-fd04014bad9b"
      },
      "execution_count": 42,
      "outputs": [
        {
          "output_type": "execute_result",
          "data": {
            "text/plain": [
              "0       67.5\n",
              "1         46\n",
              "2         75\n",
              "3         87\n",
              "4         90\n",
              "        ... \n",
              "4556     2.3\n",
              "4557     1.1\n",
              "4558     2.4\n",
              "4559     1.7\n",
              "4560     NaN\n",
              "Name: numero, Length: 4561, dtype: object"
            ]
          },
          "metadata": {},
          "execution_count": 42
        }
      ]
    },
    {
      "cell_type": "code",
      "source": [
        "datos['numero']=pd.to_numeric(datos['numero'])"
      ],
      "metadata": {
        "id": "0-ZNlg04Qp0q"
      },
      "execution_count": 43,
      "outputs": []
    },
    {
      "cell_type": "code",
      "source": [
        "datos['TipoValor']= datos['Value'].str.extract('([a-zA-Z]+)')"
      ],
      "metadata": {
        "id": "ly5gbPIMNwyO"
      },
      "execution_count": 44,
      "outputs": []
    },
    {
      "cell_type": "code",
      "source": [
        "datos['TipoValor']"
      ],
      "metadata": {
        "colab": {
          "base_uri": "https://localhost:8080/"
        },
        "id": "TQ-9vKVfO0tH",
        "outputId": "9ba4e835-879b-4434-9185-51ae87591dd2"
      },
      "execution_count": 45,
      "outputs": [
        {
          "output_type": "execute_result",
          "data": {
            "text/plain": [
              "0         M\n",
              "1         M\n",
              "2         M\n",
              "3         M\n",
              "4         M\n",
              "       ... \n",
              "4556      M\n",
              "4557      M\n",
              "4558      M\n",
              "4559      M\n",
              "4560    NaN\n",
              "Name: TipoValor, Length: 4561, dtype: object"
            ]
          },
          "metadata": {},
          "execution_count": 45
        }
      ]
    },
    {
      "cell_type": "code",
      "source": [
        "datos['TipoValor']=datos.TipoValor.replace({\"M\":1000000, \"K\":1000})"
      ],
      "metadata": {
        "id": "ywFPrTvmO0Wt"
      },
      "execution_count": 46,
      "outputs": []
    },
    {
      "cell_type": "code",
      "source": [
        "datos['TipoValor']"
      ],
      "metadata": {
        "colab": {
          "base_uri": "https://localhost:8080/"
        },
        "id": "rR3mkizuQlE1",
        "outputId": "b2d5e91b-f762-4607-e369-cbdcdf381227"
      },
      "execution_count": 47,
      "outputs": [
        {
          "output_type": "execute_result",
          "data": {
            "text/plain": [
              "0       1000000.0\n",
              "1       1000000.0\n",
              "2       1000000.0\n",
              "3       1000000.0\n",
              "4       1000000.0\n",
              "          ...    \n",
              "4556    1000000.0\n",
              "4557    1000000.0\n",
              "4558    1000000.0\n",
              "4559    1000000.0\n",
              "4560          NaN\n",
              "Name: TipoValor, Length: 4561, dtype: float64"
            ]
          },
          "metadata": {},
          "execution_count": 47
        }
      ]
    },
    {
      "cell_type": "code",
      "source": [
        "datos['Valor numerico']=datos['TipoValor']*datos['numero']"
      ],
      "metadata": {
        "id": "XJaQtMDzQn8O"
      },
      "execution_count": 48,
      "outputs": []
    },
    {
      "cell_type": "code",
      "source": [
        "datos['Valor numerico']"
      ],
      "metadata": {
        "colab": {
          "base_uri": "https://localhost:8080/"
        },
        "id": "eGllpPwRRFLu",
        "outputId": "34429743-4c8a-49e3-9251-70c926456f63"
      },
      "execution_count": 49,
      "outputs": [
        {
          "output_type": "execute_result",
          "data": {
            "text/plain": [
              "0       67500000.0\n",
              "1       46000000.0\n",
              "2       75000000.0\n",
              "3       87000000.0\n",
              "4       90000000.0\n",
              "           ...    \n",
              "4556     2300000.0\n",
              "4557     1100000.0\n",
              "4558     2400000.0\n",
              "4559     1700000.0\n",
              "4560           NaN\n",
              "Name: Valor numerico, Length: 4561, dtype: float64"
            ]
          },
          "metadata": {},
          "execution_count": 49
        }
      ]
    },
    {
      "cell_type": "code",
      "source": [
        "datos['Wage']"
      ],
      "metadata": {
        "colab": {
          "base_uri": "https://localhost:8080/"
        },
        "id": "a-NkcT4YRfU1",
        "outputId": "066324ff-2ba9-4e40-a4fb-81ff20aef999"
      },
      "execution_count": 50,
      "outputs": [
        {
          "output_type": "execute_result",
          "data": {
            "text/plain": [
              "0       €560K\n",
              "1       €220K\n",
              "2       €125K\n",
              "3       €370K\n",
              "4       €270K\n",
              "        ...  \n",
              "4556     €47K\n",
              "4557      €4K\n",
              "4558      €4K\n",
              "4559      €5K\n",
              "4560      NaN\n",
              "Name: Wage, Length: 4561, dtype: object"
            ]
          },
          "metadata": {},
          "execution_count": 50
        }
      ]
    },
    {
      "cell_type": "code",
      "source": [
        "datos['wagenum']=datos['Wage'].str.extract('(\\d+(?:\\.\\d+)?)')"
      ],
      "metadata": {
        "id": "n7BbL1OjRuwh"
      },
      "execution_count": 51,
      "outputs": []
    },
    {
      "cell_type": "code",
      "source": [
        "datos['wagetipo']=datos['Wage'].str.extract('([a-zA-Z]+)')"
      ],
      "metadata": {
        "id": "p76_fXVMSHGr"
      },
      "execution_count": 52,
      "outputs": []
    },
    {
      "cell_type": "code",
      "source": [
        "datos['wagenum']=pd.to_numeric(datos['wagenum'])"
      ],
      "metadata": {
        "id": "PQPT2eAVSWDt"
      },
      "execution_count": 53,
      "outputs": []
    },
    {
      "cell_type": "code",
      "source": [
        "datos['wagetipo']"
      ],
      "metadata": {
        "colab": {
          "base_uri": "https://localhost:8080/"
        },
        "id": "IrNSkJ0wXe35",
        "outputId": "72571a0f-986f-4059-fbe6-103f3271fe68"
      },
      "execution_count": 54,
      "outputs": [
        {
          "output_type": "execute_result",
          "data": {
            "text/plain": [
              "0         K\n",
              "1         K\n",
              "2         K\n",
              "3         K\n",
              "4         K\n",
              "       ... \n",
              "4556      K\n",
              "4557      K\n",
              "4558      K\n",
              "4559      K\n",
              "4560    NaN\n",
              "Name: wagetipo, Length: 4561, dtype: object"
            ]
          },
          "metadata": {},
          "execution_count": 54
        }
      ]
    },
    {
      "cell_type": "code",
      "source": [
        "datos['wagetipo']=datos['wagetipo'].astype(str)"
      ],
      "metadata": {
        "id": "jbyABS56WyQg"
      },
      "execution_count": 55,
      "outputs": []
    },
    {
      "cell_type": "code",
      "source": [
        "datos['wagetipo']"
      ],
      "metadata": {
        "colab": {
          "base_uri": "https://localhost:8080/"
        },
        "id": "SB17h3X1XJIT",
        "outputId": "93b57db2-b3b0-4d5a-d9b8-e21716ca186d"
      },
      "execution_count": 56,
      "outputs": [
        {
          "output_type": "execute_result",
          "data": {
            "text/plain": [
              "0         K\n",
              "1         K\n",
              "2         K\n",
              "3         K\n",
              "4         K\n",
              "       ... \n",
              "4556      K\n",
              "4557      K\n",
              "4558      K\n",
              "4559      K\n",
              "4560    nan\n",
              "Name: wagetipo, Length: 4561, dtype: object"
            ]
          },
          "metadata": {},
          "execution_count": 56
        }
      ]
    },
    {
      "cell_type": "code",
      "source": [
        "datos['wagetipo']"
      ],
      "metadata": {
        "colab": {
          "base_uri": "https://localhost:8080/"
        },
        "id": "7w1TmA76Sre6",
        "outputId": "ceca689f-c9be-4f1c-d388-6b3fc319487d"
      },
      "execution_count": 57,
      "outputs": [
        {
          "output_type": "execute_result",
          "data": {
            "text/plain": [
              "0         K\n",
              "1         K\n",
              "2         K\n",
              "3         K\n",
              "4         K\n",
              "       ... \n",
              "4556      K\n",
              "4557      K\n",
              "4558      K\n",
              "4559      K\n",
              "4560    nan\n",
              "Name: wagetipo, Length: 4561, dtype: object"
            ]
          },
          "metadata": {},
          "execution_count": 57
        }
      ]
    },
    {
      "cell_type": "code",
      "source": [
        "datos['wagetipo']=datos.wagetipo.replace({\"K\":1000, \"nan\":1})"
      ],
      "metadata": {
        "id": "k_y0Y7uASe_L"
      },
      "execution_count": 58,
      "outputs": []
    },
    {
      "cell_type": "code",
      "source": [
        "datos['wagetipo']"
      ],
      "metadata": {
        "colab": {
          "base_uri": "https://localhost:8080/"
        },
        "id": "T0aYvJ0tS3Yq",
        "outputId": "df3834b7-60da-4ee7-ad8c-b636f64890aa"
      },
      "execution_count": 59,
      "outputs": [
        {
          "output_type": "execute_result",
          "data": {
            "text/plain": [
              "0       1000\n",
              "1       1000\n",
              "2       1000\n",
              "3       1000\n",
              "4       1000\n",
              "        ... \n",
              "4556    1000\n",
              "4557    1000\n",
              "4558    1000\n",
              "4559    1000\n",
              "4560       1\n",
              "Name: wagetipo, Length: 4561, dtype: int64"
            ]
          },
          "metadata": {},
          "execution_count": 59
        }
      ]
    },
    {
      "cell_type": "code",
      "source": [
        "datos['Wage Final']=datos['wagenum']*datos['wagetipo']"
      ],
      "metadata": {
        "id": "ym2uFuvLTOik"
      },
      "execution_count": 60,
      "outputs": []
    },
    {
      "cell_type": "code",
      "source": [
        "datos['Wage']"
      ],
      "metadata": {
        "colab": {
          "base_uri": "https://localhost:8080/"
        },
        "id": "9qRX-I7fT26W",
        "outputId": "bfcf6cce-6283-4177-b7a0-900c7944fbd4"
      },
      "execution_count": 61,
      "outputs": [
        {
          "output_type": "execute_result",
          "data": {
            "text/plain": [
              "0       €560K\n",
              "1       €220K\n",
              "2       €125K\n",
              "3       €370K\n",
              "4       €270K\n",
              "        ...  \n",
              "4556     €47K\n",
              "4557      €4K\n",
              "4558      €4K\n",
              "4559      €5K\n",
              "4560      NaN\n",
              "Name: Wage, Length: 4561, dtype: object"
            ]
          },
          "metadata": {},
          "execution_count": 61
        }
      ]
    },
    {
      "cell_type": "code",
      "source": [
        "datos['Wage Final']"
      ],
      "metadata": {
        "colab": {
          "base_uri": "https://localhost:8080/"
        },
        "id": "RuZ9SfdeXyX2",
        "outputId": "7d04ab62-b7dd-4d4d-a258-3cdf48b6130c"
      },
      "execution_count": 62,
      "outputs": [
        {
          "output_type": "execute_result",
          "data": {
            "text/plain": [
              "0       560000.0\n",
              "1       220000.0\n",
              "2       125000.0\n",
              "3       370000.0\n",
              "4       270000.0\n",
              "          ...   \n",
              "4556     47000.0\n",
              "4557      4000.0\n",
              "4558      4000.0\n",
              "4559      5000.0\n",
              "4560         NaN\n",
              "Name: Wage Final, Length: 4561, dtype: float64"
            ]
          },
          "metadata": {},
          "execution_count": 62
        }
      ]
    },
    {
      "cell_type": "code",
      "source": [
        "datos['Release Clause']"
      ],
      "metadata": {
        "colab": {
          "base_uri": "https://localhost:8080/"
        },
        "id": "Kf1qjRNYXKHb",
        "outputId": "39d94024-b9c3-40dd-c46b-30bbe7724a97"
      },
      "execution_count": 63,
      "outputs": [
        {
          "output_type": "execute_result",
          "data": {
            "text/plain": [
              "0       €138.4M\n",
              "1        €75.9M\n",
              "2       €159.4M\n",
              "3         €161M\n",
              "4       €166.5M\n",
              "         ...   \n",
              "4556      €4.5M\n",
              "4557        €2M\n",
              "4558      €4.3M\n",
              "4559      €2.3M\n",
              "4560        NaN\n",
              "Name: Release Clause, Length: 4561, dtype: object"
            ]
          },
          "metadata": {},
          "execution_count": 63
        }
      ]
    },
    {
      "cell_type": "code",
      "source": [
        "datos['ReleaseNum']=datos['Release Clause'].str.extract('(\\d+(?:\\.\\d+)?)')"
      ],
      "metadata": {
        "id": "fBqfmO6JYQel"
      },
      "execution_count": 64,
      "outputs": []
    },
    {
      "cell_type": "code",
      "source": [
        "datos['ReleaseNum']=pd.to_numeric(datos['ReleaseNum'])"
      ],
      "metadata": {
        "id": "XlEeUiKxYm78"
      },
      "execution_count": 65,
      "outputs": []
    },
    {
      "cell_type": "code",
      "source": [
        "datos['ReleaseNum']"
      ],
      "metadata": {
        "colab": {
          "base_uri": "https://localhost:8080/"
        },
        "id": "WnaHZiYWZsxL",
        "outputId": "25b68789-66d7-4103-a764-5440527ff4b7"
      },
      "execution_count": 66,
      "outputs": [
        {
          "output_type": "execute_result",
          "data": {
            "text/plain": [
              "0       138.4\n",
              "1        75.9\n",
              "2       159.4\n",
              "3       161.0\n",
              "4       166.5\n",
              "        ...  \n",
              "4556      4.5\n",
              "4557      2.0\n",
              "4558      4.3\n",
              "4559      2.3\n",
              "4560      NaN\n",
              "Name: ReleaseNum, Length: 4561, dtype: float64"
            ]
          },
          "metadata": {},
          "execution_count": 66
        }
      ]
    },
    {
      "cell_type": "code",
      "source": [
        "datos['RealeaseTipo']=datos['Release Clause'].str.extract('([a-zA-Z]+)')"
      ],
      "metadata": {
        "id": "B9FMxsI4ZwEh"
      },
      "execution_count": 67,
      "outputs": []
    },
    {
      "cell_type": "code",
      "source": [
        "datos['RealeaseTipo']=datos.RealeaseTipo.replace({\"M\":1000000,\"K\":1000})"
      ],
      "metadata": {
        "id": "Vlc41A_yZ6_Y"
      },
      "execution_count": 68,
      "outputs": []
    },
    {
      "cell_type": "code",
      "source": [
        "datos['RealeaseTipo']"
      ],
      "metadata": {
        "colab": {
          "base_uri": "https://localhost:8080/"
        },
        "id": "RM9DQ37MaM6a",
        "outputId": "461220c6-c668-4f96-9a12-810ef7909aa1"
      },
      "execution_count": 69,
      "outputs": [
        {
          "output_type": "execute_result",
          "data": {
            "text/plain": [
              "0       1000000.0\n",
              "1       1000000.0\n",
              "2       1000000.0\n",
              "3       1000000.0\n",
              "4       1000000.0\n",
              "          ...    \n",
              "4556    1000000.0\n",
              "4557    1000000.0\n",
              "4558    1000000.0\n",
              "4559    1000000.0\n",
              "4560          NaN\n",
              "Name: RealeaseTipo, Length: 4561, dtype: float64"
            ]
          },
          "metadata": {},
          "execution_count": 69
        }
      ]
    },
    {
      "cell_type": "code",
      "source": [
        "datos['RealeaseFinal']=datos['ReleaseNum']*datos['RealeaseTipo']"
      ],
      "metadata": {
        "id": "5_1pMX_1aPiU"
      },
      "execution_count": 70,
      "outputs": []
    },
    {
      "cell_type": "code",
      "source": [
        "datos['RealeaseFinal']"
      ],
      "metadata": {
        "colab": {
          "base_uri": "https://localhost:8080/"
        },
        "id": "uXj88OEQaa5K",
        "outputId": "17e97a35-1eb5-4432-c104-bd11318632b9"
      },
      "execution_count": 71,
      "outputs": [
        {
          "output_type": "execute_result",
          "data": {
            "text/plain": [
              "0       138400000.0\n",
              "1        75900000.0\n",
              "2       159400000.0\n",
              "3       161000000.0\n",
              "4       166500000.0\n",
              "           ...     \n",
              "4556      4500000.0\n",
              "4557      2000000.0\n",
              "4558      4300000.0\n",
              "4559      2300000.0\n",
              "4560            NaN\n",
              "Name: RealeaseFinal, Length: 4561, dtype: float64"
            ]
          },
          "metadata": {},
          "execution_count": 71
        }
      ]
    },
    {
      "cell_type": "code",
      "source": [
        "datos['Release Clause']"
      ],
      "metadata": {
        "colab": {
          "base_uri": "https://localhost:8080/"
        },
        "id": "ao10KPAzaeJQ",
        "outputId": "0dced351-3fc1-417a-f92f-de0eda0ae48a"
      },
      "execution_count": 72,
      "outputs": [
        {
          "output_type": "execute_result",
          "data": {
            "text/plain": [
              "0       €138.4M\n",
              "1        €75.9M\n",
              "2       €159.4M\n",
              "3         €161M\n",
              "4       €166.5M\n",
              "         ...   \n",
              "4556      €4.5M\n",
              "4557        €2M\n",
              "4558      €4.3M\n",
              "4559      €2.3M\n",
              "4560        NaN\n",
              "Name: Release Clause, Length: 4561, dtype: object"
            ]
          },
          "metadata": {},
          "execution_count": 72
        }
      ]
    },
    {
      "cell_type": "markdown",
      "source": [
        "**Remover los caracteres especiales de la columna Hits**"
      ],
      "metadata": {
        "id": "5TT8qlrZIA08"
      }
    },
    {
      "cell_type": "code",
      "source": [
        "datos['Hits']"
      ],
      "metadata": {
        "colab": {
          "base_uri": "https://localhost:8080/"
        },
        "id": "yUl9Dfesantd",
        "outputId": "21d6a4f5-1c05-44e9-ea2b-0e464e8da744"
      },
      "execution_count": 73,
      "outputs": [
        {
          "output_type": "execute_result",
          "data": {
            "text/plain": [
              "0       \\n372\n",
              "1       \\n344\n",
              "2        \\n86\n",
              "3       \\n163\n",
              "4       \\n273\n",
              "        ...  \n",
              "4556     \\n28\n",
              "4557      \\n1\n",
              "4558     \\n20\n",
              "4559      \\n4\n",
              "4560      NaN\n",
              "Name: Hits, Length: 4561, dtype: object"
            ]
          },
          "metadata": {},
          "execution_count": 73
        }
      ]
    },
    {
      "cell_type": "code",
      "source": [
        "datos['Hits']=datos['Hits'].astype(str)"
      ],
      "metadata": {
        "id": "mAC4EX5Ubnu6"
      },
      "execution_count": 74,
      "outputs": []
    },
    {
      "cell_type": "code",
      "source": [
        "datos['Hits'].unique()"
      ],
      "metadata": {
        "colab": {
          "base_uri": "https://localhost:8080/"
        },
        "id": "gWf-YF6Nb2tS",
        "outputId": "c68de61b-fe36-45dd-c84c-782901e7a793"
      },
      "execution_count": 75,
      "outputs": [
        {
          "output_type": "execute_result",
          "data": {
            "text/plain": [
              "array(['\\n372', '\\n344', '\\n86', '\\n163', '\\n273', '\\n182', '\\n646',\n",
              "       '\\n79', '\\n164', '\\n170', '\\n93', '\\n131', '\\n89', '\\n90', '\\n169',\n",
              "       '\\n187', '\\n103', '\\n317', '\\n239', '\\n56', '\\n130', '\\n229',\n",
              "       '\\n124', '\\n172', '\\n114', '\\n46', '\\n663', '\\n479', '\\n203',\n",
              "       '\\n198', '\\n122', '\\n565', '\\n152', '\\n140', '\\n276', '\\n209',\n",
              "       '\\n25', '\\n136', '\\n109', '\\n139', '\\n42', '\\n99', '\\n137',\n",
              "       '\\n166', '\\n80', '\\n104', '\\n150', '\\n112', '\\n285', '\\n133',\n",
              "       '\\n96', '\\n69', '\\n143', '\\n100', '\\n38', '\\n83', '\\n67', '\\n207',\n",
              "       '\\n416', '\\n315', '\\n206', '\\n424', '\\n191', '\\n454', '\\n271',\n",
              "       '\\n249', '\\n121', '\\n246', '\\n171', '\\n148', '\\n329', '\\n70',\n",
              "       '\\n97', '\\n73', '\\n210', '\\n82', '\\n146', '\\n62', '\\n165', '\\n129',\n",
              "       '\\n162', '\\n35', '\\n65', '\\n47', '\\n77', '\\n106', '\\n84', '\\n1.3K',\n",
              "       '\\n310', '\\n181', '\\n364', '\\n200', '\\n141', '\\n134', '\\n259',\n",
              "       '\\n309', '\\n367', '\\n224', '\\n211', '\\n60', '\\n176', '\\n108',\n",
              "       '\\n63', '\\n111', '\\n52', '\\n59', '\\n350', '\\n54', '\\n117', '\\n27',\n",
              "       '\\n91', '\\n365', '\\n312', '\\n286', '\\n157', '\\n291', '\\n245',\n",
              "       '\\n258', '\\n233', '\\n767', '\\n288', '\\n57', '\\n115', '\\n123',\n",
              "       '\\n142', '\\n149', '\\n227', '\\n75', '\\n53', '\\n113', '\\n71', '\\n92',\n",
              "       '\\n144', '\\n132', '\\n125', '\\n45', '\\n158', '\\n55', '\\n43',\n",
              "       '\\n107', '\\n24', '\\n212', '\\n21', '\\n87', '\\n39', '\\n98', '\\n192',\n",
              "       '\\n391', '\\n23', '\\n26', '\\n13', '\\n185', '\\n177', '\\n272',\n",
              "       '\\n193', '\\n225', '\\n78', '\\n88', '\\n37', '\\n168', '\\n85', '\\n34',\n",
              "       '\\n1.5K', '\\n48', '\\n32', '\\n215', '\\n41', '\\n20', '\\n61', '\\n68',\n",
              "       '\\n58', '\\n19', '\\n186', '\\n17', '\\n241', '\\n574', '\\n338',\n",
              "       '\\n274', '\\n2.9K', '\\n492', '\\n670', '\\n324', '\\n352', '\\n31',\n",
              "       '\\n30', '\\n300', '\\n189', '\\n595', '\\n127', '\\n173', '\\n159',\n",
              "       '\\n49', '\\n36', '\\n102', '\\n280', '\\n12', '\\n14', '\\n50', '\\n76',\n",
              "       '\\n95', '\\n51', '\\n40', '\\n22', '\\n11', '\\n9', '\\n16', '\\n10',\n",
              "       '\\n5', '\\n222', '\\n303', '\\n268', '\\n434', '\\n256', '\\n247',\n",
              "       '\\n248', '\\n354', '\\n289', '\\n269', '\\n237', '\\n183', '\\n6',\n",
              "       '\\n217', '\\n155', '\\n523', '\\n921', '\\n264', '\\n72', '\\n29',\n",
              "       '\\n476', '\\n28', '\\n205', '\\n81', '\\n393', '\\n147', '\\n74', '\\n66',\n",
              "       '\\n33', '\\n44', '\\n314', '\\n428', '\\n261', '\\n199', '\\n281',\n",
              "       '\\n316', '\\n118', '\\n411', '\\n396', '\\n4', '\\n794', '\\n243',\n",
              "       '\\n204', '\\n219', '\\n167', '\\n18', '\\n356', '\\n120', '\\n561',\n",
              "       '\\n8', '\\n101', '\\n984', '\\n2K', '\\n603', '\\n526', '\\n1K', '\\n343',\n",
              "       '\\n190', '\\n154', '\\n673', '\\n194', '\\n556', '\\n128', '\\n161',\n",
              "       '\\n494', '\\n196', '\\n232', '\\n332', '\\n283', '\\n138', '\\n15',\n",
              "       '\\n64', '\\n94', '\\n3', '\\n7', '\\n308', '\\n382', '\\n345', '\\n275',\n",
              "       '\\n313', '\\n398', '\\n153', '\\n935', '\\n201', '\\n699', '\\n758',\n",
              "       '\\n745', '\\n184', '\\n1', '\\n501', '\\n145', '\\n119', '\\n255',\n",
              "       '\\n1.2K', '\\n2', '\\n253', '\\n1.7K', '\\n156', '\\n238', '\\n221',\n",
              "       '\\n175', '\\n151', '\\n500', '\\n731', '\\n532', '\\n466', '\\n535',\n",
              "       '\\n297', '\\n265', '\\n599', '\\n234', '\\n180', '\\n195', '\\n116',\n",
              "       '\\n423', '\\n266', '\\n560', '\\n188', '\\n244', '\\n216', '\\n496',\n",
              "       '\\n257', '\\n226', '\\n105', '\\n412', '\\n220', '\\n970', '\\n135',\n",
              "       '\\n360', '\\n178', '\\n1.1K', '\\n326', '\\n251', '\\n369', '\\n4.5K',\n",
              "       '\\n681', '\\n700', '\\n477', '\\n333', 'nan'], dtype=object)"
            ]
          },
          "metadata": {},
          "execution_count": 75
        }
      ]
    },
    {
      "cell_type": "code",
      "source": [
        "datos['hitsnum']=datos['Hits'].str.extract('(\\d+(?:\\.\\d+)?)')"
      ],
      "metadata": {
        "id": "SF5KsvJ5au_B"
      },
      "execution_count": 76,
      "outputs": []
    },
    {
      "cell_type": "code",
      "source": [
        "datos['hitsvalor']=datos['Hits'].str.extract('([a-zA-Z]+)')"
      ],
      "metadata": {
        "id": "X-oHsSWQb_Rv"
      },
      "execution_count": 77,
      "outputs": []
    },
    {
      "cell_type": "code",
      "source": [
        "datos['hitsvalor'].unique()"
      ],
      "metadata": {
        "colab": {
          "base_uri": "https://localhost:8080/"
        },
        "id": "bTrGeFiMcMm5",
        "outputId": "a2d7001f-507a-4ad3-8bc7-da99ad922743"
      },
      "execution_count": 78,
      "outputs": [
        {
          "output_type": "execute_result",
          "data": {
            "text/plain": [
              "array([nan, 'K', 'nan'], dtype=object)"
            ]
          },
          "metadata": {},
          "execution_count": 78
        }
      ]
    },
    {
      "cell_type": "code",
      "source": [
        "datos['hitsvalor']=datos['hitsvalor'].astype(str)"
      ],
      "metadata": {
        "id": "_hl3UoSScby5"
      },
      "execution_count": 79,
      "outputs": []
    },
    {
      "cell_type": "code",
      "source": [
        "datos['hitsvalor'].unique()"
      ],
      "metadata": {
        "colab": {
          "base_uri": "https://localhost:8080/"
        },
        "id": "8CR9pxhPcg_Y",
        "outputId": "d64ae3db-b82b-4353-873d-9cb4d09ea208"
      },
      "execution_count": 80,
      "outputs": [
        {
          "output_type": "execute_result",
          "data": {
            "text/plain": [
              "array(['nan', 'K'], dtype=object)"
            ]
          },
          "metadata": {},
          "execution_count": 80
        }
      ]
    },
    {
      "cell_type": "code",
      "source": [
        "datos['hitsvalor']=datos.hitsvalor.replace({\"nan\":1,\"K\":1000})"
      ],
      "metadata": {
        "id": "usOhddHccmU_"
      },
      "execution_count": 81,
      "outputs": []
    },
    {
      "cell_type": "code",
      "source": [
        "datos['hitsvalor']"
      ],
      "metadata": {
        "colab": {
          "base_uri": "https://localhost:8080/"
        },
        "id": "eZqGqEMsdAP5",
        "outputId": "2d3ac57a-2b19-4373-f22a-b59d66f07aa2"
      },
      "execution_count": 82,
      "outputs": [
        {
          "output_type": "execute_result",
          "data": {
            "text/plain": [
              "0       1\n",
              "1       1\n",
              "2       1\n",
              "3       1\n",
              "4       1\n",
              "       ..\n",
              "4556    1\n",
              "4557    1\n",
              "4558    1\n",
              "4559    1\n",
              "4560    1\n",
              "Name: hitsvalor, Length: 4561, dtype: int64"
            ]
          },
          "metadata": {},
          "execution_count": 82
        }
      ]
    },
    {
      "cell_type": "code",
      "source": [
        "datos['hitsnum']=pd.to_numeric(datos['hitsnum'])"
      ],
      "metadata": {
        "id": "hKZKIVcedPnN"
      },
      "execution_count": 83,
      "outputs": []
    },
    {
      "cell_type": "code",
      "source": [
        "datos['hitsfinal']=datos['hitsnum']*datos['hitsvalor']"
      ],
      "metadata": {
        "id": "dBX7mvItdhmQ"
      },
      "execution_count": 84,
      "outputs": []
    },
    {
      "cell_type": "code",
      "source": [
        "datos['hitsfinal']"
      ],
      "metadata": {
        "colab": {
          "base_uri": "https://localhost:8080/"
        },
        "id": "9EQgAbPCdvfn",
        "outputId": "a255faef-2dc9-43ef-8a6b-20e7c23d9ba5"
      },
      "execution_count": 85,
      "outputs": [
        {
          "output_type": "execute_result",
          "data": {
            "text/plain": [
              "0       372.0\n",
              "1       344.0\n",
              "2        86.0\n",
              "3       163.0\n",
              "4       273.0\n",
              "        ...  \n",
              "4556     28.0\n",
              "4557      1.0\n",
              "4558     20.0\n",
              "4559      4.0\n",
              "4560      NaN\n",
              "Name: hitsfinal, Length: 4561, dtype: float64"
            ]
          },
          "metadata": {},
          "execution_count": 85
        }
      ]
    },
    {
      "cell_type": "markdown",
      "source": [
        "**Separar la columna Team & Contract en 2 columnas**"
      ],
      "metadata": {
        "id": "D1G2r5TtIIKn"
      }
    },
    {
      "cell_type": "code",
      "source": [
        "datos['Team & Contract']"
      ],
      "metadata": {
        "colab": {
          "base_uri": "https://localhost:8080/"
        },
        "id": "M3wnM2QHcz8f",
        "outputId": "9dc414a2-280d-4944-85c8-016b76f88065"
      },
      "execution_count": 86,
      "outputs": [
        {
          "output_type": "execute_result",
          "data": {
            "text/plain": [
              "0              \\n\\n\\n\\nFC Barcelona\\n2004 ~ 2021\\n\\n\n",
              "1                  \\n\\n\\n\\nJuventus\\n2018 ~ 2022\\n\\n\n",
              "2           \\n\\n\\n\\nAtlético Madrid\\n2014 ~ 2023\\n\\n\n",
              "3           \\n\\n\\n\\nManchester City\\n2015 ~ 2023\\n\\n\n",
              "4       \\n\\n\\n\\nParis Saint-Germain\\n2017 ~ 2022\\n\\n\n",
              "                            ...                     \n",
              "4556                 \\n\\n\\n\\nFulham\\n2017 ~ 2024\\n\\n\n",
              "4557    \\n\\n\\n\\nStade Malherbe Caen\\n2019 ~ 2022\\n\\n\n",
              "4558         \\n\\n\\n\\nRayo Vallecano\\n2016 ~ 2023\\n\\n\n",
              "4559               \\n\\n\\n\\nMolde FK\\n2019 ~ 2022\\n\\n\n",
              "4560                                             NaN\n",
              "Name: Team & Contract, Length: 4561, dtype: object"
            ]
          },
          "metadata": {},
          "execution_count": 86
        }
      ]
    },
    {
      "cell_type": "code",
      "source": [
        "datos['Team & Contract']=datos['Team & Contract'].astype(str)"
      ],
      "metadata": {
        "id": "N-w4EN3ee4Re"
      },
      "execution_count": 87,
      "outputs": []
    },
    {
      "cell_type": "code",
      "source": [
        "datos['Team & Contract']"
      ],
      "metadata": {
        "colab": {
          "base_uri": "https://localhost:8080/"
        },
        "id": "z9FPdu0HfI5S",
        "outputId": "0cda28f5-d38a-4e3d-a0a4-15331a8787f4"
      },
      "execution_count": 88,
      "outputs": [
        {
          "output_type": "execute_result",
          "data": {
            "text/plain": [
              "0              \\n\\n\\n\\nFC Barcelona\\n2004 ~ 2021\\n\\n\n",
              "1                  \\n\\n\\n\\nJuventus\\n2018 ~ 2022\\n\\n\n",
              "2           \\n\\n\\n\\nAtlético Madrid\\n2014 ~ 2023\\n\\n\n",
              "3           \\n\\n\\n\\nManchester City\\n2015 ~ 2023\\n\\n\n",
              "4       \\n\\n\\n\\nParis Saint-Germain\\n2017 ~ 2022\\n\\n\n",
              "                            ...                     \n",
              "4556                 \\n\\n\\n\\nFulham\\n2017 ~ 2024\\n\\n\n",
              "4557    \\n\\n\\n\\nStade Malherbe Caen\\n2019 ~ 2022\\n\\n\n",
              "4558         \\n\\n\\n\\nRayo Vallecano\\n2016 ~ 2023\\n\\n\n",
              "4559               \\n\\n\\n\\nMolde FK\\n2019 ~ 2022\\n\\n\n",
              "4560                                             nan\n",
              "Name: Team & Contract, Length: 4561, dtype: object"
            ]
          },
          "metadata": {},
          "execution_count": 88
        }
      ]
    },
    {
      "cell_type": "code",
      "source": [
        "datos['Team & Contract'].str.split('\\n', expand=True)"
      ],
      "metadata": {
        "colab": {
          "base_uri": "https://localhost:8080/",
          "height": 424
        },
        "id": "bG7IUFgMm3Wr",
        "outputId": "bc2e50de-353b-48d6-aa0d-f48bb66fc9df"
      },
      "execution_count": 93,
      "outputs": [
        {
          "output_type": "execute_result",
          "data": {
            "text/plain": [
              "        0     1     2     3                    4            5     6     7\n",
              "0                                   FC Barcelona  2004 ~ 2021            \n",
              "1                                       Juventus  2018 ~ 2022            \n",
              "2                                Atlético Madrid  2014 ~ 2023            \n",
              "3                                Manchester City  2015 ~ 2023            \n",
              "4                            Paris Saint-Germain  2017 ~ 2022            \n",
              "...   ...   ...   ...   ...                  ...          ...   ...   ...\n",
              "4556                                      Fulham  2017 ~ 2024            \n",
              "4557                         Stade Malherbe Caen  2019 ~ 2022            \n",
              "4558                              Rayo Vallecano  2016 ~ 2023            \n",
              "4559                                    Molde FK  2019 ~ 2022            \n",
              "4560  nan  None  None  None                 None         None  None  None\n",
              "\n",
              "[4561 rows x 8 columns]"
            ],
            "text/html": [
              "\n",
              "\n",
              "  <div id=\"df-f295849c-97a6-4ebc-9a60-2fd3063a8a66\">\n",
              "    <div class=\"colab-df-container\">\n",
              "      <div>\n",
              "<style scoped>\n",
              "    .dataframe tbody tr th:only-of-type {\n",
              "        vertical-align: middle;\n",
              "    }\n",
              "\n",
              "    .dataframe tbody tr th {\n",
              "        vertical-align: top;\n",
              "    }\n",
              "\n",
              "    .dataframe thead th {\n",
              "        text-align: right;\n",
              "    }\n",
              "</style>\n",
              "<table border=\"1\" class=\"dataframe\">\n",
              "  <thead>\n",
              "    <tr style=\"text-align: right;\">\n",
              "      <th></th>\n",
              "      <th>0</th>\n",
              "      <th>1</th>\n",
              "      <th>2</th>\n",
              "      <th>3</th>\n",
              "      <th>4</th>\n",
              "      <th>5</th>\n",
              "      <th>6</th>\n",
              "      <th>7</th>\n",
              "    </tr>\n",
              "  </thead>\n",
              "  <tbody>\n",
              "    <tr>\n",
              "      <th>0</th>\n",
              "      <td></td>\n",
              "      <td></td>\n",
              "      <td></td>\n",
              "      <td></td>\n",
              "      <td>FC Barcelona</td>\n",
              "      <td>2004 ~ 2021</td>\n",
              "      <td></td>\n",
              "      <td></td>\n",
              "    </tr>\n",
              "    <tr>\n",
              "      <th>1</th>\n",
              "      <td></td>\n",
              "      <td></td>\n",
              "      <td></td>\n",
              "      <td></td>\n",
              "      <td>Juventus</td>\n",
              "      <td>2018 ~ 2022</td>\n",
              "      <td></td>\n",
              "      <td></td>\n",
              "    </tr>\n",
              "    <tr>\n",
              "      <th>2</th>\n",
              "      <td></td>\n",
              "      <td></td>\n",
              "      <td></td>\n",
              "      <td></td>\n",
              "      <td>Atlético Madrid</td>\n",
              "      <td>2014 ~ 2023</td>\n",
              "      <td></td>\n",
              "      <td></td>\n",
              "    </tr>\n",
              "    <tr>\n",
              "      <th>3</th>\n",
              "      <td></td>\n",
              "      <td></td>\n",
              "      <td></td>\n",
              "      <td></td>\n",
              "      <td>Manchester City</td>\n",
              "      <td>2015 ~ 2023</td>\n",
              "      <td></td>\n",
              "      <td></td>\n",
              "    </tr>\n",
              "    <tr>\n",
              "      <th>4</th>\n",
              "      <td></td>\n",
              "      <td></td>\n",
              "      <td></td>\n",
              "      <td></td>\n",
              "      <td>Paris Saint-Germain</td>\n",
              "      <td>2017 ~ 2022</td>\n",
              "      <td></td>\n",
              "      <td></td>\n",
              "    </tr>\n",
              "    <tr>\n",
              "      <th>...</th>\n",
              "      <td>...</td>\n",
              "      <td>...</td>\n",
              "      <td>...</td>\n",
              "      <td>...</td>\n",
              "      <td>...</td>\n",
              "      <td>...</td>\n",
              "      <td>...</td>\n",
              "      <td>...</td>\n",
              "    </tr>\n",
              "    <tr>\n",
              "      <th>4556</th>\n",
              "      <td></td>\n",
              "      <td></td>\n",
              "      <td></td>\n",
              "      <td></td>\n",
              "      <td>Fulham</td>\n",
              "      <td>2017 ~ 2024</td>\n",
              "      <td></td>\n",
              "      <td></td>\n",
              "    </tr>\n",
              "    <tr>\n",
              "      <th>4557</th>\n",
              "      <td></td>\n",
              "      <td></td>\n",
              "      <td></td>\n",
              "      <td></td>\n",
              "      <td>Stade Malherbe Caen</td>\n",
              "      <td>2019 ~ 2022</td>\n",
              "      <td></td>\n",
              "      <td></td>\n",
              "    </tr>\n",
              "    <tr>\n",
              "      <th>4558</th>\n",
              "      <td></td>\n",
              "      <td></td>\n",
              "      <td></td>\n",
              "      <td></td>\n",
              "      <td>Rayo Vallecano</td>\n",
              "      <td>2016 ~ 2023</td>\n",
              "      <td></td>\n",
              "      <td></td>\n",
              "    </tr>\n",
              "    <tr>\n",
              "      <th>4559</th>\n",
              "      <td></td>\n",
              "      <td></td>\n",
              "      <td></td>\n",
              "      <td></td>\n",
              "      <td>Molde FK</td>\n",
              "      <td>2019 ~ 2022</td>\n",
              "      <td></td>\n",
              "      <td></td>\n",
              "    </tr>\n",
              "    <tr>\n",
              "      <th>4560</th>\n",
              "      <td>nan</td>\n",
              "      <td>None</td>\n",
              "      <td>None</td>\n",
              "      <td>None</td>\n",
              "      <td>None</td>\n",
              "      <td>None</td>\n",
              "      <td>None</td>\n",
              "      <td>None</td>\n",
              "    </tr>\n",
              "  </tbody>\n",
              "</table>\n",
              "<p>4561 rows × 8 columns</p>\n",
              "</div>\n",
              "      <button class=\"colab-df-convert\" onclick=\"convertToInteractive('df-f295849c-97a6-4ebc-9a60-2fd3063a8a66')\"\n",
              "              title=\"Convert this dataframe to an interactive table.\"\n",
              "              style=\"display:none;\">\n",
              "\n",
              "  <svg xmlns=\"http://www.w3.org/2000/svg\" height=\"24px\"viewBox=\"0 0 24 24\"\n",
              "       width=\"24px\">\n",
              "    <path d=\"M0 0h24v24H0V0z\" fill=\"none\"/>\n",
              "    <path d=\"M18.56 5.44l.94 2.06.94-2.06 2.06-.94-2.06-.94-.94-2.06-.94 2.06-2.06.94zm-11 1L8.5 8.5l.94-2.06 2.06-.94-2.06-.94L8.5 2.5l-.94 2.06-2.06.94zm10 10l.94 2.06.94-2.06 2.06-.94-2.06-.94-.94-2.06-.94 2.06-2.06.94z\"/><path d=\"M17.41 7.96l-1.37-1.37c-.4-.4-.92-.59-1.43-.59-.52 0-1.04.2-1.43.59L10.3 9.45l-7.72 7.72c-.78.78-.78 2.05 0 2.83L4 21.41c.39.39.9.59 1.41.59.51 0 1.02-.2 1.41-.59l7.78-7.78 2.81-2.81c.8-.78.8-2.07 0-2.86zM5.41 20L4 18.59l7.72-7.72 1.47 1.35L5.41 20z\"/>\n",
              "  </svg>\n",
              "      </button>\n",
              "\n",
              "\n",
              "\n",
              "    <div id=\"df-3a5ed112-cb72-4bc4-9d1b-4a49ff529bd5\">\n",
              "      <button class=\"colab-df-quickchart\" onclick=\"quickchart('df-3a5ed112-cb72-4bc4-9d1b-4a49ff529bd5')\"\n",
              "              title=\"Suggest charts.\"\n",
              "              style=\"display:none;\">\n",
              "\n",
              "<svg xmlns=\"http://www.w3.org/2000/svg\" height=\"24px\"viewBox=\"0 0 24 24\"\n",
              "     width=\"24px\">\n",
              "    <g>\n",
              "        <path d=\"M19 3H5c-1.1 0-2 .9-2 2v14c0 1.1.9 2 2 2h14c1.1 0 2-.9 2-2V5c0-1.1-.9-2-2-2zM9 17H7v-7h2v7zm4 0h-2V7h2v10zm4 0h-2v-4h2v4z\"/>\n",
              "    </g>\n",
              "</svg>\n",
              "      </button>\n",
              "    </div>\n",
              "\n",
              "<style>\n",
              "  .colab-df-quickchart {\n",
              "    background-color: #E8F0FE;\n",
              "    border: none;\n",
              "    border-radius: 50%;\n",
              "    cursor: pointer;\n",
              "    display: none;\n",
              "    fill: #1967D2;\n",
              "    height: 32px;\n",
              "    padding: 0 0 0 0;\n",
              "    width: 32px;\n",
              "  }\n",
              "\n",
              "  .colab-df-quickchart:hover {\n",
              "    background-color: #E2EBFA;\n",
              "    box-shadow: 0px 1px 2px rgba(60, 64, 67, 0.3), 0px 1px 3px 1px rgba(60, 64, 67, 0.15);\n",
              "    fill: #174EA6;\n",
              "  }\n",
              "\n",
              "  [theme=dark] .colab-df-quickchart {\n",
              "    background-color: #3B4455;\n",
              "    fill: #D2E3FC;\n",
              "  }\n",
              "\n",
              "  [theme=dark] .colab-df-quickchart:hover {\n",
              "    background-color: #434B5C;\n",
              "    box-shadow: 0px 1px 3px 1px rgba(0, 0, 0, 0.15);\n",
              "    filter: drop-shadow(0px 1px 2px rgba(0, 0, 0, 0.3));\n",
              "    fill: #FFFFFF;\n",
              "  }\n",
              "</style>\n",
              "\n",
              "    <script>\n",
              "      async function quickchart(key) {\n",
              "        const containerElement = document.querySelector('#' + key);\n",
              "        const charts = await google.colab.kernel.invokeFunction(\n",
              "            'suggestCharts', [key], {});\n",
              "      }\n",
              "    </script>\n",
              "\n",
              "      <script>\n",
              "\n",
              "function displayQuickchartButton(domScope) {\n",
              "  let quickchartButtonEl =\n",
              "    domScope.querySelector('#df-3a5ed112-cb72-4bc4-9d1b-4a49ff529bd5 button.colab-df-quickchart');\n",
              "  quickchartButtonEl.style.display =\n",
              "    google.colab.kernel.accessAllowed ? 'block' : 'none';\n",
              "}\n",
              "\n",
              "        displayQuickchartButton(document);\n",
              "      </script>\n",
              "      <style>\n",
              "    .colab-df-container {\n",
              "      display:flex;\n",
              "      flex-wrap:wrap;\n",
              "      gap: 12px;\n",
              "    }\n",
              "\n",
              "    .colab-df-convert {\n",
              "      background-color: #E8F0FE;\n",
              "      border: none;\n",
              "      border-radius: 50%;\n",
              "      cursor: pointer;\n",
              "      display: none;\n",
              "      fill: #1967D2;\n",
              "      height: 32px;\n",
              "      padding: 0 0 0 0;\n",
              "      width: 32px;\n",
              "    }\n",
              "\n",
              "    .colab-df-convert:hover {\n",
              "      background-color: #E2EBFA;\n",
              "      box-shadow: 0px 1px 2px rgba(60, 64, 67, 0.3), 0px 1px 3px 1px rgba(60, 64, 67, 0.15);\n",
              "      fill: #174EA6;\n",
              "    }\n",
              "\n",
              "    [theme=dark] .colab-df-convert {\n",
              "      background-color: #3B4455;\n",
              "      fill: #D2E3FC;\n",
              "    }\n",
              "\n",
              "    [theme=dark] .colab-df-convert:hover {\n",
              "      background-color: #434B5C;\n",
              "      box-shadow: 0px 1px 3px 1px rgba(0, 0, 0, 0.15);\n",
              "      filter: drop-shadow(0px 1px 2px rgba(0, 0, 0, 0.3));\n",
              "      fill: #FFFFFF;\n",
              "    }\n",
              "  </style>\n",
              "\n",
              "      <script>\n",
              "        const buttonEl =\n",
              "          document.querySelector('#df-f295849c-97a6-4ebc-9a60-2fd3063a8a66 button.colab-df-convert');\n",
              "        buttonEl.style.display =\n",
              "          google.colab.kernel.accessAllowed ? 'block' : 'none';\n",
              "\n",
              "        async function convertToInteractive(key) {\n",
              "          const element = document.querySelector('#df-f295849c-97a6-4ebc-9a60-2fd3063a8a66');\n",
              "          const dataTable =\n",
              "            await google.colab.kernel.invokeFunction('convertToInteractive',\n",
              "                                                     [key], {});\n",
              "          if (!dataTable) return;\n",
              "\n",
              "          const docLinkHtml = 'Like what you see? Visit the ' +\n",
              "            '<a target=\"_blank\" href=https://colab.research.google.com/notebooks/data_table.ipynb>data table notebook</a>'\n",
              "            + ' to learn more about interactive tables.';\n",
              "          element.innerHTML = '';\n",
              "          dataTable['output_type'] = 'display_data';\n",
              "          await google.colab.output.renderOutput(dataTable, element);\n",
              "          const docLink = document.createElement('div');\n",
              "          docLink.innerHTML = docLinkHtml;\n",
              "          element.appendChild(docLink);\n",
              "        }\n",
              "      </script>\n",
              "    </div>\n",
              "  </div>\n"
            ]
          },
          "metadata": {},
          "execution_count": 93
        }
      ]
    },
    {
      "cell_type": "code",
      "source": [
        "ejemplo=datos['Team & Contract'].str.split('\\n', expand=True)"
      ],
      "metadata": {
        "id": "pt854arlnnLC"
      },
      "execution_count": 95,
      "outputs": []
    },
    {
      "cell_type": "code",
      "source": [],
      "metadata": {
        "id": "_8oIeD-zonEx"
      },
      "execution_count": 95,
      "outputs": []
    },
    {
      "cell_type": "code",
      "source": [
        "ejemplo.columns=['blanco0','blanco1','blanco2','blanco3','Team','Contract','blanco6','blanco7']\n",
        "datos=pd.concat([datos,ejemplo], axis=1)"
      ],
      "metadata": {
        "id": "cR6RZA2ao6nc"
      },
      "execution_count": 96,
      "outputs": []
    },
    {
      "cell_type": "code",
      "source": [
        "datos"
      ],
      "metadata": {
        "colab": {
          "base_uri": "https://localhost:8080/",
          "height": 1000
        },
        "id": "m-Jfdd9uo5EW",
        "outputId": "7e5858ce-7449-46cc-ea36-e93cabbba3ee"
      },
      "execution_count": 97,
      "outputs": [
        {
          "output_type": "execute_result",
          "data": {
            "text/plain": [
              "                                              photoUrl  \\\n",
              "0     https://cdn.sofifa.com/players/158/023/21_60.png   \n",
              "1     https://cdn.sofifa.com/players/020/801/21_60.png   \n",
              "2     https://cdn.sofifa.com/players/200/389/21_60.png   \n",
              "3     https://cdn.sofifa.com/players/192/985/21_60.png   \n",
              "4     https://cdn.sofifa.com/players/190/871/21_60.png   \n",
              "...                                                ...   \n",
              "4556  https://cdn.sofifa.com/players/225/541/21_60.png   \n",
              "4557  https://cdn.sofifa.com/players/168/965/21_60.png   \n",
              "4558  https://cdn.sofifa.com/players/235/781/21_60.png   \n",
              "4559  https://cdn.sofifa.com/players/207/622/21_60.png   \n",
              "4560  https://cdn.sofifa.com/players/212/231/21_60.png   \n",
              "\n",
              "                          LongName  \\\n",
              "0                     Lionel Messi   \n",
              "1     C. Ronaldo dos Santos Aveiro   \n",
              "2                        Jan Oblak   \n",
              "3                  Kevin De Bruyne   \n",
              "4       Neymar da Silva Santos Jr.   \n",
              "...                            ...   \n",
              "4556              Aboubakar Kamara   \n",
              "4557                     Rémy Riou   \n",
              "4558       Santiago Comesaña Veiga   \n",
              "4559               Martin Bjørnbak   \n",
              "4560            Tobias Pereira Fig   \n",
              "\n",
              "                                              playerUrl Nationality Positions  \\\n",
              "0     http://sofifa.com/player/158023/lionel-messi/2...   Argentina  RW ST CF   \n",
              "1     http://sofifa.com/player/20801/c-ronaldo-dos-s...    Portugal     ST LW   \n",
              "2     http://sofifa.com/player/200389/jan-oblak/210005/    Slovenia        GK   \n",
              "3     http://sofifa.com/player/192985/kevin-de-bruyn...     Belgium    CAM CM   \n",
              "4     http://sofifa.com/player/190871/neymar-da-silv...      Brazil    LW CAM   \n",
              "...                                                 ...         ...       ...   \n",
              "4556  http://sofifa.com/player/225541/aboubakar-kama...      France     ST RW   \n",
              "4557  http://sofifa.com/player/168965/remy-riou/210005/      France        GK   \n",
              "4558  http://sofifa.com/player/235781/santiago-comes...       Spain    CM CDM   \n",
              "4559  http://sofifa.com/player/207622/martin-bjornba...      Norway        CB   \n",
              "4560                                                NaN         NaN       NaN   \n",
              "\n",
              "                   Name   Age  ↓OVA   POT  \\\n",
              "0              L. Messi  33.0  93.0  93.0   \n",
              "1     Cristiano Ronaldo  35.0  92.0  92.0   \n",
              "2              J. Oblak  27.0  91.0  93.0   \n",
              "3          K. De Bruyne  29.0  91.0  91.0   \n",
              "4             Neymar Jr  28.0  91.0  91.0   \n",
              "...                 ...   ...   ...   ...   \n",
              "4556          A. Kamara  25.0  70.0  73.0   \n",
              "4557            R. Riou  32.0  70.0  70.0   \n",
              "4558     Santi Comesaña  23.0  70.0  76.0   \n",
              "4559        M. Bjørnbak  28.0  70.0  71.0   \n",
              "4560                NaN   NaN   NaN   NaN   \n",
              "\n",
              "                                   Team & Contract  ...  hitsfinal  \\\n",
              "0            \\n\\n\\n\\nFC Barcelona\\n2004 ~ 2021\\n\\n  ...      372.0   \n",
              "1                \\n\\n\\n\\nJuventus\\n2018 ~ 2022\\n\\n  ...      344.0   \n",
              "2         \\n\\n\\n\\nAtlético Madrid\\n2014 ~ 2023\\n\\n  ...       86.0   \n",
              "3         \\n\\n\\n\\nManchester City\\n2015 ~ 2023\\n\\n  ...      163.0   \n",
              "4     \\n\\n\\n\\nParis Saint-Germain\\n2017 ~ 2022\\n\\n  ...      273.0   \n",
              "...                                            ...  ...        ...   \n",
              "4556               \\n\\n\\n\\nFulham\\n2017 ~ 2024\\n\\n  ...       28.0   \n",
              "4557  \\n\\n\\n\\nStade Malherbe Caen\\n2019 ~ 2022\\n\\n  ...        1.0   \n",
              "4558       \\n\\n\\n\\nRayo Vallecano\\n2016 ~ 2023\\n\\n  ...       20.0   \n",
              "4559             \\n\\n\\n\\nMolde FK\\n2019 ~ 2022\\n\\n  ...        4.0   \n",
              "4560                                           nan  ...        NaN   \n",
              "\n",
              "                                              prueba blanco0  blanco1 blanco2  \\\n",
              "0            [, , , , FC Barcelona, 2004 ~ 2021, , ]                            \n",
              "1                [, , , , Juventus, 2018 ~ 2022, , ]                            \n",
              "2         [, , , , Atlético Madrid, 2014 ~ 2023, , ]                            \n",
              "3         [, , , , Manchester City, 2015 ~ 2023, , ]                            \n",
              "4     [, , , , Paris Saint-Germain, 2017 ~ 2022, , ]                            \n",
              "...                                              ...     ...      ...     ...   \n",
              "4556               [, , , , Fulham, 2017 ~ 2024, , ]                            \n",
              "4557  [, , , , Stade Malherbe Caen, 2019 ~ 2022, , ]                            \n",
              "4558       [, , , , Rayo Vallecano, 2016 ~ 2023, , ]                            \n",
              "4559             [, , , , Molde FK, 2019 ~ 2022, , ]                            \n",
              "4560                                           [nan]     nan     None    None   \n",
              "\n",
              "      blanco3                 Team     Contract blanco6 blanco7  \n",
              "0                     FC Barcelona  2004 ~ 2021                  \n",
              "1                         Juventus  2018 ~ 2022                  \n",
              "2                  Atlético Madrid  2014 ~ 2023                  \n",
              "3                  Manchester City  2015 ~ 2023                  \n",
              "4              Paris Saint-Germain  2017 ~ 2022                  \n",
              "...       ...                  ...          ...     ...     ...  \n",
              "4556                        Fulham  2017 ~ 2024                  \n",
              "4557           Stade Malherbe Caen  2019 ~ 2022                  \n",
              "4558                Rayo Vallecano  2016 ~ 2023                  \n",
              "4559                      Molde FK  2019 ~ 2022                  \n",
              "4560     None                 None         None    None    None  \n",
              "\n",
              "[4561 rows x 101 columns]"
            ],
            "text/html": [
              "\n",
              "\n",
              "  <div id=\"df-f81aa143-288b-4e9d-a207-e3ba2d04a57e\">\n",
              "    <div class=\"colab-df-container\">\n",
              "      <div>\n",
              "<style scoped>\n",
              "    .dataframe tbody tr th:only-of-type {\n",
              "        vertical-align: middle;\n",
              "    }\n",
              "\n",
              "    .dataframe tbody tr th {\n",
              "        vertical-align: top;\n",
              "    }\n",
              "\n",
              "    .dataframe thead th {\n",
              "        text-align: right;\n",
              "    }\n",
              "</style>\n",
              "<table border=\"1\" class=\"dataframe\">\n",
              "  <thead>\n",
              "    <tr style=\"text-align: right;\">\n",
              "      <th></th>\n",
              "      <th>photoUrl</th>\n",
              "      <th>LongName</th>\n",
              "      <th>playerUrl</th>\n",
              "      <th>Nationality</th>\n",
              "      <th>Positions</th>\n",
              "      <th>Name</th>\n",
              "      <th>Age</th>\n",
              "      <th>↓OVA</th>\n",
              "      <th>POT</th>\n",
              "      <th>Team &amp; Contract</th>\n",
              "      <th>...</th>\n",
              "      <th>hitsfinal</th>\n",
              "      <th>prueba</th>\n",
              "      <th>blanco0</th>\n",
              "      <th>blanco1</th>\n",
              "      <th>blanco2</th>\n",
              "      <th>blanco3</th>\n",
              "      <th>Team</th>\n",
              "      <th>Contract</th>\n",
              "      <th>blanco6</th>\n",
              "      <th>blanco7</th>\n",
              "    </tr>\n",
              "  </thead>\n",
              "  <tbody>\n",
              "    <tr>\n",
              "      <th>0</th>\n",
              "      <td>https://cdn.sofifa.com/players/158/023/21_60.png</td>\n",
              "      <td>Lionel Messi</td>\n",
              "      <td>http://sofifa.com/player/158023/lionel-messi/2...</td>\n",
              "      <td>Argentina</td>\n",
              "      <td>RW ST CF</td>\n",
              "      <td>L. Messi</td>\n",
              "      <td>33.0</td>\n",
              "      <td>93.0</td>\n",
              "      <td>93.0</td>\n",
              "      <td>\\n\\n\\n\\nFC Barcelona\\n2004 ~ 2021\\n\\n</td>\n",
              "      <td>...</td>\n",
              "      <td>372.0</td>\n",
              "      <td>[, , , , FC Barcelona, 2004 ~ 2021, , ]</td>\n",
              "      <td></td>\n",
              "      <td></td>\n",
              "      <td></td>\n",
              "      <td></td>\n",
              "      <td>FC Barcelona</td>\n",
              "      <td>2004 ~ 2021</td>\n",
              "      <td></td>\n",
              "      <td></td>\n",
              "    </tr>\n",
              "    <tr>\n",
              "      <th>1</th>\n",
              "      <td>https://cdn.sofifa.com/players/020/801/21_60.png</td>\n",
              "      <td>C. Ronaldo dos Santos Aveiro</td>\n",
              "      <td>http://sofifa.com/player/20801/c-ronaldo-dos-s...</td>\n",
              "      <td>Portugal</td>\n",
              "      <td>ST LW</td>\n",
              "      <td>Cristiano Ronaldo</td>\n",
              "      <td>35.0</td>\n",
              "      <td>92.0</td>\n",
              "      <td>92.0</td>\n",
              "      <td>\\n\\n\\n\\nJuventus\\n2018 ~ 2022\\n\\n</td>\n",
              "      <td>...</td>\n",
              "      <td>344.0</td>\n",
              "      <td>[, , , , Juventus, 2018 ~ 2022, , ]</td>\n",
              "      <td></td>\n",
              "      <td></td>\n",
              "      <td></td>\n",
              "      <td></td>\n",
              "      <td>Juventus</td>\n",
              "      <td>2018 ~ 2022</td>\n",
              "      <td></td>\n",
              "      <td></td>\n",
              "    </tr>\n",
              "    <tr>\n",
              "      <th>2</th>\n",
              "      <td>https://cdn.sofifa.com/players/200/389/21_60.png</td>\n",
              "      <td>Jan Oblak</td>\n",
              "      <td>http://sofifa.com/player/200389/jan-oblak/210005/</td>\n",
              "      <td>Slovenia</td>\n",
              "      <td>GK</td>\n",
              "      <td>J. Oblak</td>\n",
              "      <td>27.0</td>\n",
              "      <td>91.0</td>\n",
              "      <td>93.0</td>\n",
              "      <td>\\n\\n\\n\\nAtlético Madrid\\n2014 ~ 2023\\n\\n</td>\n",
              "      <td>...</td>\n",
              "      <td>86.0</td>\n",
              "      <td>[, , , , Atlético Madrid, 2014 ~ 2023, , ]</td>\n",
              "      <td></td>\n",
              "      <td></td>\n",
              "      <td></td>\n",
              "      <td></td>\n",
              "      <td>Atlético Madrid</td>\n",
              "      <td>2014 ~ 2023</td>\n",
              "      <td></td>\n",
              "      <td></td>\n",
              "    </tr>\n",
              "    <tr>\n",
              "      <th>3</th>\n",
              "      <td>https://cdn.sofifa.com/players/192/985/21_60.png</td>\n",
              "      <td>Kevin De Bruyne</td>\n",
              "      <td>http://sofifa.com/player/192985/kevin-de-bruyn...</td>\n",
              "      <td>Belgium</td>\n",
              "      <td>CAM CM</td>\n",
              "      <td>K. De Bruyne</td>\n",
              "      <td>29.0</td>\n",
              "      <td>91.0</td>\n",
              "      <td>91.0</td>\n",
              "      <td>\\n\\n\\n\\nManchester City\\n2015 ~ 2023\\n\\n</td>\n",
              "      <td>...</td>\n",
              "      <td>163.0</td>\n",
              "      <td>[, , , , Manchester City, 2015 ~ 2023, , ]</td>\n",
              "      <td></td>\n",
              "      <td></td>\n",
              "      <td></td>\n",
              "      <td></td>\n",
              "      <td>Manchester City</td>\n",
              "      <td>2015 ~ 2023</td>\n",
              "      <td></td>\n",
              "      <td></td>\n",
              "    </tr>\n",
              "    <tr>\n",
              "      <th>4</th>\n",
              "      <td>https://cdn.sofifa.com/players/190/871/21_60.png</td>\n",
              "      <td>Neymar da Silva Santos Jr.</td>\n",
              "      <td>http://sofifa.com/player/190871/neymar-da-silv...</td>\n",
              "      <td>Brazil</td>\n",
              "      <td>LW CAM</td>\n",
              "      <td>Neymar Jr</td>\n",
              "      <td>28.0</td>\n",
              "      <td>91.0</td>\n",
              "      <td>91.0</td>\n",
              "      <td>\\n\\n\\n\\nParis Saint-Germain\\n2017 ~ 2022\\n\\n</td>\n",
              "      <td>...</td>\n",
              "      <td>273.0</td>\n",
              "      <td>[, , , , Paris Saint-Germain, 2017 ~ 2022, , ]</td>\n",
              "      <td></td>\n",
              "      <td></td>\n",
              "      <td></td>\n",
              "      <td></td>\n",
              "      <td>Paris Saint-Germain</td>\n",
              "      <td>2017 ~ 2022</td>\n",
              "      <td></td>\n",
              "      <td></td>\n",
              "    </tr>\n",
              "    <tr>\n",
              "      <th>...</th>\n",
              "      <td>...</td>\n",
              "      <td>...</td>\n",
              "      <td>...</td>\n",
              "      <td>...</td>\n",
              "      <td>...</td>\n",
              "      <td>...</td>\n",
              "      <td>...</td>\n",
              "      <td>...</td>\n",
              "      <td>...</td>\n",
              "      <td>...</td>\n",
              "      <td>...</td>\n",
              "      <td>...</td>\n",
              "      <td>...</td>\n",
              "      <td>...</td>\n",
              "      <td>...</td>\n",
              "      <td>...</td>\n",
              "      <td>...</td>\n",
              "      <td>...</td>\n",
              "      <td>...</td>\n",
              "      <td>...</td>\n",
              "      <td>...</td>\n",
              "    </tr>\n",
              "    <tr>\n",
              "      <th>4556</th>\n",
              "      <td>https://cdn.sofifa.com/players/225/541/21_60.png</td>\n",
              "      <td>Aboubakar Kamara</td>\n",
              "      <td>http://sofifa.com/player/225541/aboubakar-kama...</td>\n",
              "      <td>France</td>\n",
              "      <td>ST RW</td>\n",
              "      <td>A. Kamara</td>\n",
              "      <td>25.0</td>\n",
              "      <td>70.0</td>\n",
              "      <td>73.0</td>\n",
              "      <td>\\n\\n\\n\\nFulham\\n2017 ~ 2024\\n\\n</td>\n",
              "      <td>...</td>\n",
              "      <td>28.0</td>\n",
              "      <td>[, , , , Fulham, 2017 ~ 2024, , ]</td>\n",
              "      <td></td>\n",
              "      <td></td>\n",
              "      <td></td>\n",
              "      <td></td>\n",
              "      <td>Fulham</td>\n",
              "      <td>2017 ~ 2024</td>\n",
              "      <td></td>\n",
              "      <td></td>\n",
              "    </tr>\n",
              "    <tr>\n",
              "      <th>4557</th>\n",
              "      <td>https://cdn.sofifa.com/players/168/965/21_60.png</td>\n",
              "      <td>Rémy Riou</td>\n",
              "      <td>http://sofifa.com/player/168965/remy-riou/210005/</td>\n",
              "      <td>France</td>\n",
              "      <td>GK</td>\n",
              "      <td>R. Riou</td>\n",
              "      <td>32.0</td>\n",
              "      <td>70.0</td>\n",
              "      <td>70.0</td>\n",
              "      <td>\\n\\n\\n\\nStade Malherbe Caen\\n2019 ~ 2022\\n\\n</td>\n",
              "      <td>...</td>\n",
              "      <td>1.0</td>\n",
              "      <td>[, , , , Stade Malherbe Caen, 2019 ~ 2022, , ]</td>\n",
              "      <td></td>\n",
              "      <td></td>\n",
              "      <td></td>\n",
              "      <td></td>\n",
              "      <td>Stade Malherbe Caen</td>\n",
              "      <td>2019 ~ 2022</td>\n",
              "      <td></td>\n",
              "      <td></td>\n",
              "    </tr>\n",
              "    <tr>\n",
              "      <th>4558</th>\n",
              "      <td>https://cdn.sofifa.com/players/235/781/21_60.png</td>\n",
              "      <td>Santiago Comesaña Veiga</td>\n",
              "      <td>http://sofifa.com/player/235781/santiago-comes...</td>\n",
              "      <td>Spain</td>\n",
              "      <td>CM CDM</td>\n",
              "      <td>Santi Comesaña</td>\n",
              "      <td>23.0</td>\n",
              "      <td>70.0</td>\n",
              "      <td>76.0</td>\n",
              "      <td>\\n\\n\\n\\nRayo Vallecano\\n2016 ~ 2023\\n\\n</td>\n",
              "      <td>...</td>\n",
              "      <td>20.0</td>\n",
              "      <td>[, , , , Rayo Vallecano, 2016 ~ 2023, , ]</td>\n",
              "      <td></td>\n",
              "      <td></td>\n",
              "      <td></td>\n",
              "      <td></td>\n",
              "      <td>Rayo Vallecano</td>\n",
              "      <td>2016 ~ 2023</td>\n",
              "      <td></td>\n",
              "      <td></td>\n",
              "    </tr>\n",
              "    <tr>\n",
              "      <th>4559</th>\n",
              "      <td>https://cdn.sofifa.com/players/207/622/21_60.png</td>\n",
              "      <td>Martin Bjørnbak</td>\n",
              "      <td>http://sofifa.com/player/207622/martin-bjornba...</td>\n",
              "      <td>Norway</td>\n",
              "      <td>CB</td>\n",
              "      <td>M. Bjørnbak</td>\n",
              "      <td>28.0</td>\n",
              "      <td>70.0</td>\n",
              "      <td>71.0</td>\n",
              "      <td>\\n\\n\\n\\nMolde FK\\n2019 ~ 2022\\n\\n</td>\n",
              "      <td>...</td>\n",
              "      <td>4.0</td>\n",
              "      <td>[, , , , Molde FK, 2019 ~ 2022, , ]</td>\n",
              "      <td></td>\n",
              "      <td></td>\n",
              "      <td></td>\n",
              "      <td></td>\n",
              "      <td>Molde FK</td>\n",
              "      <td>2019 ~ 2022</td>\n",
              "      <td></td>\n",
              "      <td></td>\n",
              "    </tr>\n",
              "    <tr>\n",
              "      <th>4560</th>\n",
              "      <td>https://cdn.sofifa.com/players/212/231/21_60.png</td>\n",
              "      <td>Tobias Pereira Fig</td>\n",
              "      <td>NaN</td>\n",
              "      <td>NaN</td>\n",
              "      <td>NaN</td>\n",
              "      <td>NaN</td>\n",
              "      <td>NaN</td>\n",
              "      <td>NaN</td>\n",
              "      <td>NaN</td>\n",
              "      <td>nan</td>\n",
              "      <td>...</td>\n",
              "      <td>NaN</td>\n",
              "      <td>[nan]</td>\n",
              "      <td>nan</td>\n",
              "      <td>None</td>\n",
              "      <td>None</td>\n",
              "      <td>None</td>\n",
              "      <td>None</td>\n",
              "      <td>None</td>\n",
              "      <td>None</td>\n",
              "      <td>None</td>\n",
              "    </tr>\n",
              "  </tbody>\n",
              "</table>\n",
              "<p>4561 rows × 101 columns</p>\n",
              "</div>\n",
              "      <button class=\"colab-df-convert\" onclick=\"convertToInteractive('df-f81aa143-288b-4e9d-a207-e3ba2d04a57e')\"\n",
              "              title=\"Convert this dataframe to an interactive table.\"\n",
              "              style=\"display:none;\">\n",
              "\n",
              "  <svg xmlns=\"http://www.w3.org/2000/svg\" height=\"24px\"viewBox=\"0 0 24 24\"\n",
              "       width=\"24px\">\n",
              "    <path d=\"M0 0h24v24H0V0z\" fill=\"none\"/>\n",
              "    <path d=\"M18.56 5.44l.94 2.06.94-2.06 2.06-.94-2.06-.94-.94-2.06-.94 2.06-2.06.94zm-11 1L8.5 8.5l.94-2.06 2.06-.94-2.06-.94L8.5 2.5l-.94 2.06-2.06.94zm10 10l.94 2.06.94-2.06 2.06-.94-2.06-.94-.94-2.06-.94 2.06-2.06.94z\"/><path d=\"M17.41 7.96l-1.37-1.37c-.4-.4-.92-.59-1.43-.59-.52 0-1.04.2-1.43.59L10.3 9.45l-7.72 7.72c-.78.78-.78 2.05 0 2.83L4 21.41c.39.39.9.59 1.41.59.51 0 1.02-.2 1.41-.59l7.78-7.78 2.81-2.81c.8-.78.8-2.07 0-2.86zM5.41 20L4 18.59l7.72-7.72 1.47 1.35L5.41 20z\"/>\n",
              "  </svg>\n",
              "      </button>\n",
              "\n",
              "\n",
              "\n",
              "    <div id=\"df-430cab63-97bf-43f8-852f-c86853ab21fb\">\n",
              "      <button class=\"colab-df-quickchart\" onclick=\"quickchart('df-430cab63-97bf-43f8-852f-c86853ab21fb')\"\n",
              "              title=\"Suggest charts.\"\n",
              "              style=\"display:none;\">\n",
              "\n",
              "<svg xmlns=\"http://www.w3.org/2000/svg\" height=\"24px\"viewBox=\"0 0 24 24\"\n",
              "     width=\"24px\">\n",
              "    <g>\n",
              "        <path d=\"M19 3H5c-1.1 0-2 .9-2 2v14c0 1.1.9 2 2 2h14c1.1 0 2-.9 2-2V5c0-1.1-.9-2-2-2zM9 17H7v-7h2v7zm4 0h-2V7h2v10zm4 0h-2v-4h2v4z\"/>\n",
              "    </g>\n",
              "</svg>\n",
              "      </button>\n",
              "    </div>\n",
              "\n",
              "<style>\n",
              "  .colab-df-quickchart {\n",
              "    background-color: #E8F0FE;\n",
              "    border: none;\n",
              "    border-radius: 50%;\n",
              "    cursor: pointer;\n",
              "    display: none;\n",
              "    fill: #1967D2;\n",
              "    height: 32px;\n",
              "    padding: 0 0 0 0;\n",
              "    width: 32px;\n",
              "  }\n",
              "\n",
              "  .colab-df-quickchart:hover {\n",
              "    background-color: #E2EBFA;\n",
              "    box-shadow: 0px 1px 2px rgba(60, 64, 67, 0.3), 0px 1px 3px 1px rgba(60, 64, 67, 0.15);\n",
              "    fill: #174EA6;\n",
              "  }\n",
              "\n",
              "  [theme=dark] .colab-df-quickchart {\n",
              "    background-color: #3B4455;\n",
              "    fill: #D2E3FC;\n",
              "  }\n",
              "\n",
              "  [theme=dark] .colab-df-quickchart:hover {\n",
              "    background-color: #434B5C;\n",
              "    box-shadow: 0px 1px 3px 1px rgba(0, 0, 0, 0.15);\n",
              "    filter: drop-shadow(0px 1px 2px rgba(0, 0, 0, 0.3));\n",
              "    fill: #FFFFFF;\n",
              "  }\n",
              "</style>\n",
              "\n",
              "    <script>\n",
              "      async function quickchart(key) {\n",
              "        const containerElement = document.querySelector('#' + key);\n",
              "        const charts = await google.colab.kernel.invokeFunction(\n",
              "            'suggestCharts', [key], {});\n",
              "      }\n",
              "    </script>\n",
              "\n",
              "      <script>\n",
              "\n",
              "function displayQuickchartButton(domScope) {\n",
              "  let quickchartButtonEl =\n",
              "    domScope.querySelector('#df-430cab63-97bf-43f8-852f-c86853ab21fb button.colab-df-quickchart');\n",
              "  quickchartButtonEl.style.display =\n",
              "    google.colab.kernel.accessAllowed ? 'block' : 'none';\n",
              "}\n",
              "\n",
              "        displayQuickchartButton(document);\n",
              "      </script>\n",
              "      <style>\n",
              "    .colab-df-container {\n",
              "      display:flex;\n",
              "      flex-wrap:wrap;\n",
              "      gap: 12px;\n",
              "    }\n",
              "\n",
              "    .colab-df-convert {\n",
              "      background-color: #E8F0FE;\n",
              "      border: none;\n",
              "      border-radius: 50%;\n",
              "      cursor: pointer;\n",
              "      display: none;\n",
              "      fill: #1967D2;\n",
              "      height: 32px;\n",
              "      padding: 0 0 0 0;\n",
              "      width: 32px;\n",
              "    }\n",
              "\n",
              "    .colab-df-convert:hover {\n",
              "      background-color: #E2EBFA;\n",
              "      box-shadow: 0px 1px 2px rgba(60, 64, 67, 0.3), 0px 1px 3px 1px rgba(60, 64, 67, 0.15);\n",
              "      fill: #174EA6;\n",
              "    }\n",
              "\n",
              "    [theme=dark] .colab-df-convert {\n",
              "      background-color: #3B4455;\n",
              "      fill: #D2E3FC;\n",
              "    }\n",
              "\n",
              "    [theme=dark] .colab-df-convert:hover {\n",
              "      background-color: #434B5C;\n",
              "      box-shadow: 0px 1px 3px 1px rgba(0, 0, 0, 0.15);\n",
              "      filter: drop-shadow(0px 1px 2px rgba(0, 0, 0, 0.3));\n",
              "      fill: #FFFFFF;\n",
              "    }\n",
              "  </style>\n",
              "\n",
              "      <script>\n",
              "        const buttonEl =\n",
              "          document.querySelector('#df-f81aa143-288b-4e9d-a207-e3ba2d04a57e button.colab-df-convert');\n",
              "        buttonEl.style.display =\n",
              "          google.colab.kernel.accessAllowed ? 'block' : 'none';\n",
              "\n",
              "        async function convertToInteractive(key) {\n",
              "          const element = document.querySelector('#df-f81aa143-288b-4e9d-a207-e3ba2d04a57e');\n",
              "          const dataTable =\n",
              "            await google.colab.kernel.invokeFunction('convertToInteractive',\n",
              "                                                     [key], {});\n",
              "          if (!dataTable) return;\n",
              "\n",
              "          const docLinkHtml = 'Like what you see? Visit the ' +\n",
              "            '<a target=\"_blank\" href=https://colab.research.google.com/notebooks/data_table.ipynb>data table notebook</a>'\n",
              "            + ' to learn more about interactive tables.';\n",
              "          element.innerHTML = '';\n",
              "          dataTable['output_type'] = 'display_data';\n",
              "          await google.colab.output.renderOutput(dataTable, element);\n",
              "          const docLink = document.createElement('div');\n",
              "          docLink.innerHTML = docLinkHtml;\n",
              "          element.appendChild(docLink);\n",
              "        }\n",
              "      </script>\n",
              "    </div>\n",
              "  </div>\n"
            ]
          },
          "metadata": {},
          "execution_count": 97
        }
      ]
    },
    {
      "cell_type": "code",
      "source": [
        "datos=datos.drop(columns=['blanco0','blanco1','blanco2','blanco3','blanco6','blanco7'])"
      ],
      "metadata": {
        "id": "fmk2lJiBp4Y4"
      },
      "execution_count": 98,
      "outputs": []
    },
    {
      "cell_type": "code",
      "source": [],
      "metadata": {
        "id": "60UJb3q-qSgN"
      },
      "execution_count": null,
      "outputs": []
    },
    {
      "cell_type": "code",
      "source": [
        "datos"
      ],
      "metadata": {
        "colab": {
          "base_uri": "https://localhost:8080/",
          "height": 1000
        },
        "id": "hbfMnJZvqMUM",
        "outputId": "0791fbe4-226a-4b7a-939c-8c90727695b5"
      },
      "execution_count": 99,
      "outputs": [
        {
          "output_type": "execute_result",
          "data": {
            "text/plain": [
              "                                              photoUrl  \\\n",
              "0     https://cdn.sofifa.com/players/158/023/21_60.png   \n",
              "1     https://cdn.sofifa.com/players/020/801/21_60.png   \n",
              "2     https://cdn.sofifa.com/players/200/389/21_60.png   \n",
              "3     https://cdn.sofifa.com/players/192/985/21_60.png   \n",
              "4     https://cdn.sofifa.com/players/190/871/21_60.png   \n",
              "...                                                ...   \n",
              "4556  https://cdn.sofifa.com/players/225/541/21_60.png   \n",
              "4557  https://cdn.sofifa.com/players/168/965/21_60.png   \n",
              "4558  https://cdn.sofifa.com/players/235/781/21_60.png   \n",
              "4559  https://cdn.sofifa.com/players/207/622/21_60.png   \n",
              "4560  https://cdn.sofifa.com/players/212/231/21_60.png   \n",
              "\n",
              "                          LongName  \\\n",
              "0                     Lionel Messi   \n",
              "1     C. Ronaldo dos Santos Aveiro   \n",
              "2                        Jan Oblak   \n",
              "3                  Kevin De Bruyne   \n",
              "4       Neymar da Silva Santos Jr.   \n",
              "...                            ...   \n",
              "4556              Aboubakar Kamara   \n",
              "4557                     Rémy Riou   \n",
              "4558       Santiago Comesaña Veiga   \n",
              "4559               Martin Bjørnbak   \n",
              "4560            Tobias Pereira Fig   \n",
              "\n",
              "                                              playerUrl Nationality Positions  \\\n",
              "0     http://sofifa.com/player/158023/lionel-messi/2...   Argentina  RW ST CF   \n",
              "1     http://sofifa.com/player/20801/c-ronaldo-dos-s...    Portugal     ST LW   \n",
              "2     http://sofifa.com/player/200389/jan-oblak/210005/    Slovenia        GK   \n",
              "3     http://sofifa.com/player/192985/kevin-de-bruyn...     Belgium    CAM CM   \n",
              "4     http://sofifa.com/player/190871/neymar-da-silv...      Brazil    LW CAM   \n",
              "...                                                 ...         ...       ...   \n",
              "4556  http://sofifa.com/player/225541/aboubakar-kama...      France     ST RW   \n",
              "4557  http://sofifa.com/player/168965/remy-riou/210005/      France        GK   \n",
              "4558  http://sofifa.com/player/235781/santiago-comes...       Spain    CM CDM   \n",
              "4559  http://sofifa.com/player/207622/martin-bjornba...      Norway        CB   \n",
              "4560                                                NaN         NaN       NaN   \n",
              "\n",
              "                   Name   Age  ↓OVA   POT  \\\n",
              "0              L. Messi  33.0  93.0  93.0   \n",
              "1     Cristiano Ronaldo  35.0  92.0  92.0   \n",
              "2              J. Oblak  27.0  91.0  93.0   \n",
              "3          K. De Bruyne  29.0  91.0  91.0   \n",
              "4             Neymar Jr  28.0  91.0  91.0   \n",
              "...                 ...   ...   ...   ...   \n",
              "4556          A. Kamara  25.0  70.0  73.0   \n",
              "4557            R. Riou  32.0  70.0  70.0   \n",
              "4558     Santi Comesaña  23.0  70.0  76.0   \n",
              "4559        M. Bjørnbak  28.0  70.0  71.0   \n",
              "4560                NaN   NaN   NaN   NaN   \n",
              "\n",
              "                                   Team & Contract  ...  Wage Final  \\\n",
              "0            \\n\\n\\n\\nFC Barcelona\\n2004 ~ 2021\\n\\n  ...    560000.0   \n",
              "1                \\n\\n\\n\\nJuventus\\n2018 ~ 2022\\n\\n  ...    220000.0   \n",
              "2         \\n\\n\\n\\nAtlético Madrid\\n2014 ~ 2023\\n\\n  ...    125000.0   \n",
              "3         \\n\\n\\n\\nManchester City\\n2015 ~ 2023\\n\\n  ...    370000.0   \n",
              "4     \\n\\n\\n\\nParis Saint-Germain\\n2017 ~ 2022\\n\\n  ...    270000.0   \n",
              "...                                            ...  ...         ...   \n",
              "4556               \\n\\n\\n\\nFulham\\n2017 ~ 2024\\n\\n  ...     47000.0   \n",
              "4557  \\n\\n\\n\\nStade Malherbe Caen\\n2019 ~ 2022\\n\\n  ...      4000.0   \n",
              "4558       \\n\\n\\n\\nRayo Vallecano\\n2016 ~ 2023\\n\\n  ...      4000.0   \n",
              "4559             \\n\\n\\n\\nMolde FK\\n2019 ~ 2022\\n\\n  ...      5000.0   \n",
              "4560                                           nan  ...         NaN   \n",
              "\n",
              "      ReleaseNum RealeaseTipo  RealeaseFinal hitsnum  hitsvalor hitsfinal  \\\n",
              "0          138.4    1000000.0    138400000.0   372.0          1     372.0   \n",
              "1           75.9    1000000.0     75900000.0   344.0          1     344.0   \n",
              "2          159.4    1000000.0    159400000.0    86.0          1      86.0   \n",
              "3          161.0    1000000.0    161000000.0   163.0          1     163.0   \n",
              "4          166.5    1000000.0    166500000.0   273.0          1     273.0   \n",
              "...          ...          ...            ...     ...        ...       ...   \n",
              "4556         4.5    1000000.0      4500000.0    28.0          1      28.0   \n",
              "4557         2.0    1000000.0      2000000.0     1.0          1       1.0   \n",
              "4558         4.3    1000000.0      4300000.0    20.0          1      20.0   \n",
              "4559         2.3    1000000.0      2300000.0     4.0          1       4.0   \n",
              "4560         NaN          NaN            NaN     NaN          1       NaN   \n",
              "\n",
              "                                              prueba                 Team  \\\n",
              "0            [, , , , FC Barcelona, 2004 ~ 2021, , ]         FC Barcelona   \n",
              "1                [, , , , Juventus, 2018 ~ 2022, , ]             Juventus   \n",
              "2         [, , , , Atlético Madrid, 2014 ~ 2023, , ]      Atlético Madrid   \n",
              "3         [, , , , Manchester City, 2015 ~ 2023, , ]      Manchester City   \n",
              "4     [, , , , Paris Saint-Germain, 2017 ~ 2022, , ]  Paris Saint-Germain   \n",
              "...                                              ...                  ...   \n",
              "4556               [, , , , Fulham, 2017 ~ 2024, , ]               Fulham   \n",
              "4557  [, , , , Stade Malherbe Caen, 2019 ~ 2022, , ]  Stade Malherbe Caen   \n",
              "4558       [, , , , Rayo Vallecano, 2016 ~ 2023, , ]       Rayo Vallecano   \n",
              "4559             [, , , , Molde FK, 2019 ~ 2022, , ]             Molde FK   \n",
              "4560                                           [nan]                 None   \n",
              "\n",
              "         Contract  \n",
              "0     2004 ~ 2021  \n",
              "1     2018 ~ 2022  \n",
              "2     2014 ~ 2023  \n",
              "3     2015 ~ 2023  \n",
              "4     2017 ~ 2022  \n",
              "...           ...  \n",
              "4556  2017 ~ 2024  \n",
              "4557  2019 ~ 2022  \n",
              "4558  2016 ~ 2023  \n",
              "4559  2019 ~ 2022  \n",
              "4560         None  \n",
              "\n",
              "[4561 rows x 95 columns]"
            ],
            "text/html": [
              "\n",
              "\n",
              "  <div id=\"df-cdb51ac6-4225-40f4-946f-58e494dc39ef\">\n",
              "    <div class=\"colab-df-container\">\n",
              "      <div>\n",
              "<style scoped>\n",
              "    .dataframe tbody tr th:only-of-type {\n",
              "        vertical-align: middle;\n",
              "    }\n",
              "\n",
              "    .dataframe tbody tr th {\n",
              "        vertical-align: top;\n",
              "    }\n",
              "\n",
              "    .dataframe thead th {\n",
              "        text-align: right;\n",
              "    }\n",
              "</style>\n",
              "<table border=\"1\" class=\"dataframe\">\n",
              "  <thead>\n",
              "    <tr style=\"text-align: right;\">\n",
              "      <th></th>\n",
              "      <th>photoUrl</th>\n",
              "      <th>LongName</th>\n",
              "      <th>playerUrl</th>\n",
              "      <th>Nationality</th>\n",
              "      <th>Positions</th>\n",
              "      <th>Name</th>\n",
              "      <th>Age</th>\n",
              "      <th>↓OVA</th>\n",
              "      <th>POT</th>\n",
              "      <th>Team &amp; Contract</th>\n",
              "      <th>...</th>\n",
              "      <th>Wage Final</th>\n",
              "      <th>ReleaseNum</th>\n",
              "      <th>RealeaseTipo</th>\n",
              "      <th>RealeaseFinal</th>\n",
              "      <th>hitsnum</th>\n",
              "      <th>hitsvalor</th>\n",
              "      <th>hitsfinal</th>\n",
              "      <th>prueba</th>\n",
              "      <th>Team</th>\n",
              "      <th>Contract</th>\n",
              "    </tr>\n",
              "  </thead>\n",
              "  <tbody>\n",
              "    <tr>\n",
              "      <th>0</th>\n",
              "      <td>https://cdn.sofifa.com/players/158/023/21_60.png</td>\n",
              "      <td>Lionel Messi</td>\n",
              "      <td>http://sofifa.com/player/158023/lionel-messi/2...</td>\n",
              "      <td>Argentina</td>\n",
              "      <td>RW ST CF</td>\n",
              "      <td>L. Messi</td>\n",
              "      <td>33.0</td>\n",
              "      <td>93.0</td>\n",
              "      <td>93.0</td>\n",
              "      <td>\\n\\n\\n\\nFC Barcelona\\n2004 ~ 2021\\n\\n</td>\n",
              "      <td>...</td>\n",
              "      <td>560000.0</td>\n",
              "      <td>138.4</td>\n",
              "      <td>1000000.0</td>\n",
              "      <td>138400000.0</td>\n",
              "      <td>372.0</td>\n",
              "      <td>1</td>\n",
              "      <td>372.0</td>\n",
              "      <td>[, , , , FC Barcelona, 2004 ~ 2021, , ]</td>\n",
              "      <td>FC Barcelona</td>\n",
              "      <td>2004 ~ 2021</td>\n",
              "    </tr>\n",
              "    <tr>\n",
              "      <th>1</th>\n",
              "      <td>https://cdn.sofifa.com/players/020/801/21_60.png</td>\n",
              "      <td>C. Ronaldo dos Santos Aveiro</td>\n",
              "      <td>http://sofifa.com/player/20801/c-ronaldo-dos-s...</td>\n",
              "      <td>Portugal</td>\n",
              "      <td>ST LW</td>\n",
              "      <td>Cristiano Ronaldo</td>\n",
              "      <td>35.0</td>\n",
              "      <td>92.0</td>\n",
              "      <td>92.0</td>\n",
              "      <td>\\n\\n\\n\\nJuventus\\n2018 ~ 2022\\n\\n</td>\n",
              "      <td>...</td>\n",
              "      <td>220000.0</td>\n",
              "      <td>75.9</td>\n",
              "      <td>1000000.0</td>\n",
              "      <td>75900000.0</td>\n",
              "      <td>344.0</td>\n",
              "      <td>1</td>\n",
              "      <td>344.0</td>\n",
              "      <td>[, , , , Juventus, 2018 ~ 2022, , ]</td>\n",
              "      <td>Juventus</td>\n",
              "      <td>2018 ~ 2022</td>\n",
              "    </tr>\n",
              "    <tr>\n",
              "      <th>2</th>\n",
              "      <td>https://cdn.sofifa.com/players/200/389/21_60.png</td>\n",
              "      <td>Jan Oblak</td>\n",
              "      <td>http://sofifa.com/player/200389/jan-oblak/210005/</td>\n",
              "      <td>Slovenia</td>\n",
              "      <td>GK</td>\n",
              "      <td>J. Oblak</td>\n",
              "      <td>27.0</td>\n",
              "      <td>91.0</td>\n",
              "      <td>93.0</td>\n",
              "      <td>\\n\\n\\n\\nAtlético Madrid\\n2014 ~ 2023\\n\\n</td>\n",
              "      <td>...</td>\n",
              "      <td>125000.0</td>\n",
              "      <td>159.4</td>\n",
              "      <td>1000000.0</td>\n",
              "      <td>159400000.0</td>\n",
              "      <td>86.0</td>\n",
              "      <td>1</td>\n",
              "      <td>86.0</td>\n",
              "      <td>[, , , , Atlético Madrid, 2014 ~ 2023, , ]</td>\n",
              "      <td>Atlético Madrid</td>\n",
              "      <td>2014 ~ 2023</td>\n",
              "    </tr>\n",
              "    <tr>\n",
              "      <th>3</th>\n",
              "      <td>https://cdn.sofifa.com/players/192/985/21_60.png</td>\n",
              "      <td>Kevin De Bruyne</td>\n",
              "      <td>http://sofifa.com/player/192985/kevin-de-bruyn...</td>\n",
              "      <td>Belgium</td>\n",
              "      <td>CAM CM</td>\n",
              "      <td>K. De Bruyne</td>\n",
              "      <td>29.0</td>\n",
              "      <td>91.0</td>\n",
              "      <td>91.0</td>\n",
              "      <td>\\n\\n\\n\\nManchester City\\n2015 ~ 2023\\n\\n</td>\n",
              "      <td>...</td>\n",
              "      <td>370000.0</td>\n",
              "      <td>161.0</td>\n",
              "      <td>1000000.0</td>\n",
              "      <td>161000000.0</td>\n",
              "      <td>163.0</td>\n",
              "      <td>1</td>\n",
              "      <td>163.0</td>\n",
              "      <td>[, , , , Manchester City, 2015 ~ 2023, , ]</td>\n",
              "      <td>Manchester City</td>\n",
              "      <td>2015 ~ 2023</td>\n",
              "    </tr>\n",
              "    <tr>\n",
              "      <th>4</th>\n",
              "      <td>https://cdn.sofifa.com/players/190/871/21_60.png</td>\n",
              "      <td>Neymar da Silva Santos Jr.</td>\n",
              "      <td>http://sofifa.com/player/190871/neymar-da-silv...</td>\n",
              "      <td>Brazil</td>\n",
              "      <td>LW CAM</td>\n",
              "      <td>Neymar Jr</td>\n",
              "      <td>28.0</td>\n",
              "      <td>91.0</td>\n",
              "      <td>91.0</td>\n",
              "      <td>\\n\\n\\n\\nParis Saint-Germain\\n2017 ~ 2022\\n\\n</td>\n",
              "      <td>...</td>\n",
              "      <td>270000.0</td>\n",
              "      <td>166.5</td>\n",
              "      <td>1000000.0</td>\n",
              "      <td>166500000.0</td>\n",
              "      <td>273.0</td>\n",
              "      <td>1</td>\n",
              "      <td>273.0</td>\n",
              "      <td>[, , , , Paris Saint-Germain, 2017 ~ 2022, , ]</td>\n",
              "      <td>Paris Saint-Germain</td>\n",
              "      <td>2017 ~ 2022</td>\n",
              "    </tr>\n",
              "    <tr>\n",
              "      <th>...</th>\n",
              "      <td>...</td>\n",
              "      <td>...</td>\n",
              "      <td>...</td>\n",
              "      <td>...</td>\n",
              "      <td>...</td>\n",
              "      <td>...</td>\n",
              "      <td>...</td>\n",
              "      <td>...</td>\n",
              "      <td>...</td>\n",
              "      <td>...</td>\n",
              "      <td>...</td>\n",
              "      <td>...</td>\n",
              "      <td>...</td>\n",
              "      <td>...</td>\n",
              "      <td>...</td>\n",
              "      <td>...</td>\n",
              "      <td>...</td>\n",
              "      <td>...</td>\n",
              "      <td>...</td>\n",
              "      <td>...</td>\n",
              "      <td>...</td>\n",
              "    </tr>\n",
              "    <tr>\n",
              "      <th>4556</th>\n",
              "      <td>https://cdn.sofifa.com/players/225/541/21_60.png</td>\n",
              "      <td>Aboubakar Kamara</td>\n",
              "      <td>http://sofifa.com/player/225541/aboubakar-kama...</td>\n",
              "      <td>France</td>\n",
              "      <td>ST RW</td>\n",
              "      <td>A. Kamara</td>\n",
              "      <td>25.0</td>\n",
              "      <td>70.0</td>\n",
              "      <td>73.0</td>\n",
              "      <td>\\n\\n\\n\\nFulham\\n2017 ~ 2024\\n\\n</td>\n",
              "      <td>...</td>\n",
              "      <td>47000.0</td>\n",
              "      <td>4.5</td>\n",
              "      <td>1000000.0</td>\n",
              "      <td>4500000.0</td>\n",
              "      <td>28.0</td>\n",
              "      <td>1</td>\n",
              "      <td>28.0</td>\n",
              "      <td>[, , , , Fulham, 2017 ~ 2024, , ]</td>\n",
              "      <td>Fulham</td>\n",
              "      <td>2017 ~ 2024</td>\n",
              "    </tr>\n",
              "    <tr>\n",
              "      <th>4557</th>\n",
              "      <td>https://cdn.sofifa.com/players/168/965/21_60.png</td>\n",
              "      <td>Rémy Riou</td>\n",
              "      <td>http://sofifa.com/player/168965/remy-riou/210005/</td>\n",
              "      <td>France</td>\n",
              "      <td>GK</td>\n",
              "      <td>R. Riou</td>\n",
              "      <td>32.0</td>\n",
              "      <td>70.0</td>\n",
              "      <td>70.0</td>\n",
              "      <td>\\n\\n\\n\\nStade Malherbe Caen\\n2019 ~ 2022\\n\\n</td>\n",
              "      <td>...</td>\n",
              "      <td>4000.0</td>\n",
              "      <td>2.0</td>\n",
              "      <td>1000000.0</td>\n",
              "      <td>2000000.0</td>\n",
              "      <td>1.0</td>\n",
              "      <td>1</td>\n",
              "      <td>1.0</td>\n",
              "      <td>[, , , , Stade Malherbe Caen, 2019 ~ 2022, , ]</td>\n",
              "      <td>Stade Malherbe Caen</td>\n",
              "      <td>2019 ~ 2022</td>\n",
              "    </tr>\n",
              "    <tr>\n",
              "      <th>4558</th>\n",
              "      <td>https://cdn.sofifa.com/players/235/781/21_60.png</td>\n",
              "      <td>Santiago Comesaña Veiga</td>\n",
              "      <td>http://sofifa.com/player/235781/santiago-comes...</td>\n",
              "      <td>Spain</td>\n",
              "      <td>CM CDM</td>\n",
              "      <td>Santi Comesaña</td>\n",
              "      <td>23.0</td>\n",
              "      <td>70.0</td>\n",
              "      <td>76.0</td>\n",
              "      <td>\\n\\n\\n\\nRayo Vallecano\\n2016 ~ 2023\\n\\n</td>\n",
              "      <td>...</td>\n",
              "      <td>4000.0</td>\n",
              "      <td>4.3</td>\n",
              "      <td>1000000.0</td>\n",
              "      <td>4300000.0</td>\n",
              "      <td>20.0</td>\n",
              "      <td>1</td>\n",
              "      <td>20.0</td>\n",
              "      <td>[, , , , Rayo Vallecano, 2016 ~ 2023, , ]</td>\n",
              "      <td>Rayo Vallecano</td>\n",
              "      <td>2016 ~ 2023</td>\n",
              "    </tr>\n",
              "    <tr>\n",
              "      <th>4559</th>\n",
              "      <td>https://cdn.sofifa.com/players/207/622/21_60.png</td>\n",
              "      <td>Martin Bjørnbak</td>\n",
              "      <td>http://sofifa.com/player/207622/martin-bjornba...</td>\n",
              "      <td>Norway</td>\n",
              "      <td>CB</td>\n",
              "      <td>M. Bjørnbak</td>\n",
              "      <td>28.0</td>\n",
              "      <td>70.0</td>\n",
              "      <td>71.0</td>\n",
              "      <td>\\n\\n\\n\\nMolde FK\\n2019 ~ 2022\\n\\n</td>\n",
              "      <td>...</td>\n",
              "      <td>5000.0</td>\n",
              "      <td>2.3</td>\n",
              "      <td>1000000.0</td>\n",
              "      <td>2300000.0</td>\n",
              "      <td>4.0</td>\n",
              "      <td>1</td>\n",
              "      <td>4.0</td>\n",
              "      <td>[, , , , Molde FK, 2019 ~ 2022, , ]</td>\n",
              "      <td>Molde FK</td>\n",
              "      <td>2019 ~ 2022</td>\n",
              "    </tr>\n",
              "    <tr>\n",
              "      <th>4560</th>\n",
              "      <td>https://cdn.sofifa.com/players/212/231/21_60.png</td>\n",
              "      <td>Tobias Pereira Fig</td>\n",
              "      <td>NaN</td>\n",
              "      <td>NaN</td>\n",
              "      <td>NaN</td>\n",
              "      <td>NaN</td>\n",
              "      <td>NaN</td>\n",
              "      <td>NaN</td>\n",
              "      <td>NaN</td>\n",
              "      <td>nan</td>\n",
              "      <td>...</td>\n",
              "      <td>NaN</td>\n",
              "      <td>NaN</td>\n",
              "      <td>NaN</td>\n",
              "      <td>NaN</td>\n",
              "      <td>NaN</td>\n",
              "      <td>1</td>\n",
              "      <td>NaN</td>\n",
              "      <td>[nan]</td>\n",
              "      <td>None</td>\n",
              "      <td>None</td>\n",
              "    </tr>\n",
              "  </tbody>\n",
              "</table>\n",
              "<p>4561 rows × 95 columns</p>\n",
              "</div>\n",
              "      <button class=\"colab-df-convert\" onclick=\"convertToInteractive('df-cdb51ac6-4225-40f4-946f-58e494dc39ef')\"\n",
              "              title=\"Convert this dataframe to an interactive table.\"\n",
              "              style=\"display:none;\">\n",
              "\n",
              "  <svg xmlns=\"http://www.w3.org/2000/svg\" height=\"24px\"viewBox=\"0 0 24 24\"\n",
              "       width=\"24px\">\n",
              "    <path d=\"M0 0h24v24H0V0z\" fill=\"none\"/>\n",
              "    <path d=\"M18.56 5.44l.94 2.06.94-2.06 2.06-.94-2.06-.94-.94-2.06-.94 2.06-2.06.94zm-11 1L8.5 8.5l.94-2.06 2.06-.94-2.06-.94L8.5 2.5l-.94 2.06-2.06.94zm10 10l.94 2.06.94-2.06 2.06-.94-2.06-.94-.94-2.06-.94 2.06-2.06.94z\"/><path d=\"M17.41 7.96l-1.37-1.37c-.4-.4-.92-.59-1.43-.59-.52 0-1.04.2-1.43.59L10.3 9.45l-7.72 7.72c-.78.78-.78 2.05 0 2.83L4 21.41c.39.39.9.59 1.41.59.51 0 1.02-.2 1.41-.59l7.78-7.78 2.81-2.81c.8-.78.8-2.07 0-2.86zM5.41 20L4 18.59l7.72-7.72 1.47 1.35L5.41 20z\"/>\n",
              "  </svg>\n",
              "      </button>\n",
              "\n",
              "\n",
              "\n",
              "    <div id=\"df-fe12dea2-0ef4-4e79-831e-e1941deb8a35\">\n",
              "      <button class=\"colab-df-quickchart\" onclick=\"quickchart('df-fe12dea2-0ef4-4e79-831e-e1941deb8a35')\"\n",
              "              title=\"Suggest charts.\"\n",
              "              style=\"display:none;\">\n",
              "\n",
              "<svg xmlns=\"http://www.w3.org/2000/svg\" height=\"24px\"viewBox=\"0 0 24 24\"\n",
              "     width=\"24px\">\n",
              "    <g>\n",
              "        <path d=\"M19 3H5c-1.1 0-2 .9-2 2v14c0 1.1.9 2 2 2h14c1.1 0 2-.9 2-2V5c0-1.1-.9-2-2-2zM9 17H7v-7h2v7zm4 0h-2V7h2v10zm4 0h-2v-4h2v4z\"/>\n",
              "    </g>\n",
              "</svg>\n",
              "      </button>\n",
              "    </div>\n",
              "\n",
              "<style>\n",
              "  .colab-df-quickchart {\n",
              "    background-color: #E8F0FE;\n",
              "    border: none;\n",
              "    border-radius: 50%;\n",
              "    cursor: pointer;\n",
              "    display: none;\n",
              "    fill: #1967D2;\n",
              "    height: 32px;\n",
              "    padding: 0 0 0 0;\n",
              "    width: 32px;\n",
              "  }\n",
              "\n",
              "  .colab-df-quickchart:hover {\n",
              "    background-color: #E2EBFA;\n",
              "    box-shadow: 0px 1px 2px rgba(60, 64, 67, 0.3), 0px 1px 3px 1px rgba(60, 64, 67, 0.15);\n",
              "    fill: #174EA6;\n",
              "  }\n",
              "\n",
              "  [theme=dark] .colab-df-quickchart {\n",
              "    background-color: #3B4455;\n",
              "    fill: #D2E3FC;\n",
              "  }\n",
              "\n",
              "  [theme=dark] .colab-df-quickchart:hover {\n",
              "    background-color: #434B5C;\n",
              "    box-shadow: 0px 1px 3px 1px rgba(0, 0, 0, 0.15);\n",
              "    filter: drop-shadow(0px 1px 2px rgba(0, 0, 0, 0.3));\n",
              "    fill: #FFFFFF;\n",
              "  }\n",
              "</style>\n",
              "\n",
              "    <script>\n",
              "      async function quickchart(key) {\n",
              "        const containerElement = document.querySelector('#' + key);\n",
              "        const charts = await google.colab.kernel.invokeFunction(\n",
              "            'suggestCharts', [key], {});\n",
              "      }\n",
              "    </script>\n",
              "\n",
              "      <script>\n",
              "\n",
              "function displayQuickchartButton(domScope) {\n",
              "  let quickchartButtonEl =\n",
              "    domScope.querySelector('#df-fe12dea2-0ef4-4e79-831e-e1941deb8a35 button.colab-df-quickchart');\n",
              "  quickchartButtonEl.style.display =\n",
              "    google.colab.kernel.accessAllowed ? 'block' : 'none';\n",
              "}\n",
              "\n",
              "        displayQuickchartButton(document);\n",
              "      </script>\n",
              "      <style>\n",
              "    .colab-df-container {\n",
              "      display:flex;\n",
              "      flex-wrap:wrap;\n",
              "      gap: 12px;\n",
              "    }\n",
              "\n",
              "    .colab-df-convert {\n",
              "      background-color: #E8F0FE;\n",
              "      border: none;\n",
              "      border-radius: 50%;\n",
              "      cursor: pointer;\n",
              "      display: none;\n",
              "      fill: #1967D2;\n",
              "      height: 32px;\n",
              "      padding: 0 0 0 0;\n",
              "      width: 32px;\n",
              "    }\n",
              "\n",
              "    .colab-df-convert:hover {\n",
              "      background-color: #E2EBFA;\n",
              "      box-shadow: 0px 1px 2px rgba(60, 64, 67, 0.3), 0px 1px 3px 1px rgba(60, 64, 67, 0.15);\n",
              "      fill: #174EA6;\n",
              "    }\n",
              "\n",
              "    [theme=dark] .colab-df-convert {\n",
              "      background-color: #3B4455;\n",
              "      fill: #D2E3FC;\n",
              "    }\n",
              "\n",
              "    [theme=dark] .colab-df-convert:hover {\n",
              "      background-color: #434B5C;\n",
              "      box-shadow: 0px 1px 3px 1px rgba(0, 0, 0, 0.15);\n",
              "      filter: drop-shadow(0px 1px 2px rgba(0, 0, 0, 0.3));\n",
              "      fill: #FFFFFF;\n",
              "    }\n",
              "  </style>\n",
              "\n",
              "      <script>\n",
              "        const buttonEl =\n",
              "          document.querySelector('#df-cdb51ac6-4225-40f4-946f-58e494dc39ef button.colab-df-convert');\n",
              "        buttonEl.style.display =\n",
              "          google.colab.kernel.accessAllowed ? 'block' : 'none';\n",
              "\n",
              "        async function convertToInteractive(key) {\n",
              "          const element = document.querySelector('#df-cdb51ac6-4225-40f4-946f-58e494dc39ef');\n",
              "          const dataTable =\n",
              "            await google.colab.kernel.invokeFunction('convertToInteractive',\n",
              "                                                     [key], {});\n",
              "          if (!dataTable) return;\n",
              "\n",
              "          const docLinkHtml = 'Like what you see? Visit the ' +\n",
              "            '<a target=\"_blank\" href=https://colab.research.google.com/notebooks/data_table.ipynb>data table notebook</a>'\n",
              "            + ' to learn more about interactive tables.';\n",
              "          element.innerHTML = '';\n",
              "          dataTable['output_type'] = 'display_data';\n",
              "          await google.colab.output.renderOutput(dataTable, element);\n",
              "          const docLink = document.createElement('div');\n",
              "          docLink.innerHTML = docLinkHtml;\n",
              "          element.appendChild(docLink);\n",
              "        }\n",
              "      </script>\n",
              "    </div>\n",
              "  </div>\n"
            ]
          },
          "metadata": {},
          "execution_count": 99
        }
      ]
    },
    {
      "cell_type": "markdown",
      "source": [
        "datos=datos.drop(columns=['wagetipo'])\n",
        "\n",
        "```\n",
        "# Esto tiene formato de código\n",
        "```\n",
        "\n"
      ],
      "metadata": {
        "id": "tQl32uLpX96A"
      }
    },
    {
      "cell_type": "code",
      "source": [
        "datos"
      ],
      "metadata": {
        "colab": {
          "base_uri": "https://localhost:8080/",
          "height": 870
        },
        "id": "fQRggnxsqXe8",
        "outputId": "6565ee34-bcfc-4b58-aa56-2e688e5ee7c7"
      },
      "execution_count": null,
      "outputs": [
        {
          "output_type": "execute_result",
          "data": {
            "text/plain": [
              "                                               photoUrl  \\\n",
              "0      https://cdn.sofifa.com/players/158/023/21_60.png   \n",
              "1      https://cdn.sofifa.com/players/020/801/21_60.png   \n",
              "2      https://cdn.sofifa.com/players/200/389/21_60.png   \n",
              "3      https://cdn.sofifa.com/players/192/985/21_60.png   \n",
              "4      https://cdn.sofifa.com/players/190/871/21_60.png   \n",
              "...                                                 ...   \n",
              "18974  https://cdn.sofifa.com/players/257/710/21_60.png   \n",
              "18975  https://cdn.sofifa.com/players/258/736/21_60.png   \n",
              "18976  https://cdn.sofifa.com/players/247/223/21_60.png   \n",
              "18977  https://cdn.sofifa.com/players/258/760/21_60.png   \n",
              "18978  https://cdn.sofifa.com/players/255/958/21_60.png   \n",
              "\n",
              "                           LongName  \\\n",
              "0                      Lionel Messi   \n",
              "1      C. Ronaldo dos Santos Aveiro   \n",
              "2                         Jan Oblak   \n",
              "3                   Kevin De Bruyne   \n",
              "4        Neymar da Silva Santos Jr.   \n",
              "...                             ...   \n",
              "18974                Mengxuan Zhang   \n",
              "18975                 Vani Da Silva   \n",
              "18976                        Ao Xia   \n",
              "18977                     Ben Hough   \n",
              "18978                  Mateo Flores   \n",
              "\n",
              "                                               playerUrl Nationality  \\\n",
              "0      http://sofifa.com/player/158023/lionel-messi/2...   Argentina   \n",
              "1      http://sofifa.com/player/20801/c-ronaldo-dos-s...    Portugal   \n",
              "2      http://sofifa.com/player/200389/jan-oblak/210005/    Slovenia   \n",
              "3      http://sofifa.com/player/192985/kevin-de-bruyn...     Belgium   \n",
              "4      http://sofifa.com/player/190871/neymar-da-silv...      Brazil   \n",
              "...                                                  ...         ...   \n",
              "18974  http://sofifa.com/player/257710/mengxuan-zhang...    China PR   \n",
              "18975  http://sofifa.com/player/258736/vani-da-silva/...     England   \n",
              "18976     http://sofifa.com/player/247223/ao-xia/210005/    China PR   \n",
              "18977  http://sofifa.com/player/258760/ben-hough/210005/     England   \n",
              "18978  http://sofifa.com/player/255958/mateo-flores/2...     Bolivia   \n",
              "\n",
              "      Positions               Name  Age  ↓OVA  POT  \\\n",
              "0      RW ST CF           L. Messi   33    93   93   \n",
              "1         ST LW  Cristiano Ronaldo   35    92   92   \n",
              "2            GK           J. Oblak   27    91   93   \n",
              "3        CAM CM       K. De Bruyne   29    91   91   \n",
              "4        LW CAM          Neymar Jr   28    91   91   \n",
              "...         ...                ...  ...   ...  ...   \n",
              "18974        CB     Zhang Mengxuan   21    47   52   \n",
              "18975        ST        V. Da Silva   17    47   67   \n",
              "18976        CB             Xia Ao   21    47   55   \n",
              "18977        CM           B. Hough   17    47   67   \n",
              "18978       CDM          M. Flores   19    47   63   \n",
              "\n",
              "                                         Team & Contract  ...  wagetipo  \\\n",
              "0                  \\n\\n\\n\\nFC Barcelona\\n2004 ~ 2021\\n\\n  ...      1000   \n",
              "1                      \\n\\n\\n\\nJuventus\\n2018 ~ 2022\\n\\n  ...      1000   \n",
              "2               \\n\\n\\n\\nAtlético Madrid\\n2014 ~ 2023\\n\\n  ...      1000   \n",
              "3               \\n\\n\\n\\nManchester City\\n2015 ~ 2023\\n\\n  ...      1000   \n",
              "4           \\n\\n\\n\\nParis Saint-Germain\\n2017 ~ 2022\\n\\n  ...      1000   \n",
              "...                                                  ...  ...       ...   \n",
              "18974  \\n\\n\\n\\nChongqing Dangdai Lifan FC SWM Team\\n2...  ...      1000   \n",
              "18975           \\n\\n\\n\\nOldham Athletic\\n2020 ~ 2021\\n\\n  ...         1   \n",
              "18976                \\n\\n\\n\\nWuhan Zall\\n2018 ~ 2022\\n\\n  ...      1000   \n",
              "18977           \\n\\n\\n\\nOldham Athletic\\n2020 ~ 2021\\n\\n  ...         1   \n",
              "18978              \\n\\n\\n\\nClub Bolívar\\n2020 ~ 2024\\n\\n  ...         1   \n",
              "\n",
              "       Wage Final ReleaseNum  RealeaseTipo RealeaseFinal  hitsvalor hitsnum  \\\n",
              "0          560000      138.4     1000000.0   138400000.0          1   372.0   \n",
              "1          220000       75.9     1000000.0    75900000.0          1   344.0   \n",
              "2          125000      159.4     1000000.0   159400000.0          1    86.0   \n",
              "3          370000      161.0     1000000.0   161000000.0          1   163.0   \n",
              "4          270000      166.5     1000000.0   166500000.0          1   273.0   \n",
              "...           ...        ...           ...           ...        ...     ...   \n",
              "18974        1000       57.0        1000.0       57000.0          1     2.0   \n",
              "18975         500      165.0        1000.0      165000.0          1     3.0   \n",
              "18976        1000       70.0        1000.0       70000.0          1     3.0   \n",
              "18977         500      165.0        1000.0      165000.0          1     5.0   \n",
              "18978         500      167.0        1000.0      167000.0          1     2.0   \n",
              "\n",
              "      hitsfinal                                 Team     Contract  \n",
              "0         372.0                         FC Barcelona  2004 ~ 2021  \n",
              "1         344.0                             Juventus  2018 ~ 2022  \n",
              "2          86.0                      Atlético Madrid  2014 ~ 2023  \n",
              "3         163.0                      Manchester City  2015 ~ 2023  \n",
              "4         273.0                  Paris Saint-Germain  2017 ~ 2022  \n",
              "...         ...                                  ...          ...  \n",
              "18974       2.0  Chongqing Dangdai Lifan FC SWM Team  2020 ~ 2020  \n",
              "18975       3.0                      Oldham Athletic  2020 ~ 2021  \n",
              "18976       3.0                           Wuhan Zall  2018 ~ 2022  \n",
              "18977       5.0                      Oldham Athletic  2020 ~ 2021  \n",
              "18978       2.0                         Club Bolívar  2020 ~ 2024  \n",
              "\n",
              "[18979 rows x 94 columns]"
            ],
            "text/html": [
              "\n",
              "\n",
              "  <div id=\"df-364a4240-afe7-45a8-a60f-6457aae1eaa1\">\n",
              "    <div class=\"colab-df-container\">\n",
              "      <div>\n",
              "<style scoped>\n",
              "    .dataframe tbody tr th:only-of-type {\n",
              "        vertical-align: middle;\n",
              "    }\n",
              "\n",
              "    .dataframe tbody tr th {\n",
              "        vertical-align: top;\n",
              "    }\n",
              "\n",
              "    .dataframe thead th {\n",
              "        text-align: right;\n",
              "    }\n",
              "</style>\n",
              "<table border=\"1\" class=\"dataframe\">\n",
              "  <thead>\n",
              "    <tr style=\"text-align: right;\">\n",
              "      <th></th>\n",
              "      <th>photoUrl</th>\n",
              "      <th>LongName</th>\n",
              "      <th>playerUrl</th>\n",
              "      <th>Nationality</th>\n",
              "      <th>Positions</th>\n",
              "      <th>Name</th>\n",
              "      <th>Age</th>\n",
              "      <th>↓OVA</th>\n",
              "      <th>POT</th>\n",
              "      <th>Team &amp; Contract</th>\n",
              "      <th>...</th>\n",
              "      <th>wagetipo</th>\n",
              "      <th>Wage Final</th>\n",
              "      <th>ReleaseNum</th>\n",
              "      <th>RealeaseTipo</th>\n",
              "      <th>RealeaseFinal</th>\n",
              "      <th>hitsvalor</th>\n",
              "      <th>hitsnum</th>\n",
              "      <th>hitsfinal</th>\n",
              "      <th>Team</th>\n",
              "      <th>Contract</th>\n",
              "    </tr>\n",
              "  </thead>\n",
              "  <tbody>\n",
              "    <tr>\n",
              "      <th>0</th>\n",
              "      <td>https://cdn.sofifa.com/players/158/023/21_60.png</td>\n",
              "      <td>Lionel Messi</td>\n",
              "      <td>http://sofifa.com/player/158023/lionel-messi/2...</td>\n",
              "      <td>Argentina</td>\n",
              "      <td>RW ST CF</td>\n",
              "      <td>L. Messi</td>\n",
              "      <td>33</td>\n",
              "      <td>93</td>\n",
              "      <td>93</td>\n",
              "      <td>\\n\\n\\n\\nFC Barcelona\\n2004 ~ 2021\\n\\n</td>\n",
              "      <td>...</td>\n",
              "      <td>1000</td>\n",
              "      <td>560000</td>\n",
              "      <td>138.4</td>\n",
              "      <td>1000000.0</td>\n",
              "      <td>138400000.0</td>\n",
              "      <td>1</td>\n",
              "      <td>372.0</td>\n",
              "      <td>372.0</td>\n",
              "      <td>FC Barcelona</td>\n",
              "      <td>2004 ~ 2021</td>\n",
              "    </tr>\n",
              "    <tr>\n",
              "      <th>1</th>\n",
              "      <td>https://cdn.sofifa.com/players/020/801/21_60.png</td>\n",
              "      <td>C. Ronaldo dos Santos Aveiro</td>\n",
              "      <td>http://sofifa.com/player/20801/c-ronaldo-dos-s...</td>\n",
              "      <td>Portugal</td>\n",
              "      <td>ST LW</td>\n",
              "      <td>Cristiano Ronaldo</td>\n",
              "      <td>35</td>\n",
              "      <td>92</td>\n",
              "      <td>92</td>\n",
              "      <td>\\n\\n\\n\\nJuventus\\n2018 ~ 2022\\n\\n</td>\n",
              "      <td>...</td>\n",
              "      <td>1000</td>\n",
              "      <td>220000</td>\n",
              "      <td>75.9</td>\n",
              "      <td>1000000.0</td>\n",
              "      <td>75900000.0</td>\n",
              "      <td>1</td>\n",
              "      <td>344.0</td>\n",
              "      <td>344.0</td>\n",
              "      <td>Juventus</td>\n",
              "      <td>2018 ~ 2022</td>\n",
              "    </tr>\n",
              "    <tr>\n",
              "      <th>2</th>\n",
              "      <td>https://cdn.sofifa.com/players/200/389/21_60.png</td>\n",
              "      <td>Jan Oblak</td>\n",
              "      <td>http://sofifa.com/player/200389/jan-oblak/210005/</td>\n",
              "      <td>Slovenia</td>\n",
              "      <td>GK</td>\n",
              "      <td>J. Oblak</td>\n",
              "      <td>27</td>\n",
              "      <td>91</td>\n",
              "      <td>93</td>\n",
              "      <td>\\n\\n\\n\\nAtlético Madrid\\n2014 ~ 2023\\n\\n</td>\n",
              "      <td>...</td>\n",
              "      <td>1000</td>\n",
              "      <td>125000</td>\n",
              "      <td>159.4</td>\n",
              "      <td>1000000.0</td>\n",
              "      <td>159400000.0</td>\n",
              "      <td>1</td>\n",
              "      <td>86.0</td>\n",
              "      <td>86.0</td>\n",
              "      <td>Atlético Madrid</td>\n",
              "      <td>2014 ~ 2023</td>\n",
              "    </tr>\n",
              "    <tr>\n",
              "      <th>3</th>\n",
              "      <td>https://cdn.sofifa.com/players/192/985/21_60.png</td>\n",
              "      <td>Kevin De Bruyne</td>\n",
              "      <td>http://sofifa.com/player/192985/kevin-de-bruyn...</td>\n",
              "      <td>Belgium</td>\n",
              "      <td>CAM CM</td>\n",
              "      <td>K. De Bruyne</td>\n",
              "      <td>29</td>\n",
              "      <td>91</td>\n",
              "      <td>91</td>\n",
              "      <td>\\n\\n\\n\\nManchester City\\n2015 ~ 2023\\n\\n</td>\n",
              "      <td>...</td>\n",
              "      <td>1000</td>\n",
              "      <td>370000</td>\n",
              "      <td>161.0</td>\n",
              "      <td>1000000.0</td>\n",
              "      <td>161000000.0</td>\n",
              "      <td>1</td>\n",
              "      <td>163.0</td>\n",
              "      <td>163.0</td>\n",
              "      <td>Manchester City</td>\n",
              "      <td>2015 ~ 2023</td>\n",
              "    </tr>\n",
              "    <tr>\n",
              "      <th>4</th>\n",
              "      <td>https://cdn.sofifa.com/players/190/871/21_60.png</td>\n",
              "      <td>Neymar da Silva Santos Jr.</td>\n",
              "      <td>http://sofifa.com/player/190871/neymar-da-silv...</td>\n",
              "      <td>Brazil</td>\n",
              "      <td>LW CAM</td>\n",
              "      <td>Neymar Jr</td>\n",
              "      <td>28</td>\n",
              "      <td>91</td>\n",
              "      <td>91</td>\n",
              "      <td>\\n\\n\\n\\nParis Saint-Germain\\n2017 ~ 2022\\n\\n</td>\n",
              "      <td>...</td>\n",
              "      <td>1000</td>\n",
              "      <td>270000</td>\n",
              "      <td>166.5</td>\n",
              "      <td>1000000.0</td>\n",
              "      <td>166500000.0</td>\n",
              "      <td>1</td>\n",
              "      <td>273.0</td>\n",
              "      <td>273.0</td>\n",
              "      <td>Paris Saint-Germain</td>\n",
              "      <td>2017 ~ 2022</td>\n",
              "    </tr>\n",
              "    <tr>\n",
              "      <th>...</th>\n",
              "      <td>...</td>\n",
              "      <td>...</td>\n",
              "      <td>...</td>\n",
              "      <td>...</td>\n",
              "      <td>...</td>\n",
              "      <td>...</td>\n",
              "      <td>...</td>\n",
              "      <td>...</td>\n",
              "      <td>...</td>\n",
              "      <td>...</td>\n",
              "      <td>...</td>\n",
              "      <td>...</td>\n",
              "      <td>...</td>\n",
              "      <td>...</td>\n",
              "      <td>...</td>\n",
              "      <td>...</td>\n",
              "      <td>...</td>\n",
              "      <td>...</td>\n",
              "      <td>...</td>\n",
              "      <td>...</td>\n",
              "      <td>...</td>\n",
              "    </tr>\n",
              "    <tr>\n",
              "      <th>18974</th>\n",
              "      <td>https://cdn.sofifa.com/players/257/710/21_60.png</td>\n",
              "      <td>Mengxuan Zhang</td>\n",
              "      <td>http://sofifa.com/player/257710/mengxuan-zhang...</td>\n",
              "      <td>China PR</td>\n",
              "      <td>CB</td>\n",
              "      <td>Zhang Mengxuan</td>\n",
              "      <td>21</td>\n",
              "      <td>47</td>\n",
              "      <td>52</td>\n",
              "      <td>\\n\\n\\n\\nChongqing Dangdai Lifan FC SWM Team\\n2...</td>\n",
              "      <td>...</td>\n",
              "      <td>1000</td>\n",
              "      <td>1000</td>\n",
              "      <td>57.0</td>\n",
              "      <td>1000.0</td>\n",
              "      <td>57000.0</td>\n",
              "      <td>1</td>\n",
              "      <td>2.0</td>\n",
              "      <td>2.0</td>\n",
              "      <td>Chongqing Dangdai Lifan FC SWM Team</td>\n",
              "      <td>2020 ~ 2020</td>\n",
              "    </tr>\n",
              "    <tr>\n",
              "      <th>18975</th>\n",
              "      <td>https://cdn.sofifa.com/players/258/736/21_60.png</td>\n",
              "      <td>Vani Da Silva</td>\n",
              "      <td>http://sofifa.com/player/258736/vani-da-silva/...</td>\n",
              "      <td>England</td>\n",
              "      <td>ST</td>\n",
              "      <td>V. Da Silva</td>\n",
              "      <td>17</td>\n",
              "      <td>47</td>\n",
              "      <td>67</td>\n",
              "      <td>\\n\\n\\n\\nOldham Athletic\\n2020 ~ 2021\\n\\n</td>\n",
              "      <td>...</td>\n",
              "      <td>1</td>\n",
              "      <td>500</td>\n",
              "      <td>165.0</td>\n",
              "      <td>1000.0</td>\n",
              "      <td>165000.0</td>\n",
              "      <td>1</td>\n",
              "      <td>3.0</td>\n",
              "      <td>3.0</td>\n",
              "      <td>Oldham Athletic</td>\n",
              "      <td>2020 ~ 2021</td>\n",
              "    </tr>\n",
              "    <tr>\n",
              "      <th>18976</th>\n",
              "      <td>https://cdn.sofifa.com/players/247/223/21_60.png</td>\n",
              "      <td>Ao Xia</td>\n",
              "      <td>http://sofifa.com/player/247223/ao-xia/210005/</td>\n",
              "      <td>China PR</td>\n",
              "      <td>CB</td>\n",
              "      <td>Xia Ao</td>\n",
              "      <td>21</td>\n",
              "      <td>47</td>\n",
              "      <td>55</td>\n",
              "      <td>\\n\\n\\n\\nWuhan Zall\\n2018 ~ 2022\\n\\n</td>\n",
              "      <td>...</td>\n",
              "      <td>1000</td>\n",
              "      <td>1000</td>\n",
              "      <td>70.0</td>\n",
              "      <td>1000.0</td>\n",
              "      <td>70000.0</td>\n",
              "      <td>1</td>\n",
              "      <td>3.0</td>\n",
              "      <td>3.0</td>\n",
              "      <td>Wuhan Zall</td>\n",
              "      <td>2018 ~ 2022</td>\n",
              "    </tr>\n",
              "    <tr>\n",
              "      <th>18977</th>\n",
              "      <td>https://cdn.sofifa.com/players/258/760/21_60.png</td>\n",
              "      <td>Ben Hough</td>\n",
              "      <td>http://sofifa.com/player/258760/ben-hough/210005/</td>\n",
              "      <td>England</td>\n",
              "      <td>CM</td>\n",
              "      <td>B. Hough</td>\n",
              "      <td>17</td>\n",
              "      <td>47</td>\n",
              "      <td>67</td>\n",
              "      <td>\\n\\n\\n\\nOldham Athletic\\n2020 ~ 2021\\n\\n</td>\n",
              "      <td>...</td>\n",
              "      <td>1</td>\n",
              "      <td>500</td>\n",
              "      <td>165.0</td>\n",
              "      <td>1000.0</td>\n",
              "      <td>165000.0</td>\n",
              "      <td>1</td>\n",
              "      <td>5.0</td>\n",
              "      <td>5.0</td>\n",
              "      <td>Oldham Athletic</td>\n",
              "      <td>2020 ~ 2021</td>\n",
              "    </tr>\n",
              "    <tr>\n",
              "      <th>18978</th>\n",
              "      <td>https://cdn.sofifa.com/players/255/958/21_60.png</td>\n",
              "      <td>Mateo Flores</td>\n",
              "      <td>http://sofifa.com/player/255958/mateo-flores/2...</td>\n",
              "      <td>Bolivia</td>\n",
              "      <td>CDM</td>\n",
              "      <td>M. Flores</td>\n",
              "      <td>19</td>\n",
              "      <td>47</td>\n",
              "      <td>63</td>\n",
              "      <td>\\n\\n\\n\\nClub Bolívar\\n2020 ~ 2024\\n\\n</td>\n",
              "      <td>...</td>\n",
              "      <td>1</td>\n",
              "      <td>500</td>\n",
              "      <td>167.0</td>\n",
              "      <td>1000.0</td>\n",
              "      <td>167000.0</td>\n",
              "      <td>1</td>\n",
              "      <td>2.0</td>\n",
              "      <td>2.0</td>\n",
              "      <td>Club Bolívar</td>\n",
              "      <td>2020 ~ 2024</td>\n",
              "    </tr>\n",
              "  </tbody>\n",
              "</table>\n",
              "<p>18979 rows × 94 columns</p>\n",
              "</div>\n",
              "      <button class=\"colab-df-convert\" onclick=\"convertToInteractive('df-364a4240-afe7-45a8-a60f-6457aae1eaa1')\"\n",
              "              title=\"Convert this dataframe to an interactive table.\"\n",
              "              style=\"display:none;\">\n",
              "\n",
              "  <svg xmlns=\"http://www.w3.org/2000/svg\" height=\"24px\"viewBox=\"0 0 24 24\"\n",
              "       width=\"24px\">\n",
              "    <path d=\"M0 0h24v24H0V0z\" fill=\"none\"/>\n",
              "    <path d=\"M18.56 5.44l.94 2.06.94-2.06 2.06-.94-2.06-.94-.94-2.06-.94 2.06-2.06.94zm-11 1L8.5 8.5l.94-2.06 2.06-.94-2.06-.94L8.5 2.5l-.94 2.06-2.06.94zm10 10l.94 2.06.94-2.06 2.06-.94-2.06-.94-.94-2.06-.94 2.06-2.06.94z\"/><path d=\"M17.41 7.96l-1.37-1.37c-.4-.4-.92-.59-1.43-.59-.52 0-1.04.2-1.43.59L10.3 9.45l-7.72 7.72c-.78.78-.78 2.05 0 2.83L4 21.41c.39.39.9.59 1.41.59.51 0 1.02-.2 1.41-.59l7.78-7.78 2.81-2.81c.8-.78.8-2.07 0-2.86zM5.41 20L4 18.59l7.72-7.72 1.47 1.35L5.41 20z\"/>\n",
              "  </svg>\n",
              "      </button>\n",
              "\n",
              "\n",
              "\n",
              "    <div id=\"df-23205e13-b067-4179-878f-b570c5a0d96c\">\n",
              "      <button class=\"colab-df-quickchart\" onclick=\"quickchart('df-23205e13-b067-4179-878f-b570c5a0d96c')\"\n",
              "              title=\"Suggest charts.\"\n",
              "              style=\"display:none;\">\n",
              "\n",
              "<svg xmlns=\"http://www.w3.org/2000/svg\" height=\"24px\"viewBox=\"0 0 24 24\"\n",
              "     width=\"24px\">\n",
              "    <g>\n",
              "        <path d=\"M19 3H5c-1.1 0-2 .9-2 2v14c0 1.1.9 2 2 2h14c1.1 0 2-.9 2-2V5c0-1.1-.9-2-2-2zM9 17H7v-7h2v7zm4 0h-2V7h2v10zm4 0h-2v-4h2v4z\"/>\n",
              "    </g>\n",
              "</svg>\n",
              "      </button>\n",
              "    </div>\n",
              "\n",
              "<style>\n",
              "  .colab-df-quickchart {\n",
              "    background-color: #E8F0FE;\n",
              "    border: none;\n",
              "    border-radius: 50%;\n",
              "    cursor: pointer;\n",
              "    display: none;\n",
              "    fill: #1967D2;\n",
              "    height: 32px;\n",
              "    padding: 0 0 0 0;\n",
              "    width: 32px;\n",
              "  }\n",
              "\n",
              "  .colab-df-quickchart:hover {\n",
              "    background-color: #E2EBFA;\n",
              "    box-shadow: 0px 1px 2px rgba(60, 64, 67, 0.3), 0px 1px 3px 1px rgba(60, 64, 67, 0.15);\n",
              "    fill: #174EA6;\n",
              "  }\n",
              "\n",
              "  [theme=dark] .colab-df-quickchart {\n",
              "    background-color: #3B4455;\n",
              "    fill: #D2E3FC;\n",
              "  }\n",
              "\n",
              "  [theme=dark] .colab-df-quickchart:hover {\n",
              "    background-color: #434B5C;\n",
              "    box-shadow: 0px 1px 3px 1px rgba(0, 0, 0, 0.15);\n",
              "    filter: drop-shadow(0px 1px 2px rgba(0, 0, 0, 0.3));\n",
              "    fill: #FFFFFF;\n",
              "  }\n",
              "</style>\n",
              "\n",
              "    <script>\n",
              "      async function quickchart(key) {\n",
              "        const containerElement = document.querySelector('#' + key);\n",
              "        const charts = await google.colab.kernel.invokeFunction(\n",
              "            'suggestCharts', [key], {});\n",
              "      }\n",
              "    </script>\n",
              "\n",
              "      <script>\n",
              "\n",
              "function displayQuickchartButton(domScope) {\n",
              "  let quickchartButtonEl =\n",
              "    domScope.querySelector('#df-23205e13-b067-4179-878f-b570c5a0d96c button.colab-df-quickchart');\n",
              "  quickchartButtonEl.style.display =\n",
              "    google.colab.kernel.accessAllowed ? 'block' : 'none';\n",
              "}\n",
              "\n",
              "        displayQuickchartButton(document);\n",
              "      </script>\n",
              "      <style>\n",
              "    .colab-df-container {\n",
              "      display:flex;\n",
              "      flex-wrap:wrap;\n",
              "      gap: 12px;\n",
              "    }\n",
              "\n",
              "    .colab-df-convert {\n",
              "      background-color: #E8F0FE;\n",
              "      border: none;\n",
              "      border-radius: 50%;\n",
              "      cursor: pointer;\n",
              "      display: none;\n",
              "      fill: #1967D2;\n",
              "      height: 32px;\n",
              "      padding: 0 0 0 0;\n",
              "      width: 32px;\n",
              "    }\n",
              "\n",
              "    .colab-df-convert:hover {\n",
              "      background-color: #E2EBFA;\n",
              "      box-shadow: 0px 1px 2px rgba(60, 64, 67, 0.3), 0px 1px 3px 1px rgba(60, 64, 67, 0.15);\n",
              "      fill: #174EA6;\n",
              "    }\n",
              "\n",
              "    [theme=dark] .colab-df-convert {\n",
              "      background-color: #3B4455;\n",
              "      fill: #D2E3FC;\n",
              "    }\n",
              "\n",
              "    [theme=dark] .colab-df-convert:hover {\n",
              "      background-color: #434B5C;\n",
              "      box-shadow: 0px 1px 3px 1px rgba(0, 0, 0, 0.15);\n",
              "      filter: drop-shadow(0px 1px 2px rgba(0, 0, 0, 0.3));\n",
              "      fill: #FFFFFF;\n",
              "    }\n",
              "  </style>\n",
              "\n",
              "      <script>\n",
              "        const buttonEl =\n",
              "          document.querySelector('#df-364a4240-afe7-45a8-a60f-6457aae1eaa1 button.colab-df-convert');\n",
              "        buttonEl.style.display =\n",
              "          google.colab.kernel.accessAllowed ? 'block' : 'none';\n",
              "\n",
              "        async function convertToInteractive(key) {\n",
              "          const element = document.querySelector('#df-364a4240-afe7-45a8-a60f-6457aae1eaa1');\n",
              "          const dataTable =\n",
              "            await google.colab.kernel.invokeFunction('convertToInteractive',\n",
              "                                                     [key], {});\n",
              "          if (!dataTable) return;\n",
              "\n",
              "          const docLinkHtml = 'Like what you see? Visit the ' +\n",
              "            '<a target=\"_blank\" href=https://colab.research.google.com/notebooks/data_table.ipynb>data table notebook</a>'\n",
              "            + ' to learn more about interactive tables.';\n",
              "          element.innerHTML = '';\n",
              "          dataTable['output_type'] = 'display_data';\n",
              "          await google.colab.output.renderOutput(dataTable, element);\n",
              "          const docLink = document.createElement('div');\n",
              "          docLink.innerHTML = docLinkHtml;\n",
              "          element.appendChild(docLink);\n",
              "        }\n",
              "      </script>\n",
              "    </div>\n",
              "  </div>\n"
            ]
          },
          "metadata": {},
          "execution_count": 331
        }
      ]
    }
  ]
}